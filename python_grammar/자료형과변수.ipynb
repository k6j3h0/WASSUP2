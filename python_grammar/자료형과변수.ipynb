{
 "cells": [
  {
   "cell_type": "code",
   "execution_count": 2,
   "id": "c867950e",
   "metadata": {
    "ExecuteTime": {
     "end_time": "2024-02-27T02:17:38.400669Z",
     "start_time": "2024-02-27T02:17:38.397180Z"
    }
   },
   "outputs": [],
   "source": [
    ">>> a = 123\n",
    ">>> a = -178\n",
    ">>> a = 0"
   ]
  },
  {
   "cell_type": "code",
   "execution_count": 3,
   "id": "122d78a3",
   "metadata": {
    "ExecuteTime": {
     "end_time": "2024-02-27T02:17:43.774915Z",
     "start_time": "2024-02-27T02:17:43.771768Z"
    }
   },
   "outputs": [],
   "source": [
    ">>> a = 1.2\n",
    ">>> a = -3.45\n"
   ]
  },
  {
   "cell_type": "code",
   "execution_count": 4,
   "id": "7a0a899c",
   "metadata": {
    "ExecuteTime": {
     "end_time": "2024-02-27T02:17:47.977037Z",
     "start_time": "2024-02-27T02:17:47.973215Z"
    }
   },
   "outputs": [],
   "source": [
    ">>> a = 4.24E10\n",
    ">>> a = 4.24e-10\n"
   ]
  },
  {
   "cell_type": "code",
   "execution_count": 6,
   "id": "b33e443e",
   "metadata": {
    "ExecuteTime": {
     "end_time": "2024-02-27T02:18:02.978170Z",
     "start_time": "2024-02-27T02:18:02.972976Z"
    }
   },
   "outputs": [
    {
     "name": "stdout",
     "output_type": "stream",
     "text": [
      "127\n"
     ]
    }
   ],
   "source": [
    ">>> a = 0o177\n",
    ">>> print(a)"
   ]
  },
  {
   "cell_type": "code",
   "execution_count": 8,
   "id": "707f066f",
   "metadata": {
    "ExecuteTime": {
     "end_time": "2024-02-27T02:18:14.701333Z",
     "start_time": "2024-02-27T02:18:14.696833Z"
    }
   },
   "outputs": [
    {
     "name": "stdout",
     "output_type": "stream",
     "text": [
      "2748\n"
     ]
    }
   ],
   "source": [
    ">>> a = 0x8ff\n",
    ">>> b = 0xABC\n",
    ">>> print(b)"
   ]
  },
  {
   "cell_type": "markdown",
   "id": "c3afffae",
   "metadata": {},
   "source": [
    "# 사칙연산"
   ]
  },
  {
   "cell_type": "code",
   "execution_count": 11,
   "id": "0c7ccae7",
   "metadata": {
    "ExecuteTime": {
     "end_time": "2024-02-27T02:25:25.343850Z",
     "start_time": "2024-02-27T02:25:25.338315Z"
    },
    "scrolled": true
   },
   "outputs": [
    {
     "data": {
      "text/plain": [
       "0.75"
      ]
     },
     "execution_count": 11,
     "metadata": {},
     "output_type": "execute_result"
    }
   ],
   "source": [
    ">>> a = 3\n",
    ">>> b = 4\n",
    ">>> a + b\n",
    "\n",
    ">>> a - b\n",
    "\n",
    ">>> a * b\n",
    "\n",
    ">>> a / b\n"
   ]
  },
  {
   "cell_type": "code",
   "execution_count": 12,
   "id": "4e49cbb1",
   "metadata": {
    "ExecuteTime": {
     "end_time": "2024-02-27T02:25:37.577898Z",
     "start_time": "2024-02-27T02:25:37.572695Z"
    }
   },
   "outputs": [
    {
     "data": {
      "text/plain": [
       "81"
      ]
     },
     "execution_count": 12,
     "metadata": {},
     "output_type": "execute_result"
    }
   ],
   "source": [
    ">>> a = 3\n",
    ">>> b = 4\n",
    ">>> a ** b"
   ]
  },
  {
   "cell_type": "markdown",
   "id": "96f93bcc",
   "metadata": {},
   "source": [
    "# 문자열 자료형"
   ]
  },
  {
   "cell_type": "code",
   "execution_count": 13,
   "id": "b539b8d9",
   "metadata": {
    "ExecuteTime": {
     "end_time": "2024-02-27T02:36:50.776769Z",
     "start_time": "2024-02-27T02:36:50.771167Z"
    }
   },
   "outputs": [
    {
     "data": {
      "text/plain": [
       "'Hello world'"
      ]
     },
     "execution_count": 13,
     "metadata": {},
     "output_type": "execute_result"
    }
   ],
   "source": [
    "\"Hello world\""
   ]
  },
  {
   "cell_type": "code",
   "execution_count": 14,
   "id": "8bf307cb",
   "metadata": {
    "ExecuteTime": {
     "end_time": "2024-02-27T02:36:55.564628Z",
     "start_time": "2024-02-27T02:36:55.559998Z"
    }
   },
   "outputs": [
    {
     "ename": "SyntaxError",
     "evalue": "invalid syntax (2283479775.py, line 1)",
     "output_type": "error",
     "traceback": [
      "\u001b[1;36m  Cell \u001b[1;32mIn[14], line 1\u001b[1;36m\u001b[0m\n\u001b[1;33m    Hello world\u001b[0m\n\u001b[1;37m          ^\u001b[0m\n\u001b[1;31mSyntaxError\u001b[0m\u001b[1;31m:\u001b[0m invalid syntax\n"
     ]
    }
   ],
   "source": [
    "Hello world"
   ]
  },
  {
   "cell_type": "code",
   "execution_count": 15,
   "id": "9e249069",
   "metadata": {
    "ExecuteTime": {
     "end_time": "2024-02-27T02:37:10.677509Z",
     "start_time": "2024-02-27T02:37:10.671616Z"
    }
   },
   "outputs": [
    {
     "data": {
      "text/plain": [
       "'Hello world'"
      ]
     },
     "execution_count": 15,
     "metadata": {},
     "output_type": "execute_result"
    }
   ],
   "source": [
    "\"\"\"Hello world\"\"\""
   ]
  },
  {
   "cell_type": "code",
   "execution_count": 16,
   "id": "c10352de",
   "metadata": {
    "ExecuteTime": {
     "end_time": "2024-02-27T02:37:15.840259Z",
     "start_time": "2024-02-27T02:37:15.833651Z"
    }
   },
   "outputs": [
    {
     "ename": "SyntaxError",
     "evalue": "invalid syntax (1449894262.py, line 1)",
     "output_type": "error",
     "traceback": [
      "\u001b[1;36m  Cell \u001b[1;32mIn[16], line 1\u001b[1;36m\u001b[0m\n\u001b[1;33m    \"\"Hello world\"\"\u001b[0m\n\u001b[1;37m      ^\u001b[0m\n\u001b[1;31mSyntaxError\u001b[0m\u001b[1;31m:\u001b[0m invalid syntax\n"
     ]
    }
   ],
   "source": [
    "\"\"Hello world\"\""
   ]
  },
  {
   "cell_type": "code",
   "execution_count": null,
   "id": "7d901be9",
   "metadata": {},
   "outputs": [],
   "source": []
  }
 ],
 "metadata": {
  "kernelspec": {
   "display_name": "Python 3 (ipykernel)",
   "language": "python",
   "name": "python3"
  },
  "language_info": {
   "codemirror_mode": {
    "name": "ipython",
    "version": 3
   },
   "file_extension": ".py",
   "mimetype": "text/x-python",
   "name": "python",
   "nbconvert_exporter": "python",
   "pygments_lexer": "ipython3",
   "version": "3.11.5"
  },
  "toc": {
   "base_numbering": 1,
   "nav_menu": {},
   "number_sections": true,
   "sideBar": true,
   "skip_h1_title": false,
   "title_cell": "Table of Contents",
   "title_sidebar": "Contents",
   "toc_cell": false,
   "toc_position": {},
   "toc_section_display": true,
   "toc_window_display": true
  }
 },
 "nbformat": 4,
 "nbformat_minor": 5
}
