{
 "cells": [
  {
   "cell_type": "markdown",
   "id": "505d7d0a",
   "metadata": {},
   "source": [
    "# 숫자형"
   ]
  },
  {
   "cell_type": "code",
   "execution_count": 2,
   "id": "c867950e",
   "metadata": {
    "ExecuteTime": {
     "end_time": "2024-02-27T02:17:38.400669Z",
     "start_time": "2024-02-27T02:17:38.397180Z"
    }
   },
   "outputs": [],
   "source": [
    ">>> a = 123\n",
    ">>> a = -178\n",
    ">>> a = 0"
   ]
  },
  {
   "cell_type": "code",
   "execution_count": 3,
   "id": "122d78a3",
   "metadata": {
    "ExecuteTime": {
     "end_time": "2024-02-27T02:17:43.774915Z",
     "start_time": "2024-02-27T02:17:43.771768Z"
    }
   },
   "outputs": [],
   "source": [
    ">>> a = 1.2\n",
    ">>> a = -3.45\n"
   ]
  },
  {
   "cell_type": "code",
   "execution_count": 4,
   "id": "7a0a899c",
   "metadata": {
    "ExecuteTime": {
     "end_time": "2024-02-27T02:17:47.977037Z",
     "start_time": "2024-02-27T02:17:47.973215Z"
    }
   },
   "outputs": [],
   "source": [
    ">>> a = 4.24E10\n",
    ">>> a = 4.24e-10\n"
   ]
  },
  {
   "cell_type": "code",
   "execution_count": 6,
   "id": "b33e443e",
   "metadata": {
    "ExecuteTime": {
     "end_time": "2024-02-27T02:18:02.978170Z",
     "start_time": "2024-02-27T02:18:02.972976Z"
    }
   },
   "outputs": [
    {
     "name": "stdout",
     "output_type": "stream",
     "text": [
      "127\n"
     ]
    }
   ],
   "source": [
    ">>> a = 0o177\n",
    ">>> print(a)"
   ]
  },
  {
   "cell_type": "code",
   "execution_count": 8,
   "id": "707f066f",
   "metadata": {
    "ExecuteTime": {
     "end_time": "2024-02-27T02:18:14.701333Z",
     "start_time": "2024-02-27T02:18:14.696833Z"
    }
   },
   "outputs": [
    {
     "name": "stdout",
     "output_type": "stream",
     "text": [
      "2748\n"
     ]
    }
   ],
   "source": [
    ">>> a = 0x8ff\n",
    ">>> b = 0xABC\n",
    ">>> print(b)"
   ]
  },
  {
   "cell_type": "markdown",
   "id": "c3afffae",
   "metadata": {},
   "source": [
    "## 사칙연산"
   ]
  },
  {
   "cell_type": "code",
   "execution_count": 11,
   "id": "0c7ccae7",
   "metadata": {
    "ExecuteTime": {
     "end_time": "2024-02-27T02:25:25.343850Z",
     "start_time": "2024-02-27T02:25:25.338315Z"
    },
    "scrolled": true
   },
   "outputs": [
    {
     "data": {
      "text/plain": [
       "0.75"
      ]
     },
     "execution_count": 11,
     "metadata": {},
     "output_type": "execute_result"
    }
   ],
   "source": [
    ">>> a = 3\n",
    ">>> b = 4\n",
    ">>> a + b\n",
    "\n",
    ">>> a - b\n",
    "\n",
    ">>> a * b\n",
    "\n",
    ">>> a / b\n"
   ]
  },
  {
   "cell_type": "code",
   "execution_count": 12,
   "id": "4e49cbb1",
   "metadata": {
    "ExecuteTime": {
     "end_time": "2024-02-27T02:25:37.577898Z",
     "start_time": "2024-02-27T02:25:37.572695Z"
    }
   },
   "outputs": [
    {
     "data": {
      "text/plain": [
       "81"
      ]
     },
     "execution_count": 12,
     "metadata": {},
     "output_type": "execute_result"
    }
   ],
   "source": [
    ">>> a = 3\n",
    ">>> b = 4\n",
    ">>> a ** b"
   ]
  },
  {
   "cell_type": "markdown",
   "id": "96f93bcc",
   "metadata": {},
   "source": [
    "# 문자열 자료형"
   ]
  },
  {
   "cell_type": "code",
   "execution_count": 13,
   "id": "b539b8d9",
   "metadata": {
    "ExecuteTime": {
     "end_time": "2024-02-27T02:36:50.776769Z",
     "start_time": "2024-02-27T02:36:50.771167Z"
    }
   },
   "outputs": [
    {
     "data": {
      "text/plain": [
       "'Hello world'"
      ]
     },
     "execution_count": 13,
     "metadata": {},
     "output_type": "execute_result"
    }
   ],
   "source": [
    "\"Hello world\""
   ]
  },
  {
   "cell_type": "code",
   "execution_count": 14,
   "id": "8bf307cb",
   "metadata": {
    "ExecuteTime": {
     "end_time": "2024-02-27T02:36:55.564628Z",
     "start_time": "2024-02-27T02:36:55.559998Z"
    }
   },
   "outputs": [
    {
     "ename": "SyntaxError",
     "evalue": "invalid syntax (2283479775.py, line 1)",
     "output_type": "error",
     "traceback": [
      "\u001b[1;36m  Cell \u001b[1;32mIn[14], line 1\u001b[1;36m\u001b[0m\n\u001b[1;33m    Hello world\u001b[0m\n\u001b[1;37m          ^\u001b[0m\n\u001b[1;31mSyntaxError\u001b[0m\u001b[1;31m:\u001b[0m invalid syntax\n"
     ]
    }
   ],
   "source": [
    "Hello world"
   ]
  },
  {
   "cell_type": "code",
   "execution_count": 15,
   "id": "9e249069",
   "metadata": {
    "ExecuteTime": {
     "end_time": "2024-02-27T02:37:10.677509Z",
     "start_time": "2024-02-27T02:37:10.671616Z"
    }
   },
   "outputs": [
    {
     "data": {
      "text/plain": [
       "'Hello world'"
      ]
     },
     "execution_count": 15,
     "metadata": {},
     "output_type": "execute_result"
    }
   ],
   "source": [
    "\"\"\"Hello world\"\"\""
   ]
  },
  {
   "cell_type": "code",
   "execution_count": 16,
   "id": "c10352de",
   "metadata": {
    "ExecuteTime": {
     "end_time": "2024-02-27T02:37:15.840259Z",
     "start_time": "2024-02-27T02:37:15.833651Z"
    }
   },
   "outputs": [
    {
     "ename": "SyntaxError",
     "evalue": "invalid syntax (1449894262.py, line 1)",
     "output_type": "error",
     "traceback": [
      "\u001b[1;36m  Cell \u001b[1;32mIn[16], line 1\u001b[1;36m\u001b[0m\n\u001b[1;33m    \"\"Hello world\"\"\u001b[0m\n\u001b[1;37m      ^\u001b[0m\n\u001b[1;31mSyntaxError\u001b[0m\u001b[1;31m:\u001b[0m invalid syntax\n"
     ]
    }
   ],
   "source": [
    "\"\"Hello world\"\""
   ]
  },
  {
   "cell_type": "code",
   "execution_count": 1,
   "id": "7d901be9",
   "metadata": {
    "ExecuteTime": {
     "end_time": "2024-02-28T01:26:00.298359Z",
     "start_time": "2024-02-28T01:26:00.295467Z"
    }
   },
   "outputs": [],
   "source": [
    "multiline = \"Life is too short \\n You need python\""
   ]
  },
  {
   "cell_type": "code",
   "execution_count": 2,
   "id": "875a2bed",
   "metadata": {
    "ExecuteTime": {
     "end_time": "2024-02-28T01:26:15.370199Z",
     "start_time": "2024-02-28T01:26:15.365501Z"
    }
   },
   "outputs": [
    {
     "name": "stdout",
     "output_type": "stream",
     "text": [
      "Life is too short \n",
      " You need python\n"
     ]
    }
   ],
   "source": [
    "print(multiline)"
   ]
  },
  {
   "cell_type": "code",
   "execution_count": 3,
   "id": "3c9ddec1",
   "metadata": {
    "ExecuteTime": {
     "end_time": "2024-02-28T01:28:43.182918Z",
     "start_time": "2024-02-28T01:28:43.178648Z"
    }
   },
   "outputs": [],
   "source": [
    ">>> multiline='''\n",
    "... Life is too short\n",
    "... You need python\n",
    "... '''"
   ]
  },
  {
   "cell_type": "code",
   "execution_count": 4,
   "id": "54a5a6a8",
   "metadata": {
    "ExecuteTime": {
     "end_time": "2024-02-28T01:28:51.108871Z",
     "start_time": "2024-02-28T01:28:51.105823Z"
    }
   },
   "outputs": [
    {
     "name": "stdout",
     "output_type": "stream",
     "text": [
      "\n",
      "Life is too short\n",
      "You need python\n",
      "\n"
     ]
    }
   ],
   "source": [
    "print(multiline)"
   ]
  },
  {
   "cell_type": "markdown",
   "id": "0955e7cc",
   "metadata": {},
   "source": [
    "## 문자열 연산하기"
   ]
  },
  {
   "cell_type": "code",
   "execution_count": 5,
   "id": "296533d5",
   "metadata": {
    "ExecuteTime": {
     "end_time": "2024-02-28T01:31:25.443263Z",
     "start_time": "2024-02-28T01:31:25.435485Z"
    }
   },
   "outputs": [
    {
     "data": {
      "text/plain": [
       "'Python is fun!'"
      ]
     },
     "execution_count": 5,
     "metadata": {},
     "output_type": "execute_result"
    }
   ],
   "source": [
    "head = \"Python\"\n",
    "tail = \" is fun!\"\n",
    "head + tail\n",
    "'Python is fun!'"
   ]
  },
  {
   "cell_type": "code",
   "execution_count": 6,
   "id": "7b881d7b",
   "metadata": {
    "ExecuteTime": {
     "end_time": "2024-02-28T01:39:08.803907Z",
     "start_time": "2024-02-28T01:39:08.799326Z"
    }
   },
   "outputs": [
    {
     "data": {
      "text/plain": [
       "13"
      ]
     },
     "execution_count": 6,
     "metadata": {},
     "output_type": "execute_result"
    }
   ],
   "source": [
    "a = 'Life is short'\n",
    "len(a)"
   ]
  },
  {
   "cell_type": "markdown",
   "id": "d0d16f7f",
   "metadata": {},
   "source": [
    "## 문자열 인덱싱"
   ]
  },
  {
   "cell_type": "code",
   "execution_count": 7,
   "id": "38e5ae8b",
   "metadata": {
    "ExecuteTime": {
     "end_time": "2024-02-28T01:41:24.156466Z",
     "start_time": "2024-02-28T01:41:24.151830Z"
    }
   },
   "outputs": [],
   "source": [
    "a = \"Life is too short, You need Python\""
   ]
  },
  {
   "cell_type": "code",
   "execution_count": 8,
   "id": "dcce55a5",
   "metadata": {
    "ExecuteTime": {
     "end_time": "2024-02-28T01:41:40.132714Z",
     "start_time": "2024-02-28T01:41:40.127201Z"
    }
   },
   "outputs": [
    {
     "data": {
      "text/plain": [
       "'e'"
      ]
     },
     "execution_count": 8,
     "metadata": {},
     "output_type": "execute_result"
    }
   ],
   "source": [
    "a[3]"
   ]
  },
  {
   "cell_type": "code",
   "execution_count": 9,
   "id": "eaa89482",
   "metadata": {
    "ExecuteTime": {
     "end_time": "2024-02-28T01:43:39.609481Z",
     "start_time": "2024-02-28T01:43:39.603902Z"
    }
   },
   "outputs": [
    {
     "data": {
      "text/plain": [
       "'s'"
      ]
     },
     "execution_count": 9,
     "metadata": {},
     "output_type": "execute_result"
    }
   ],
   "source": [
    "a[12]"
   ]
  },
  {
   "cell_type": "code",
   "execution_count": 10,
   "id": "469fd66f",
   "metadata": {
    "ExecuteTime": {
     "end_time": "2024-02-28T01:43:58.021547Z",
     "start_time": "2024-02-28T01:43:58.015547Z"
    }
   },
   "outputs": [
    {
     "data": {
      "text/plain": [
       "'n'"
      ]
     },
     "execution_count": 10,
     "metadata": {},
     "output_type": "execute_result"
    }
   ],
   "source": [
    "a[-1]"
   ]
  },
  {
   "cell_type": "code",
   "execution_count": null,
   "id": "50062e14",
   "metadata": {},
   "outputs": [],
   "source": []
  },
  {
   "cell_type": "markdown",
   "id": "60494cdb",
   "metadata": {},
   "source": [
    "## 문자열 슬라이싱"
   ]
  },
  {
   "cell_type": "code",
   "execution_count": 11,
   "id": "f5bec85d",
   "metadata": {
    "ExecuteTime": {
     "end_time": "2024-02-28T01:44:55.858806Z",
     "start_time": "2024-02-28T01:44:55.854796Z"
    }
   },
   "outputs": [],
   "source": [
    "a = \"Life is too short, You need Python\"\n",
    "b = a[0] + a[1] + a[2] + a[3]"
   ]
  },
  {
   "cell_type": "code",
   "execution_count": 12,
   "id": "7f14b4fd",
   "metadata": {
    "ExecuteTime": {
     "end_time": "2024-02-28T01:44:58.234256Z",
     "start_time": "2024-02-28T01:44:58.230185Z"
    }
   },
   "outputs": [
    {
     "data": {
      "text/plain": [
       "'Life'"
      ]
     },
     "execution_count": 12,
     "metadata": {},
     "output_type": "execute_result"
    }
   ],
   "source": [
    "b"
   ]
  },
  {
   "cell_type": "code",
   "execution_count": 13,
   "id": "6c0c1eb4",
   "metadata": {
    "ExecuteTime": {
     "end_time": "2024-02-28T01:46:02.812020Z",
     "start_time": "2024-02-28T01:46:02.805398Z"
    }
   },
   "outputs": [
    {
     "data": {
      "text/plain": [
       "'Life'"
      ]
     },
     "execution_count": 13,
     "metadata": {},
     "output_type": "execute_result"
    }
   ],
   "source": [
    "a[0:4]"
   ]
  },
  {
   "cell_type": "code",
   "execution_count": 14,
   "id": "813f7a70",
   "metadata": {
    "ExecuteTime": {
     "end_time": "2024-02-28T01:49:13.077474Z",
     "start_time": "2024-02-28T01:49:13.071446Z"
    }
   },
   "outputs": [
    {
     "data": {
      "text/plain": [
       "'too short'"
      ]
     },
     "execution_count": 14,
     "metadata": {},
     "output_type": "execute_result"
    }
   ],
   "source": [
    "a[8:17]"
   ]
  },
  {
   "cell_type": "code",
   "execution_count": 15,
   "id": "aaf1dc12",
   "metadata": {
    "ExecuteTime": {
     "end_time": "2024-02-28T02:06:18.867063Z",
     "start_time": "2024-02-28T02:06:18.860748Z"
    }
   },
   "outputs": [
    {
     "data": {
      "text/plain": [
       "''"
      ]
     },
     "execution_count": 15,
     "metadata": {},
     "output_type": "execute_result"
    }
   ],
   "source": [
    "a[19:-21]"
   ]
  },
  {
   "cell_type": "code",
   "execution_count": 16,
   "id": "1c0059d2",
   "metadata": {
    "ExecuteTime": {
     "end_time": "2024-02-28T02:06:28.313690Z",
     "start_time": "2024-02-28T02:06:28.309398Z"
    }
   },
   "outputs": [
    {
     "data": {
      "text/plain": [
       "''"
      ]
     },
     "execution_count": 16,
     "metadata": {},
     "output_type": "execute_result"
    }
   ],
   "source": [
    "a[19:-24]"
   ]
  },
  {
   "cell_type": "code",
   "execution_count": 18,
   "id": "c3b3f58f",
   "metadata": {
    "ExecuteTime": {
     "end_time": "2024-02-28T02:10:09.755300Z",
     "start_time": "2024-02-28T02:10:09.739205Z"
    }
   },
   "outputs": [
    {
     "ename": "TypeError",
     "evalue": "'str' object does not support item assignment",
     "output_type": "error",
     "traceback": [
      "\u001b[1;31m---------------------------------------------------------------------------\u001b[0m",
      "\u001b[1;31mTypeError\u001b[0m                                 Traceback (most recent call last)",
      "Cell \u001b[1;32mIn[18], line 3\u001b[0m\n\u001b[0;32m      1\u001b[0m \u001b[38;5;66;03m# 문자열 수정하기\u001b[39;00m\n\u001b[0;32m      2\u001b[0m a \u001b[38;5;241m=\u001b[39m \u001b[38;5;124m'\u001b[39m\u001b[38;5;124mPithon\u001b[39m\u001b[38;5;124m'\u001b[39m\n\u001b[1;32m----> 3\u001b[0m a[\u001b[38;5;241m1\u001b[39m] \u001b[38;5;241m=\u001b[39m \u001b[38;5;124m'\u001b[39m\u001b[38;5;124my\u001b[39m\u001b[38;5;124m'\u001b[39m\n\u001b[0;32m      4\u001b[0m a\n",
      "\u001b[1;31mTypeError\u001b[0m: 'str' object does not support item assignment"
     ]
    }
   ],
   "source": [
    "# 문자열 수정하기\n",
    "a = 'Pithon'\n",
    "a[1] = 'y'\n",
    "a"
   ]
  },
  {
   "cell_type": "code",
   "execution_count": 20,
   "id": "03df9647",
   "metadata": {
    "ExecuteTime": {
     "end_time": "2024-02-28T02:12:35.234428Z",
     "start_time": "2024-02-28T02:12:35.227985Z"
    }
   },
   "outputs": [
    {
     "data": {
      "text/plain": [
       "('P', 'P')"
      ]
     },
     "execution_count": 20,
     "metadata": {},
     "output_type": "execute_result"
    }
   ],
   "source": [
    "a[0], a[:1]"
   ]
  },
  {
   "cell_type": "code",
   "execution_count": 21,
   "id": "5e9496cf",
   "metadata": {
    "ExecuteTime": {
     "end_time": "2024-02-28T02:12:49.122637Z",
     "start_time": "2024-02-28T02:12:49.116311Z"
    }
   },
   "outputs": [
    {
     "data": {
      "text/plain": [
       "'thon'"
      ]
     },
     "execution_count": 21,
     "metadata": {},
     "output_type": "execute_result"
    }
   ],
   "source": [
    "a[2:]"
   ]
  },
  {
   "cell_type": "code",
   "execution_count": 22,
   "id": "7a626c04",
   "metadata": {
    "ExecuteTime": {
     "end_time": "2024-02-28T02:13:11.324871Z",
     "start_time": "2024-02-28T02:13:11.316871Z"
    }
   },
   "outputs": [
    {
     "data": {
      "text/plain": [
       "'Python'"
      ]
     },
     "execution_count": 22,
     "metadata": {},
     "output_type": "execute_result"
    }
   ],
   "source": [
    "a[:1] + 'y' + a[2:]"
   ]
  },
  {
   "cell_type": "markdown",
   "id": "6eeae64a",
   "metadata": {},
   "source": [
    "## 문자열 포매팅"
   ]
  },
  {
   "cell_type": "code",
   "execution_count": 23,
   "id": "c556db81",
   "metadata": {
    "ExecuteTime": {
     "end_time": "2024-02-28T02:17:11.812154Z",
     "start_time": "2024-02-28T02:17:11.808027Z"
    }
   },
   "outputs": [
    {
     "data": {
      "text/plain": [
       "'I eat 3 apples'"
      ]
     },
     "execution_count": 23,
     "metadata": {},
     "output_type": "execute_result"
    }
   ],
   "source": [
    "# 숫자 바로 대입\n",
    "\"I eat %d apples\" %3"
   ]
  },
  {
   "cell_type": "code",
   "execution_count": 25,
   "id": "ec9d4c2f",
   "metadata": {
    "ExecuteTime": {
     "end_time": "2024-02-28T02:18:17.339938Z",
     "start_time": "2024-02-28T02:18:17.334944Z"
    }
   },
   "outputs": [
    {
     "data": {
      "text/plain": [
       "'I eat five apples'"
      ]
     },
     "execution_count": 25,
     "metadata": {},
     "output_type": "execute_result"
    }
   ],
   "source": [
    "# 문자열 바로 대입\n",
    "\"I eat %s apples\" % \"five\""
   ]
  },
  {
   "cell_type": "code",
   "execution_count": 27,
   "id": "d6df492b",
   "metadata": {
    "ExecuteTime": {
     "end_time": "2024-02-28T02:20:17.131772Z",
     "start_time": "2024-02-28T02:20:17.125397Z"
    }
   },
   "outputs": [
    {
     "data": {
      "text/plain": [
       "'I eat 3 apples'"
      ]
     },
     "execution_count": 27,
     "metadata": {},
     "output_type": "execute_result"
    }
   ],
   "source": [
    "# 숫자 값을 나타내는 변수로 대입\n",
    "number = 3\n",
    "\"I eat %d apples\" %number"
   ]
  },
  {
   "cell_type": "code",
   "execution_count": 28,
   "id": "f09fe790",
   "metadata": {
    "ExecuteTime": {
     "end_time": "2024-02-28T02:20:47.070887Z",
     "start_time": "2024-02-28T02:20:47.065124Z"
    }
   },
   "outputs": [
    {
     "data": {
      "text/plain": [
       "'I ate 10 apples. so I was sick for three days.'"
      ]
     },
     "execution_count": 28,
     "metadata": {},
     "output_type": "execute_result"
    }
   ],
   "source": [
    "# 2개 이상의 값 넣기\n",
    "number = 10\n",
    "day = 'three'\n",
    "\n",
    "\"I ate %d apples. so I was sick for %s days.\" % (number, day)"
   ]
  },
  {
   "cell_type": "markdown",
   "id": "0eed127f",
   "metadata": {},
   "source": [
    "## 포맷 코드와 숫자 함께 사용하기"
   ]
  },
  {
   "cell_type": "code",
   "execution_count": 29,
   "id": "243e35aa",
   "metadata": {
    "ExecuteTime": {
     "end_time": "2024-02-28T02:30:02.122330Z",
     "start_time": "2024-02-28T02:30:02.116747Z"
    }
   },
   "outputs": [
    {
     "data": {
      "text/plain": [
       "'        hi'"
      ]
     },
     "execution_count": 29,
     "metadata": {},
     "output_type": "execute_result"
    }
   ],
   "source": [
    "\"%10s\" % \"hi\""
   ]
  },
  {
   "cell_type": "code",
   "execution_count": 30,
   "id": "d1b78398",
   "metadata": {
    "ExecuteTime": {
     "end_time": "2024-02-28T02:30:26.972092Z",
     "start_time": "2024-02-28T02:30:26.966390Z"
    }
   },
   "outputs": [
    {
     "data": {
      "text/plain": [
       "'hi        jane.'"
      ]
     },
     "execution_count": 30,
     "metadata": {},
     "output_type": "execute_result"
    }
   ],
   "source": [
    "\"%-10sjane.\" % 'hi'\n",
    "'hi        jane.'"
   ]
  },
  {
   "cell_type": "markdown",
   "id": "413384ba",
   "metadata": {},
   "source": [
    "## 소수점 표현하기"
   ]
  },
  {
   "cell_type": "code",
   "execution_count": 31,
   "id": "bf9331d3",
   "metadata": {
    "ExecuteTime": {
     "end_time": "2024-02-28T02:31:27.259879Z",
     "start_time": "2024-02-28T02:31:27.253904Z"
    }
   },
   "outputs": [
    {
     "data": {
      "text/plain": [
       "'3.4213'"
      ]
     },
     "execution_count": 31,
     "metadata": {},
     "output_type": "execute_result"
    }
   ],
   "source": [
    "\"%0.4f\" % 3.42134234"
   ]
  },
  {
   "cell_type": "code",
   "execution_count": 32,
   "id": "9c2de278",
   "metadata": {
    "ExecuteTime": {
     "end_time": "2024-02-28T02:31:36.609350Z",
     "start_time": "2024-02-28T02:31:36.604096Z"
    }
   },
   "outputs": [
    {
     "data": {
      "text/plain": [
       "'    3.4213'"
      ]
     },
     "execution_count": 32,
     "metadata": {},
     "output_type": "execute_result"
    }
   ],
   "source": [
    "\"%10.4f\" % 3.42134234"
   ]
  },
  {
   "cell_type": "markdown",
   "id": "3d0c2c3e",
   "metadata": {},
   "source": [
    "## format 함수를 사용한 포매팅"
   ]
  },
  {
   "cell_type": "code",
   "execution_count": 35,
   "id": "4e51fdeb",
   "metadata": {
    "ExecuteTime": {
     "end_time": "2024-02-28T02:34:07.722463Z",
     "start_time": "2024-02-28T02:34:07.717764Z"
    }
   },
   "outputs": [
    {
     "data": {
      "text/plain": [
       "'I eat 3 apples'"
      ]
     },
     "execution_count": 35,
     "metadata": {},
     "output_type": "execute_result"
    }
   ],
   "source": [
    "\"I eat {} apples\".format(3)"
   ]
  },
  {
   "cell_type": "code",
   "execution_count": 36,
   "id": "61efc656",
   "metadata": {
    "ExecuteTime": {
     "end_time": "2024-02-28T02:34:09.526391Z",
     "start_time": "2024-02-28T02:34:09.521504Z"
    }
   },
   "outputs": [
    {
     "data": {
      "text/plain": [
       "'I eat five apples'"
      ]
     },
     "execution_count": 36,
     "metadata": {},
     "output_type": "execute_result"
    }
   ],
   "source": [
    "\"I eat {} apples\".format(\"five\")"
   ]
  },
  {
   "cell_type": "code",
   "execution_count": 37,
   "id": "67273b50",
   "metadata": {
    "ExecuteTime": {
     "end_time": "2024-02-28T02:35:10.529458Z",
     "start_time": "2024-02-28T02:35:10.523458Z"
    }
   },
   "outputs": [
    {
     "data": {
      "text/plain": [
       "'I eat 3 apples'"
      ]
     },
     "execution_count": 37,
     "metadata": {},
     "output_type": "execute_result"
    }
   ],
   "source": [
    "number = 3\n",
    "\"I eat {0} apples\".format(number)\n",
    "'I eat 3 apples'"
   ]
  },
  {
   "cell_type": "code",
   "execution_count": 38,
   "id": "476e55e8",
   "metadata": {
    "ExecuteTime": {
     "end_time": "2024-02-28T02:35:18.329660Z",
     "start_time": "2024-02-28T02:35:18.323154Z"
    }
   },
   "outputs": [
    {
     "data": {
      "text/plain": [
       "'I ate 10 apples. so I was sick for three days.'"
      ]
     },
     "execution_count": 38,
     "metadata": {},
     "output_type": "execute_result"
    }
   ],
   "source": [
    "number = 10\n",
    "day = \"three\"\n",
    "\"I ate {0} apples. so I was sick for {1} days.\".format(number, day)\n",
    "'I ate 10 apples. so I was sick for three days.'"
   ]
  },
  {
   "cell_type": "code",
   "execution_count": 39,
   "id": "376a8251",
   "metadata": {
    "ExecuteTime": {
     "end_time": "2024-02-28T02:35:27.964812Z",
     "start_time": "2024-02-28T02:35:27.958956Z"
    }
   },
   "outputs": [
    {
     "data": {
      "text/plain": [
       "'I ate 10 apples. so I was sick for 3 days.'"
      ]
     },
     "execution_count": 39,
     "metadata": {},
     "output_type": "execute_result"
    }
   ],
   "source": [
    "\"I ate {number} apples. so I was sick for {day} days.\".format(number=10, day=3)\n",
    "'I ate 10 apples. so I was sick for 3 days.'"
   ]
  },
  {
   "cell_type": "code",
   "execution_count": null,
   "id": "209dbd7c",
   "metadata": {},
   "outputs": [],
   "source": []
  },
  {
   "cell_type": "code",
   "execution_count": 40,
   "id": "60a81b08",
   "metadata": {
    "ExecuteTime": {
     "end_time": "2024-02-28T02:40:07.721449Z",
     "start_time": "2024-02-28T02:40:07.715344Z"
    }
   },
   "outputs": [
    {
     "data": {
      "text/plain": [
       "'3.4213'"
      ]
     },
     "execution_count": 40,
     "metadata": {},
     "output_type": "execute_result"
    }
   ],
   "source": [
    "# 소수점 표현하기\n",
    "y = 3.42134234\n",
    "\"{0:0.4f}\".format(y)\n",
    "'3.4213'"
   ]
  },
  {
   "cell_type": "code",
   "execution_count": null,
   "id": "44340bf9",
   "metadata": {},
   "outputs": [],
   "source": []
  },
  {
   "cell_type": "markdown",
   "id": "b94fa9c7",
   "metadata": {
    "ExecuteTime": {
     "end_time": "2024-02-28T02:40:54.297091Z",
     "start_time": "2024-02-28T02:40:54.292999Z"
    }
   },
   "source": [
    "## f 문자열 포매팅"
   ]
  },
  {
   "cell_type": "code",
   "execution_count": 42,
   "id": "d246999c",
   "metadata": {
    "ExecuteTime": {
     "end_time": "2024-02-28T02:41:23.959328Z",
     "start_time": "2024-02-28T02:41:23.953813Z"
    }
   },
   "outputs": [
    {
     "data": {
      "text/plain": [
       "'나의 이름은 홍길동입니다. 나이는 30입니다.'"
      ]
     },
     "execution_count": 42,
     "metadata": {},
     "output_type": "execute_result"
    }
   ],
   "source": [
    "name = '홍길동'\n",
    "age = 30\n",
    "f'나의 이름은 {name}입니다. 나이는 {age}입니다.'"
   ]
  },
  {
   "cell_type": "code",
   "execution_count": 43,
   "id": "54bfa006",
   "metadata": {
    "ExecuteTime": {
     "end_time": "2024-02-28T02:43:01.838140Z",
     "start_time": "2024-02-28T02:43:01.832138Z"
    }
   },
   "outputs": [
    {
     "data": {
      "text/plain": [
       "'나는 내년이면 31살이 된다.'"
      ]
     },
     "execution_count": 43,
     "metadata": {},
     "output_type": "execute_result"
    }
   ],
   "source": [
    "age = 30\n",
    "f'나는 내년이면 {age + 1}살이 된다.'"
   ]
  },
  {
   "cell_type": "code",
   "execution_count": 46,
   "id": "8af0e8a5",
   "metadata": {
    "ExecuteTime": {
     "end_time": "2024-02-28T02:43:49.010057Z",
     "start_time": "2024-02-28T02:43:49.005020Z"
    }
   },
   "outputs": [
    {
     "data": {
      "text/plain": [
       "'나의 이름은 홍길동입니다. 나이는 30입니다.'"
      ]
     },
     "execution_count": 46,
     "metadata": {},
     "output_type": "execute_result"
    }
   ],
   "source": [
    " d = {'name':'홍길동', 'age':30}\n",
    "f'나의 이름은 {d[\"name\"]}입니다. 나이는 {d[\"age\"]}입니다.'"
   ]
  },
  {
   "cell_type": "markdown",
   "id": "b789daba",
   "metadata": {},
   "source": [
    "## 문자열 관련 함수들"
   ]
  },
  {
   "cell_type": "code",
   "execution_count": 47,
   "id": "47008f65",
   "metadata": {
    "ExecuteTime": {
     "end_time": "2024-02-28T02:44:58.238852Z",
     "start_time": "2024-02-28T02:44:58.231558Z"
    }
   },
   "outputs": [
    {
     "data": {
      "text/plain": [
       "2"
      ]
     },
     "execution_count": 47,
     "metadata": {},
     "output_type": "execute_result"
    }
   ],
   "source": [
    "# 문자 개수 세기\n",
    "a = \"hobby\"\n",
    "a.count('b')"
   ]
  },
  {
   "cell_type": "code",
   "execution_count": 53,
   "id": "8dd7dc06",
   "metadata": {
    "ExecuteTime": {
     "end_time": "2024-02-28T02:47:53.428217Z",
     "start_time": "2024-02-28T02:47:53.422056Z"
    }
   },
   "outputs": [
    {
     "data": {
      "text/plain": [
       "14"
      ]
     },
     "execution_count": 53,
     "metadata": {},
     "output_type": "execute_result"
    }
   ],
   "source": [
    "# 위치 알려주기 find\n",
    "a = \"Python is the best choice\"\n",
    "a.find('b')"
   ]
  },
  {
   "cell_type": "code",
   "execution_count": 54,
   "id": "a151a972",
   "metadata": {
    "ExecuteTime": {
     "end_time": "2024-02-28T02:48:06.379910Z",
     "start_time": "2024-02-28T02:48:06.373014Z"
    }
   },
   "outputs": [
    {
     "data": {
      "text/plain": [
       "-1"
      ]
     },
     "execution_count": 54,
     "metadata": {},
     "output_type": "execute_result"
    }
   ],
   "source": [
    "a.find('k')"
   ]
  },
  {
   "cell_type": "code",
   "execution_count": 55,
   "id": "65fae153",
   "metadata": {
    "ExecuteTime": {
     "end_time": "2024-02-28T02:49:54.007999Z",
     "start_time": "2024-02-28T02:49:54.001992Z"
    }
   },
   "outputs": [
    {
     "data": {
      "text/plain": [
       "8"
      ]
     },
     "execution_count": 55,
     "metadata": {},
     "output_type": "execute_result"
    }
   ],
   "source": [
    "# 위치 알려주기 index\n",
    "a = \"Life is too short\"\n",
    "a.index('t')"
   ]
  },
  {
   "cell_type": "code",
   "execution_count": 56,
   "id": "5ece6be3",
   "metadata": {
    "ExecuteTime": {
     "end_time": "2024-02-28T02:49:59.845286Z",
     "start_time": "2024-02-28T02:49:59.840307Z"
    }
   },
   "outputs": [
    {
     "data": {
      "text/plain": [
       "'a,b,c,d'"
      ]
     },
     "execution_count": 56,
     "metadata": {},
     "output_type": "execute_result"
    }
   ],
   "source": [
    "\",\".join('abcd')"
   ]
  },
  {
   "cell_type": "markdown",
   "id": "ae401381",
   "metadata": {},
   "source": [
    "# 리스트 자료형"
   ]
  },
  {
   "cell_type": "code",
   "execution_count": 6,
   "id": "eb3c4350",
   "metadata": {
    "ExecuteTime": {
     "end_time": "2024-03-04T00:37:55.474004Z",
     "start_time": "2024-03-04T00:37:55.465193Z"
    }
   },
   "outputs": [
    {
     "data": {
      "text/plain": [
       "([],\n",
       " [1, 2, 3],\n",
       " ['Life', 'is', 'too', 'short'],\n",
       " [1, 2, 'Life', 'is'],\n",
       " [1, 2, ['Life', 'is']])"
      ]
     },
     "execution_count": 6,
     "metadata": {},
     "output_type": "execute_result"
    }
   ],
   "source": [
    "a = []\n",
    "b = [1, 2, 3]\n",
    "c = ['Life', 'is', 'too', 'short']\n",
    "d = [1, 2, 'Life', 'is']\n",
    "e = [1, 2, ['Life', 'is']]\n",
    "a, b, c, d, e"
   ]
  },
  {
   "cell_type": "code",
   "execution_count": 7,
   "id": "d5843585",
   "metadata": {
    "ExecuteTime": {
     "end_time": "2024-03-04T00:38:49.735036Z",
     "start_time": "2024-03-04T00:38:49.730301Z"
    }
   },
   "outputs": [
    {
     "data": {
      "text/plain": [
       "([], list)"
      ]
     },
     "execution_count": 7,
     "metadata": {},
     "output_type": "execute_result"
    }
   ],
   "source": [
    "a = list()\n",
    "a, type(a)"
   ]
  },
  {
   "cell_type": "markdown",
   "id": "937fa28f",
   "metadata": {},
   "source": [
    "## 리스트 인덱싱"
   ]
  },
  {
   "cell_type": "code",
   "execution_count": 8,
   "id": "1f242f4f",
   "metadata": {
    "ExecuteTime": {
     "end_time": "2024-03-04T00:39:18.596785Z",
     "start_time": "2024-03-04T00:39:18.591917Z"
    }
   },
   "outputs": [
    {
     "data": {
      "text/plain": [
       "[1, 2, 3]"
      ]
     },
     "execution_count": 8,
     "metadata": {},
     "output_type": "execute_result"
    }
   ],
   "source": [
    "a = [1, 2, 3]\n",
    "a"
   ]
  },
  {
   "cell_type": "code",
   "execution_count": 9,
   "id": "dad21cfb",
   "metadata": {
    "ExecuteTime": {
     "end_time": "2024-03-04T00:39:30.286292Z",
     "start_time": "2024-03-04T00:39:30.279537Z"
    }
   },
   "outputs": [
    {
     "data": {
      "text/plain": [
       "1"
      ]
     },
     "execution_count": 9,
     "metadata": {},
     "output_type": "execute_result"
    }
   ],
   "source": [
    "a[0]"
   ]
  },
  {
   "cell_type": "code",
   "execution_count": 10,
   "id": "c714affc",
   "metadata": {
    "ExecuteTime": {
     "end_time": "2024-03-04T00:39:40.872313Z",
     "start_time": "2024-03-04T00:39:40.865950Z"
    }
   },
   "outputs": [
    {
     "data": {
      "text/plain": [
       "4"
      ]
     },
     "execution_count": 10,
     "metadata": {},
     "output_type": "execute_result"
    }
   ],
   "source": [
    "a[0] + a[2]"
   ]
  },
  {
   "cell_type": "code",
   "execution_count": 11,
   "id": "558a8627",
   "metadata": {
    "ExecuteTime": {
     "end_time": "2024-03-04T00:41:05.549714Z",
     "start_time": "2024-03-04T00:41:05.543622Z"
    }
   },
   "outputs": [
    {
     "data": {
      "text/plain": [
       "3"
      ]
     },
     "execution_count": 11,
     "metadata": {},
     "output_type": "execute_result"
    }
   ],
   "source": [
    "a[-1]"
   ]
  },
  {
   "cell_type": "code",
   "execution_count": 17,
   "id": "32b59554",
   "metadata": {
    "ExecuteTime": {
     "end_time": "2024-03-04T00:41:58.460314Z",
     "start_time": "2024-03-04T00:41:58.456533Z"
    }
   },
   "outputs": [],
   "source": [
    "a = [1, 2, 3, ['a', 'b', 'c']]"
   ]
  },
  {
   "cell_type": "code",
   "execution_count": 18,
   "id": "c8bb237b",
   "metadata": {
    "ExecuteTime": {
     "end_time": "2024-03-04T00:42:02.498384Z",
     "start_time": "2024-03-04T00:42:02.493399Z"
    }
   },
   "outputs": [
    {
     "data": {
      "text/plain": [
       "1"
      ]
     },
     "execution_count": 18,
     "metadata": {},
     "output_type": "execute_result"
    }
   ],
   "source": [
    "a[0]"
   ]
  },
  {
   "cell_type": "code",
   "execution_count": 19,
   "id": "1b805b4f",
   "metadata": {
    "ExecuteTime": {
     "end_time": "2024-03-04T00:42:06.686262Z",
     "start_time": "2024-03-04T00:42:06.681623Z"
    }
   },
   "outputs": [
    {
     "data": {
      "text/plain": [
       "['a', 'b', 'c']"
      ]
     },
     "execution_count": 19,
     "metadata": {},
     "output_type": "execute_result"
    }
   ],
   "source": [
    "a[-1]"
   ]
  },
  {
   "cell_type": "code",
   "execution_count": 20,
   "id": "17562f29",
   "metadata": {
    "ExecuteTime": {
     "end_time": "2024-03-04T00:42:16.574101Z",
     "start_time": "2024-03-04T00:42:16.567453Z"
    }
   },
   "outputs": [
    {
     "data": {
      "text/plain": [
       "['a', 'b', 'c']"
      ]
     },
     "execution_count": 20,
     "metadata": {},
     "output_type": "execute_result"
    }
   ],
   "source": [
    "a[3]"
   ]
  },
  {
   "cell_type": "code",
   "execution_count": 21,
   "id": "120726c6",
   "metadata": {
    "ExecuteTime": {
     "end_time": "2024-03-04T00:42:32.773457Z",
     "start_time": "2024-03-04T00:42:32.768142Z"
    }
   },
   "outputs": [
    {
     "data": {
      "text/plain": [
       "'a'"
      ]
     },
     "execution_count": 21,
     "metadata": {},
     "output_type": "execute_result"
    }
   ],
   "source": [
    "a[-1][0]"
   ]
  },
  {
   "cell_type": "markdown",
   "id": "ddf2fc28",
   "metadata": {},
   "source": [
    "## 리스트 슬라이싱"
   ]
  },
  {
   "cell_type": "code",
   "execution_count": 22,
   "id": "143be121",
   "metadata": {
    "ExecuteTime": {
     "end_time": "2024-03-04T00:46:52.172038Z",
     "start_time": "2024-03-04T00:46:52.165034Z"
    }
   },
   "outputs": [
    {
     "data": {
      "text/plain": [
       "[1, 2]"
      ]
     },
     "execution_count": 22,
     "metadata": {},
     "output_type": "execute_result"
    }
   ],
   "source": [
    "a = [1, 2, 3, 4, 5]\n",
    "a[0:2]"
   ]
  },
  {
   "cell_type": "code",
   "execution_count": 23,
   "id": "39525e7b",
   "metadata": {
    "ExecuteTime": {
     "end_time": "2024-03-04T00:47:02.682232Z",
     "start_time": "2024-03-04T00:47:02.676976Z"
    }
   },
   "outputs": [
    {
     "data": {
      "text/plain": [
       "'12'"
      ]
     },
     "execution_count": 23,
     "metadata": {},
     "output_type": "execute_result"
    }
   ],
   "source": [
    "a = \"12345\"\n",
    "a[0:2]"
   ]
  },
  {
   "cell_type": "code",
   "execution_count": 24,
   "id": "e0969824",
   "metadata": {
    "ExecuteTime": {
     "end_time": "2024-03-04T00:47:31.471732Z",
     "start_time": "2024-03-04T00:47:31.466722Z"
    }
   },
   "outputs": [],
   "source": [
    "a = [1, 2, 3, 4, 5]\n",
    "b = a[:2]\n",
    "c = a[2:]"
   ]
  },
  {
   "cell_type": "code",
   "execution_count": 25,
   "id": "f4efd9c7",
   "metadata": {
    "ExecuteTime": {
     "end_time": "2024-03-04T00:47:33.185156Z",
     "start_time": "2024-03-04T00:47:33.177761Z"
    }
   },
   "outputs": [
    {
     "data": {
      "text/plain": [
       "[1, 2]"
      ]
     },
     "execution_count": 25,
     "metadata": {},
     "output_type": "execute_result"
    }
   ],
   "source": [
    "b"
   ]
  },
  {
   "cell_type": "code",
   "execution_count": 26,
   "id": "27f988b6",
   "metadata": {
    "ExecuteTime": {
     "end_time": "2024-03-04T00:47:34.132703Z",
     "start_time": "2024-03-04T00:47:34.127703Z"
    }
   },
   "outputs": [
    {
     "data": {
      "text/plain": [
       "[3, 4, 5]"
      ]
     },
     "execution_count": 26,
     "metadata": {},
     "output_type": "execute_result"
    }
   ],
   "source": [
    "c"
   ]
  },
  {
   "cell_type": "markdown",
   "id": "a1a2f5b6",
   "metadata": {},
   "source": [
    "## 리스트 관련 함수"
   ]
  },
  {
   "cell_type": "code",
   "execution_count": 27,
   "id": "9ca4d10b",
   "metadata": {
    "ExecuteTime": {
     "end_time": "2024-03-04T01:05:53.162498Z",
     "start_time": "2024-03-04T01:05:53.156498Z"
    }
   },
   "outputs": [
    {
     "data": {
      "text/plain": [
       "[1, 2, 3]"
      ]
     },
     "execution_count": 27,
     "metadata": {},
     "output_type": "execute_result"
    }
   ],
   "source": [
    "a = [1, 2, 3]\n",
    "a"
   ]
  },
  {
   "cell_type": "code",
   "execution_count": 28,
   "id": "627b79fb",
   "metadata": {
    "ExecuteTime": {
     "end_time": "2024-03-04T01:06:14.972194Z",
     "start_time": "2024-03-04T01:06:14.967264Z"
    }
   },
   "outputs": [
    {
     "data": {
      "text/plain": [
       "[1, 2, 3, 4]"
      ]
     },
     "execution_count": 28,
     "metadata": {},
     "output_type": "execute_result"
    }
   ],
   "source": [
    "a.append(4)\n",
    "a"
   ]
  },
  {
   "cell_type": "code",
   "execution_count": 30,
   "id": "b7af0edc",
   "metadata": {
    "ExecuteTime": {
     "end_time": "2024-03-04T01:06:47.797318Z",
     "start_time": "2024-03-04T01:06:47.792576Z"
    }
   },
   "outputs": [
    {
     "data": {
      "text/plain": [
       "[1, 2, 3, 4]"
      ]
     },
     "execution_count": 30,
     "metadata": {},
     "output_type": "execute_result"
    }
   ],
   "source": [
    "a = [1, 4, 3, 2]\n",
    "a.sort()\n",
    "a"
   ]
  },
  {
   "cell_type": "code",
   "execution_count": 31,
   "id": "2636b157",
   "metadata": {
    "ExecuteTime": {
     "end_time": "2024-03-04T01:09:44.203391Z",
     "start_time": "2024-03-04T01:09:44.198228Z"
    }
   },
   "outputs": [
    {
     "data": {
      "text/plain": [
       "['b', 'c', 'a']"
      ]
     },
     "execution_count": 31,
     "metadata": {},
     "output_type": "execute_result"
    }
   ],
   "source": [
    "a = ['a', 'c', 'b']\n",
    "a.reverse()\n",
    "a"
   ]
  },
  {
   "cell_type": "code",
   "execution_count": 34,
   "id": "09a1582b",
   "metadata": {
    "ExecuteTime": {
     "end_time": "2024-03-04T01:11:48.254458Z",
     "start_time": "2024-03-04T01:11:48.248938Z"
    }
   },
   "outputs": [
    {
     "data": {
      "text/plain": [
       "2"
      ]
     },
     "execution_count": 34,
     "metadata": {},
     "output_type": "execute_result"
    }
   ],
   "source": [
    "a = [1, 2, 3]\n",
    "a.index(3)\n"
   ]
  },
  {
   "cell_type": "code",
   "execution_count": 33,
   "id": "03b1edae",
   "metadata": {
    "ExecuteTime": {
     "end_time": "2024-03-04T01:11:47.078729Z",
     "start_time": "2024-03-04T01:11:47.074444Z"
    }
   },
   "outputs": [
    {
     "data": {
      "text/plain": [
       "0"
      ]
     },
     "execution_count": 33,
     "metadata": {},
     "output_type": "execute_result"
    }
   ],
   "source": [
    "a.index(1)"
   ]
  },
  {
   "cell_type": "code",
   "execution_count": 35,
   "id": "d297a337",
   "metadata": {
    "ExecuteTime": {
     "end_time": "2024-03-04T01:11:59.167535Z",
     "start_time": "2024-03-04T01:11:59.162680Z"
    }
   },
   "outputs": [
    {
     "data": {
      "text/plain": [
       "[4, 1, 2, 3]"
      ]
     },
     "execution_count": 35,
     "metadata": {},
     "output_type": "execute_result"
    }
   ],
   "source": [
    "a = [1, 2, 3]\n",
    "a.insert(0, 4)\n",
    "a"
   ]
  },
  {
   "cell_type": "code",
   "execution_count": 36,
   "id": "675f19b0",
   "metadata": {
    "ExecuteTime": {
     "end_time": "2024-03-04T01:14:05.922503Z",
     "start_time": "2024-03-04T01:14:05.916600Z"
    }
   },
   "outputs": [
    {
     "data": {
      "text/plain": [
       "[1, 2, 1, 2, 3]"
      ]
     },
     "execution_count": 36,
     "metadata": {},
     "output_type": "execute_result"
    }
   ],
   "source": [
    "a = [1, 2, 3, 1, 2, 3]\n",
    "a.remove(3)\n",
    "a"
   ]
  },
  {
   "cell_type": "code",
   "execution_count": 37,
   "id": "35186a89",
   "metadata": {
    "ExecuteTime": {
     "end_time": "2024-03-04T01:15:36.387870Z",
     "start_time": "2024-03-04T01:15:36.381237Z"
    }
   },
   "outputs": [
    {
     "data": {
      "text/plain": [
       "3"
      ]
     },
     "execution_count": 37,
     "metadata": {},
     "output_type": "execute_result"
    }
   ],
   "source": [
    "a = [1, 2, 3]\n",
    "a.pop()"
   ]
  },
  {
   "cell_type": "code",
   "execution_count": 38,
   "id": "093eba9a",
   "metadata": {
    "ExecuteTime": {
     "end_time": "2024-03-04T01:15:47.648420Z",
     "start_time": "2024-03-04T01:15:47.643381Z"
    }
   },
   "outputs": [
    {
     "data": {
      "text/plain": [
       "[1, 2]"
      ]
     },
     "execution_count": 38,
     "metadata": {},
     "output_type": "execute_result"
    }
   ],
   "source": [
    "a"
   ]
  },
  {
   "cell_type": "code",
   "execution_count": 39,
   "id": "dbced142",
   "metadata": {
    "ExecuteTime": {
     "end_time": "2024-03-04T01:17:17.213933Z",
     "start_time": "2024-03-04T01:17:17.208952Z"
    }
   },
   "outputs": [
    {
     "data": {
      "text/plain": [
       "2"
      ]
     },
     "execution_count": 39,
     "metadata": {},
     "output_type": "execute_result"
    }
   ],
   "source": [
    "a = [1, 2, 3, 1]\n",
    "a.count(1)"
   ]
  },
  {
   "cell_type": "code",
   "execution_count": 41,
   "id": "d43fd829",
   "metadata": {
    "ExecuteTime": {
     "end_time": "2024-03-04T01:18:56.893195Z",
     "start_time": "2024-03-04T01:18:56.887845Z"
    }
   },
   "outputs": [
    {
     "data": {
      "text/plain": [
       "[1, 2, 3, 4, 5]"
      ]
     },
     "execution_count": 41,
     "metadata": {},
     "output_type": "execute_result"
    }
   ],
   "source": [
    "a = [1, 2, 3]\n",
    "a.extend([4, 5])\n",
    "a"
   ]
  },
  {
   "cell_type": "code",
   "execution_count": 42,
   "id": "bad848cd",
   "metadata": {
    "ExecuteTime": {
     "end_time": "2024-03-04T01:19:07.656146Z",
     "start_time": "2024-03-04T01:19:07.651852Z"
    }
   },
   "outputs": [
    {
     "data": {
      "text/plain": [
       "[1, 2, 3, 4, 5, 6, 7]"
      ]
     },
     "execution_count": 42,
     "metadata": {},
     "output_type": "execute_result"
    }
   ],
   "source": [
    "b = [6, 7]\n",
    "a.extend(b)\n",
    "a"
   ]
  },
  {
   "cell_type": "markdown",
   "id": "4786fbb3",
   "metadata": {},
   "source": [
    "# 튜플 자료형"
   ]
  },
  {
   "cell_type": "code",
   "execution_count": 43,
   "id": "41dcccc3",
   "metadata": {
    "ExecuteTime": {
     "end_time": "2024-03-04T01:31:33.229354Z",
     "start_time": "2024-03-04T01:31:33.211321Z"
    }
   },
   "outputs": [
    {
     "ename": "TypeError",
     "evalue": "'tuple' object doesn't support item deletion",
     "output_type": "error",
     "traceback": [
      "\u001b[1;31m---------------------------------------------------------------------------\u001b[0m",
      "\u001b[1;31mTypeError\u001b[0m                                 Traceback (most recent call last)",
      "Cell \u001b[1;32mIn[43], line 2\u001b[0m\n\u001b[0;32m      1\u001b[0m t1 \u001b[38;5;241m=\u001b[39m (\u001b[38;5;241m1\u001b[39m, \u001b[38;5;241m2\u001b[39m, \u001b[38;5;124m'\u001b[39m\u001b[38;5;124ma\u001b[39m\u001b[38;5;124m'\u001b[39m, \u001b[38;5;124m'\u001b[39m\u001b[38;5;124mb\u001b[39m\u001b[38;5;124m'\u001b[39m)\n\u001b[1;32m----> 2\u001b[0m \u001b[38;5;28;01mdel\u001b[39;00m t1[\u001b[38;5;241m0\u001b[39m]\n",
      "\u001b[1;31mTypeError\u001b[0m: 'tuple' object doesn't support item deletion"
     ]
    }
   ],
   "source": [
    "t1 = (1, 2, 'a', 'b')\n",
    "del t1[0]"
   ]
  },
  {
   "cell_type": "code",
   "execution_count": 44,
   "id": "ce818c2e",
   "metadata": {
    "ExecuteTime": {
     "end_time": "2024-03-04T01:31:38.950107Z",
     "start_time": "2024-03-04T01:31:38.936077Z"
    }
   },
   "outputs": [
    {
     "ename": "TypeError",
     "evalue": "'tuple' object does not support item assignment",
     "output_type": "error",
     "traceback": [
      "\u001b[1;31m---------------------------------------------------------------------------\u001b[0m",
      "\u001b[1;31mTypeError\u001b[0m                                 Traceback (most recent call last)",
      "Cell \u001b[1;32mIn[44], line 2\u001b[0m\n\u001b[0;32m      1\u001b[0m t1 \u001b[38;5;241m=\u001b[39m (\u001b[38;5;241m1\u001b[39m, \u001b[38;5;241m2\u001b[39m, \u001b[38;5;124m'\u001b[39m\u001b[38;5;124ma\u001b[39m\u001b[38;5;124m'\u001b[39m, \u001b[38;5;124m'\u001b[39m\u001b[38;5;124mb\u001b[39m\u001b[38;5;124m'\u001b[39m)\n\u001b[1;32m----> 2\u001b[0m t1[\u001b[38;5;241m0\u001b[39m] \u001b[38;5;241m=\u001b[39m \u001b[38;5;124m'\u001b[39m\u001b[38;5;124mc\u001b[39m\u001b[38;5;124m'\u001b[39m\n",
      "\u001b[1;31mTypeError\u001b[0m: 'tuple' object does not support item assignment"
     ]
    }
   ],
   "source": [
    "t1 = (1, 2, 'a', 'b')\n",
    "t1[0] = 'c'"
   ]
  },
  {
   "cell_type": "code",
   "execution_count": 45,
   "id": "05c16cad",
   "metadata": {
    "ExecuteTime": {
     "end_time": "2024-03-04T01:32:41.369085Z",
     "start_time": "2024-03-04T01:32:41.364350Z"
    }
   },
   "outputs": [
    {
     "data": {
      "text/plain": [
       "1"
      ]
     },
     "execution_count": 45,
     "metadata": {},
     "output_type": "execute_result"
    }
   ],
   "source": [
    "t1 = (1, 2, 'a', 'b')\n",
    "t1[0]"
   ]
  },
  {
   "cell_type": "code",
   "execution_count": 46,
   "id": "c3dc39f7",
   "metadata": {
    "ExecuteTime": {
     "end_time": "2024-03-04T01:33:35.731667Z",
     "start_time": "2024-03-04T01:33:35.727237Z"
    }
   },
   "outputs": [
    {
     "data": {
      "text/plain": [
       "'b'"
      ]
     },
     "execution_count": 46,
     "metadata": {},
     "output_type": "execute_result"
    }
   ],
   "source": [
    "t1[3]"
   ]
  },
  {
   "cell_type": "code",
   "execution_count": 47,
   "id": "a82e4340",
   "metadata": {
    "ExecuteTime": {
     "end_time": "2024-03-04T01:34:07.631512Z",
     "start_time": "2024-03-04T01:34:07.625221Z"
    }
   },
   "outputs": [
    {
     "data": {
      "text/plain": [
       "(2, 'a', 'b')"
      ]
     },
     "execution_count": 47,
     "metadata": {},
     "output_type": "execute_result"
    }
   ],
   "source": [
    "t1 = (1, 2, 'a', 'b')\n",
    "t1[1:]"
   ]
  },
  {
   "cell_type": "code",
   "execution_count": 48,
   "id": "be87eb15",
   "metadata": {
    "ExecuteTime": {
     "end_time": "2024-03-04T01:34:19.269064Z",
     "start_time": "2024-03-04T01:34:19.263755Z"
    }
   },
   "outputs": [
    {
     "data": {
      "text/plain": [
       "(1, 2, 'a', 'b', 3, 4)"
      ]
     },
     "execution_count": 48,
     "metadata": {},
     "output_type": "execute_result"
    }
   ],
   "source": [
    "t1 = (1, 2, 'a', 'b')\n",
    "t2 = (3, 4)\n",
    "t3 = t1 + t2\n",
    "t3"
   ]
  },
  {
   "cell_type": "code",
   "execution_count": 49,
   "id": "b0afaa8b",
   "metadata": {
    "ExecuteTime": {
     "end_time": "2024-03-04T01:36:40.212878Z",
     "start_time": "2024-03-04T01:36:40.205314Z"
    }
   },
   "outputs": [
    {
     "data": {
      "text/plain": [
       "(3, 4, 3, 4, 3, 4)"
      ]
     },
     "execution_count": 49,
     "metadata": {},
     "output_type": "execute_result"
    }
   ],
   "source": [
    "t2 = (3, 4)\n",
    "t3 = t2 * 3\n",
    "t3"
   ]
  },
  {
   "cell_type": "markdown",
   "id": "4903a6da",
   "metadata": {},
   "source": [
    "## 튜플 길이 구하기"
   ]
  },
  {
   "cell_type": "code",
   "execution_count": 50,
   "id": "8332c3b7",
   "metadata": {
    "ExecuteTime": {
     "end_time": "2024-03-04T01:37:40.113589Z",
     "start_time": "2024-03-04T01:37:40.107372Z"
    }
   },
   "outputs": [
    {
     "data": {
      "text/plain": [
       "4"
      ]
     },
     "execution_count": 50,
     "metadata": {},
     "output_type": "execute_result"
    }
   ],
   "source": [
    "t1 = (1, 2, 'a', 'b')\n",
    "len(t1)"
   ]
  },
  {
   "cell_type": "markdown",
   "id": "f0cb9695",
   "metadata": {},
   "source": [
    "# 딕셔너리 자료형"
   ]
  },
  {
   "cell_type": "code",
   "execution_count": 52,
   "id": "fa039e1b",
   "metadata": {
    "ExecuteTime": {
     "end_time": "2024-03-04T02:05:56.414032Z",
     "start_time": "2024-03-04T02:05:56.410692Z"
    }
   },
   "outputs": [],
   "source": [
    "dic = {'name': 'pey', 'phone': '010-9999-1234', 'birth': '1118'}"
   ]
  },
  {
   "cell_type": "code",
   "execution_count": 53,
   "id": "f9893bd2",
   "metadata": {
    "ExecuteTime": {
     "end_time": "2024-03-04T02:06:26.891788Z",
     "start_time": "2024-03-04T02:06:26.886645Z"
    }
   },
   "outputs": [
    {
     "data": {
      "text/plain": [
       "{1: 'a', 2: 'b'}"
      ]
     },
     "execution_count": 53,
     "metadata": {},
     "output_type": "execute_result"
    }
   ],
   "source": [
    "a = {1: 'a'}\n",
    "a[2] = 'b'\n",
    "a"
   ]
  },
  {
   "cell_type": "markdown",
   "id": "a63c4a42",
   "metadata": {},
   "source": [
    "## Key를 사용해 Value 얻기"
   ]
  },
  {
   "cell_type": "code",
   "execution_count": 58,
   "id": "8f250a82",
   "metadata": {
    "ExecuteTime": {
     "end_time": "2024-03-04T02:07:54.656653Z",
     "start_time": "2024-03-04T02:07:54.649929Z"
    }
   },
   "outputs": [
    {
     "data": {
      "text/plain": [
       "10"
      ]
     },
     "execution_count": 58,
     "metadata": {},
     "output_type": "execute_result"
    }
   ],
   "source": [
    "grade = {'pey': 10, 'julliet': 99}\n",
    "grade['pey']"
   ]
  },
  {
   "cell_type": "code",
   "execution_count": 62,
   "id": "9efbcd8b",
   "metadata": {
    "ExecuteTime": {
     "end_time": "2024-03-04T02:09:22.005011Z",
     "start_time": "2024-03-04T02:09:21.999825Z"
    }
   },
   "outputs": [
    {
     "data": {
      "text/plain": [
       "('pey', '010-9999-1234', '1118')"
      ]
     },
     "execution_count": 62,
     "metadata": {},
     "output_type": "execute_result"
    }
   ],
   "source": [
    "dic = {'name':'pey', 'phone':'010-9999-1234', 'birth': '1118'}\n",
    "dic['name'], dic['phone'], dic['birth']"
   ]
  },
  {
   "cell_type": "code",
   "execution_count": 63,
   "id": "4ea2d2bb",
   "metadata": {
    "ExecuteTime": {
     "end_time": "2024-03-04T02:09:46.307936Z",
     "start_time": "2024-03-04T02:09:46.302906Z"
    }
   },
   "outputs": [
    {
     "data": {
      "text/plain": [
       "{1: 'b'}"
      ]
     },
     "execution_count": 63,
     "metadata": {},
     "output_type": "execute_result"
    }
   ],
   "source": [
    "a = {1:'a', 1:'b'}\n",
    "a"
   ]
  },
  {
   "cell_type": "code",
   "execution_count": 64,
   "id": "40ca4ca7",
   "metadata": {
    "ExecuteTime": {
     "end_time": "2024-03-04T02:10:08.865496Z",
     "start_time": "2024-03-04T02:10:08.850186Z"
    }
   },
   "outputs": [
    {
     "ename": "TypeError",
     "evalue": "unhashable type: 'list'",
     "output_type": "error",
     "traceback": [
      "\u001b[1;31m---------------------------------------------------------------------------\u001b[0m",
      "\u001b[1;31mTypeError\u001b[0m                                 Traceback (most recent call last)",
      "Cell \u001b[1;32mIn[64], line 1\u001b[0m\n\u001b[1;32m----> 1\u001b[0m a \u001b[38;5;241m=\u001b[39m {[\u001b[38;5;241m1\u001b[39m,\u001b[38;5;241m2\u001b[39m] : \u001b[38;5;124m'\u001b[39m\u001b[38;5;124mhi\u001b[39m\u001b[38;5;124m'\u001b[39m}\n",
      "\u001b[1;31mTypeError\u001b[0m: unhashable type: 'list'"
     ]
    }
   ],
   "source": [
    "a = {[1,2] : 'hi'}"
   ]
  },
  {
   "cell_type": "markdown",
   "id": "391785f1",
   "metadata": {},
   "source": [
    "## 딕셔너리 관련 함수"
   ]
  },
  {
   "cell_type": "code",
   "execution_count": 65,
   "id": "a2b0b47d",
   "metadata": {
    "ExecuteTime": {
     "end_time": "2024-03-04T02:15:09.363630Z",
     "start_time": "2024-03-04T02:15:09.358260Z"
    }
   },
   "outputs": [
    {
     "data": {
      "text/plain": [
       "dict_keys(['name', 'phone', 'birth'])"
      ]
     },
     "execution_count": 65,
     "metadata": {},
     "output_type": "execute_result"
    }
   ],
   "source": [
    "a = {'name': 'pey', 'phone': '010-9999-1234', 'birth': '1118'}\n",
    "a.keys()"
   ]
  },
  {
   "cell_type": "code",
   "execution_count": 67,
   "id": "c07932b2",
   "metadata": {
    "ExecuteTime": {
     "end_time": "2024-03-04T02:15:49.575922Z",
     "start_time": "2024-03-04T02:15:49.569957Z"
    }
   },
   "outputs": [
    {
     "data": {
      "text/plain": [
       "dict_values(['pey', '010-9999-1234', '1118'])"
      ]
     },
     "execution_count": 67,
     "metadata": {},
     "output_type": "execute_result"
    }
   ],
   "source": [
    "a.values()"
   ]
  },
  {
   "cell_type": "code",
   "execution_count": 68,
   "id": "76d11e91",
   "metadata": {
    "ExecuteTime": {
     "end_time": "2024-03-04T02:15:54.787067Z",
     "start_time": "2024-03-04T02:15:54.781491Z"
    }
   },
   "outputs": [
    {
     "data": {
      "text/plain": [
       "dict_items([('name', 'pey'), ('phone', '010-9999-1234'), ('birth', '1118')])"
      ]
     },
     "execution_count": 68,
     "metadata": {},
     "output_type": "execute_result"
    }
   ],
   "source": [
    "a.items()"
   ]
  },
  {
   "cell_type": "code",
   "execution_count": 69,
   "id": "6e734696",
   "metadata": {
    "ExecuteTime": {
     "end_time": "2024-03-04T02:16:04.073946Z",
     "start_time": "2024-03-04T02:16:04.070705Z"
    }
   },
   "outputs": [],
   "source": [
    "a.clear()"
   ]
  },
  {
   "cell_type": "code",
   "execution_count": 70,
   "id": "9b1617e6",
   "metadata": {
    "ExecuteTime": {
     "end_time": "2024-03-04T02:16:07.614169Z",
     "start_time": "2024-03-04T02:16:07.608101Z"
    }
   },
   "outputs": [
    {
     "data": {
      "text/plain": [
       "{}"
      ]
     },
     "execution_count": 70,
     "metadata": {},
     "output_type": "execute_result"
    }
   ],
   "source": [
    "a"
   ]
  },
  {
   "cell_type": "code",
   "execution_count": 71,
   "id": "9ee9bac5",
   "metadata": {
    "ExecuteTime": {
     "end_time": "2024-03-04T02:19:05.679671Z",
     "start_time": "2024-03-04T02:19:05.673154Z"
    }
   },
   "outputs": [
    {
     "data": {
      "text/plain": [
       "'pey'"
      ]
     },
     "execution_count": 71,
     "metadata": {},
     "output_type": "execute_result"
    }
   ],
   "source": [
    "a = {'name': 'pey', 'phone': '010-9999-1234', 'birth': '1118'}\n",
    "a.get('name')"
   ]
  },
  {
   "cell_type": "code",
   "execution_count": 72,
   "id": "4c82f087",
   "metadata": {
    "ExecuteTime": {
     "end_time": "2024-03-04T02:20:14.068479Z",
     "start_time": "2024-03-04T02:20:14.063428Z"
    }
   },
   "outputs": [
    {
     "data": {
      "text/plain": [
       "True"
      ]
     },
     "execution_count": 72,
     "metadata": {},
     "output_type": "execute_result"
    }
   ],
   "source": [
    "a = {'name':'pey', 'phone':'010-9999-1234', 'birth': '1118'}\n",
    "'name' in a"
   ]
  },
  {
   "cell_type": "markdown",
   "id": "4bb10cca",
   "metadata": {},
   "source": [
    "# 집합 자료형"
   ]
  },
  {
   "cell_type": "code",
   "execution_count": 73,
   "id": "190a6660",
   "metadata": {
    "ExecuteTime": {
     "end_time": "2024-03-04T02:22:56.611090Z",
     "start_time": "2024-03-04T02:22:56.605308Z"
    }
   },
   "outputs": [
    {
     "data": {
      "text/plain": [
       "({1, 2, 3}, set)"
      ]
     },
     "execution_count": 73,
     "metadata": {},
     "output_type": "execute_result"
    }
   ],
   "source": [
    "s1 = set([1, 2, 3])\n",
    "s1, type(s1)"
   ]
  },
  {
   "cell_type": "code",
   "execution_count": 74,
   "id": "c836693d",
   "metadata": {
    "ExecuteTime": {
     "end_time": "2024-03-04T02:23:10.124481Z",
     "start_time": "2024-03-04T02:23:10.118166Z"
    }
   },
   "outputs": [
    {
     "data": {
      "text/plain": [
       "{'H', 'e', 'l', 'o'}"
      ]
     },
     "execution_count": 74,
     "metadata": {},
     "output_type": "execute_result"
    }
   ],
   "source": [
    "s2 = set(\"Hello\")\n",
    "s2"
   ]
  },
  {
   "cell_type": "markdown",
   "id": "7e0c2a2e",
   "metadata": {
    "ExecuteTime": {
     "end_time": "2024-03-04T02:29:48.477114Z",
     "start_time": "2024-03-04T02:29:48.473043Z"
    }
   },
   "source": [
    "## 집합 구하기"
   ]
  },
  {
   "cell_type": "code",
   "execution_count": 77,
   "id": "1f928734",
   "metadata": {
    "ExecuteTime": {
     "end_time": "2024-03-04T02:30:18.987763Z",
     "start_time": "2024-03-04T02:30:18.983857Z"
    }
   },
   "outputs": [],
   "source": [
    ">>> s1 = set([1, 2, 3, 4, 5, 6])\n",
    ">>> s2 = set([4, 5, 6, 7, 8, 9])"
   ]
  },
  {
   "cell_type": "code",
   "execution_count": 78,
   "id": "0a7db745",
   "metadata": {
    "ExecuteTime": {
     "end_time": "2024-03-04T02:30:21.626976Z",
     "start_time": "2024-03-04T02:30:21.621351Z"
    },
    "scrolled": true
   },
   "outputs": [
    {
     "data": {
      "text/plain": [
       "{4, 5, 6}"
      ]
     },
     "execution_count": 78,
     "metadata": {},
     "output_type": "execute_result"
    }
   ],
   "source": [
    "# 교집합\n",
    "s1 & s2"
   ]
  },
  {
   "cell_type": "code",
   "execution_count": 79,
   "id": "f3b04e59",
   "metadata": {
    "ExecuteTime": {
     "end_time": "2024-03-04T02:30:27.791278Z",
     "start_time": "2024-03-04T02:30:27.785901Z"
    }
   },
   "outputs": [
    {
     "data": {
      "text/plain": [
       "{4, 5, 6}"
      ]
     },
     "execution_count": 79,
     "metadata": {},
     "output_type": "execute_result"
    }
   ],
   "source": [
    "s1.intersection(s2)"
   ]
  },
  {
   "cell_type": "code",
   "execution_count": 80,
   "id": "5df0359f",
   "metadata": {
    "ExecuteTime": {
     "end_time": "2024-03-04T02:30:37.187619Z",
     "start_time": "2024-03-04T02:30:37.183213Z"
    }
   },
   "outputs": [
    {
     "data": {
      "text/plain": [
       "{1, 2, 3, 4, 5, 6, 7, 8, 9}"
      ]
     },
     "execution_count": 80,
     "metadata": {},
     "output_type": "execute_result"
    }
   ],
   "source": [
    "# 합집합\n",
    "s1 | s2"
   ]
  },
  {
   "cell_type": "code",
   "execution_count": 81,
   "id": "609a1c0a",
   "metadata": {
    "ExecuteTime": {
     "end_time": "2024-03-04T02:30:42.402010Z",
     "start_time": "2024-03-04T02:30:42.396498Z"
    }
   },
   "outputs": [
    {
     "data": {
      "text/plain": [
       "{1, 2, 3, 4, 5, 6, 7, 8, 9}"
      ]
     },
     "execution_count": 81,
     "metadata": {},
     "output_type": "execute_result"
    }
   ],
   "source": [
    "s1.union(s2)"
   ]
  },
  {
   "cell_type": "code",
   "execution_count": 82,
   "id": "8623f420",
   "metadata": {
    "ExecuteTime": {
     "end_time": "2024-03-04T02:31:36.028067Z",
     "start_time": "2024-03-04T02:31:36.023084Z"
    }
   },
   "outputs": [
    {
     "data": {
      "text/plain": [
       "{1, 2, 3}"
      ]
     },
     "execution_count": 82,
     "metadata": {},
     "output_type": "execute_result"
    }
   ],
   "source": [
    "# 차집합\n",
    "s1 - s2"
   ]
  },
  {
   "cell_type": "code",
   "execution_count": 83,
   "id": "b23f909f",
   "metadata": {
    "ExecuteTime": {
     "end_time": "2024-03-04T02:31:41.802550Z",
     "start_time": "2024-03-04T02:31:41.797980Z"
    }
   },
   "outputs": [
    {
     "data": {
      "text/plain": [
       "{7, 8, 9}"
      ]
     },
     "execution_count": 83,
     "metadata": {},
     "output_type": "execute_result"
    }
   ],
   "source": [
    "s2 - s1"
   ]
  },
  {
   "cell_type": "code",
   "execution_count": 84,
   "id": "61b7cd17",
   "metadata": {
    "ExecuteTime": {
     "end_time": "2024-03-04T02:31:47.229698Z",
     "start_time": "2024-03-04T02:31:47.224699Z"
    }
   },
   "outputs": [
    {
     "data": {
      "text/plain": [
       "{1, 2, 3}"
      ]
     },
     "execution_count": 84,
     "metadata": {},
     "output_type": "execute_result"
    }
   ],
   "source": [
    "s1.difference(s2)"
   ]
  },
  {
   "cell_type": "code",
   "execution_count": 85,
   "id": "83234691",
   "metadata": {
    "ExecuteTime": {
     "end_time": "2024-03-04T02:31:51.278814Z",
     "start_time": "2024-03-04T02:31:51.272352Z"
    }
   },
   "outputs": [
    {
     "data": {
      "text/plain": [
       "{7, 8, 9}"
      ]
     },
     "execution_count": 85,
     "metadata": {},
     "output_type": "execute_result"
    }
   ],
   "source": [
    "s2.difference(s1)"
   ]
  },
  {
   "cell_type": "markdown",
   "id": "b95d604d",
   "metadata": {},
   "source": [
    "## 집합 자료형 관련 함수"
   ]
  },
  {
   "cell_type": "code",
   "execution_count": 87,
   "id": "181e0261",
   "metadata": {
    "ExecuteTime": {
     "end_time": "2024-03-04T02:34:02.816190Z",
     "start_time": "2024-03-04T02:34:02.811378Z"
    }
   },
   "outputs": [
    {
     "data": {
      "text/plain": [
       "{1, 2, 3, 4}"
      ]
     },
     "execution_count": 87,
     "metadata": {},
     "output_type": "execute_result"
    }
   ],
   "source": [
    "s1 = set([1, 2, 3])\n",
    "s1.add(4)\n",
    "s1"
   ]
  },
  {
   "cell_type": "code",
   "execution_count": 88,
   "id": "683b15b6",
   "metadata": {
    "ExecuteTime": {
     "end_time": "2024-03-04T02:34:13.891102Z",
     "start_time": "2024-03-04T02:34:13.885193Z"
    }
   },
   "outputs": [
    {
     "data": {
      "text/plain": [
       "{1, 2, 3, 4, 5, 6}"
      ]
     },
     "execution_count": 88,
     "metadata": {},
     "output_type": "execute_result"
    }
   ],
   "source": [
    "s1 = set([1, 2, 3])\n",
    "s1.update([4, 5, 6])\n",
    "s1"
   ]
  },
  {
   "cell_type": "code",
   "execution_count": 89,
   "id": "9a6a2ed0",
   "metadata": {
    "ExecuteTime": {
     "end_time": "2024-03-04T02:34:26.591086Z",
     "start_time": "2024-03-04T02:34:26.585651Z"
    }
   },
   "outputs": [
    {
     "data": {
      "text/plain": [
       "{1, 3}"
      ]
     },
     "execution_count": 89,
     "metadata": {},
     "output_type": "execute_result"
    }
   ],
   "source": [
    "s1 = set([1, 2, 3])\n",
    "s1.remove(2)\n",
    "s1"
   ]
  },
  {
   "cell_type": "markdown",
   "id": "1bf914f1",
   "metadata": {},
   "source": [
    "# 불 자료형"
   ]
  },
  {
   "cell_type": "code",
   "execution_count": 90,
   "id": "a628d4a3",
   "metadata": {
    "ExecuteTime": {
     "end_time": "2024-03-04T02:38:43.205084Z",
     "start_time": "2024-03-04T02:38:43.201118Z"
    }
   },
   "outputs": [],
   "source": [
    "a = True\n",
    "b = False"
   ]
  },
  {
   "cell_type": "code",
   "execution_count": 91,
   "id": "d20f937f",
   "metadata": {
    "ExecuteTime": {
     "end_time": "2024-03-04T02:38:55.020883Z",
     "start_time": "2024-03-04T02:38:55.014367Z"
    }
   },
   "outputs": [
    {
     "data": {
      "text/plain": [
       "(bool, bool)"
      ]
     },
     "execution_count": 91,
     "metadata": {},
     "output_type": "execute_result"
    }
   ],
   "source": [
    "type(a), type(b)"
   ]
  },
  {
   "cell_type": "code",
   "execution_count": 92,
   "id": "059bcfea",
   "metadata": {
    "ExecuteTime": {
     "end_time": "2024-03-04T02:39:07.160787Z",
     "start_time": "2024-03-04T02:39:07.155278Z"
    }
   },
   "outputs": [
    {
     "data": {
      "text/plain": [
       "True"
      ]
     },
     "execution_count": 92,
     "metadata": {},
     "output_type": "execute_result"
    }
   ],
   "source": [
    "1 == 1"
   ]
  },
  {
   "cell_type": "code",
   "execution_count": 93,
   "id": "910a5cda",
   "metadata": {
    "ExecuteTime": {
     "end_time": "2024-03-04T02:41:54.247145Z",
     "start_time": "2024-03-04T02:41:54.241619Z"
    }
   },
   "outputs": [
    {
     "name": "stdout",
     "output_type": "stream",
     "text": [
      "4\n",
      "3\n",
      "2\n",
      "1\n"
     ]
    }
   ],
   "source": [
    "a = [1, 2, 3, 4]\n",
    "while a:\n",
    "    print(a.pop())"
   ]
  },
  {
   "cell_type": "code",
   "execution_count": 94,
   "id": "0c530999",
   "metadata": {
    "ExecuteTime": {
     "end_time": "2024-03-04T02:44:27.578369Z",
     "start_time": "2024-03-04T02:44:27.573518Z"
    }
   },
   "outputs": [
    {
     "name": "stdout",
     "output_type": "stream",
     "text": [
      "거짓\n"
     ]
    }
   ],
   "source": [
    "if []:\n",
    "    print(\"참\")\n",
    "else:\n",
    "    print(\"거짓\")"
   ]
  },
  {
   "cell_type": "code",
   "execution_count": 95,
   "id": "c1ba43bf",
   "metadata": {
    "ExecuteTime": {
     "end_time": "2024-03-04T02:44:37.940498Z",
     "start_time": "2024-03-04T02:44:37.936228Z"
    }
   },
   "outputs": [
    {
     "name": "stdout",
     "output_type": "stream",
     "text": [
      "참\n"
     ]
    }
   ],
   "source": [
    "if [1]:\n",
    "    print(\"참\")\n",
    "else:\n",
    "    print(\"거짓\")"
   ]
  },
  {
   "cell_type": "code",
   "execution_count": 96,
   "id": "89308cf9",
   "metadata": {
    "ExecuteTime": {
     "end_time": "2024-03-04T02:46:15.384544Z",
     "start_time": "2024-03-04T02:46:15.377607Z"
    }
   },
   "outputs": [
    {
     "name": "stderr",
     "output_type": "stream",
     "text": [
      "<>:1: SyntaxWarning: \"is\" with a literal. Did you mean \"==\"?\n",
      "<>:1: SyntaxWarning: \"is\" with a literal. Did you mean \"==\"?\n",
      "C:\\Users\\EST\\AppData\\Local\\Temp\\ipykernel_20648\\486934944.py:1: SyntaxWarning: \"is\" with a literal. Did you mean \"==\"?\n",
      "  'python' is True\n"
     ]
    },
    {
     "data": {
      "text/plain": [
       "False"
      ]
     },
     "execution_count": 96,
     "metadata": {},
     "output_type": "execute_result"
    }
   ],
   "source": [
    "'python' is True"
   ]
  },
  {
   "cell_type": "code",
   "execution_count": 97,
   "id": "c0955d01",
   "metadata": {
    "ExecuteTime": {
     "end_time": "2024-03-04T02:46:26.018520Z",
     "start_time": "2024-03-04T02:46:26.013474Z"
    }
   },
   "outputs": [
    {
     "data": {
      "text/plain": [
       "False"
      ]
     },
     "execution_count": 97,
     "metadata": {},
     "output_type": "execute_result"
    }
   ],
   "source": [
    "'phython' == True"
   ]
  },
  {
   "cell_type": "code",
   "execution_count": 98,
   "id": "6d8fb6d4",
   "metadata": {
    "ExecuteTime": {
     "end_time": "2024-03-04T02:46:41.481069Z",
     "start_time": "2024-03-04T02:46:41.475945Z"
    }
   },
   "outputs": [
    {
     "data": {
      "text/plain": [
       "True"
      ]
     },
     "execution_count": 98,
     "metadata": {},
     "output_type": "execute_result"
    }
   ],
   "source": [
    "bool('phython')"
   ]
  },
  {
   "cell_type": "code",
   "execution_count": 99,
   "id": "ff0738ed",
   "metadata": {
    "ExecuteTime": {
     "end_time": "2024-03-04T02:46:45.907549Z",
     "start_time": "2024-03-04T02:46:45.902774Z"
    }
   },
   "outputs": [
    {
     "data": {
      "text/plain": [
       "False"
      ]
     },
     "execution_count": 99,
     "metadata": {},
     "output_type": "execute_result"
    }
   ],
   "source": [
    "bool('')"
   ]
  },
  {
   "cell_type": "code",
   "execution_count": null,
   "id": "27a8fcd1",
   "metadata": {},
   "outputs": [],
   "source": []
  }
 ],
 "metadata": {
  "kernelspec": {
   "display_name": "Python 3 (ipykernel)",
   "language": "python",
   "name": "python3"
  },
  "language_info": {
   "codemirror_mode": {
    "name": "ipython",
    "version": 3
   },
   "file_extension": ".py",
   "mimetype": "text/x-python",
   "name": "python",
   "nbconvert_exporter": "python",
   "pygments_lexer": "ipython3",
   "version": "3.11.5"
  },
  "toc": {
   "base_numbering": 1,
   "nav_menu": {},
   "number_sections": true,
   "sideBar": true,
   "skip_h1_title": false,
   "title_cell": "Table of Contents",
   "title_sidebar": "Contents",
   "toc_cell": false,
   "toc_position": {
    "height": "calc(100% - 180px)",
    "left": "10px",
    "top": "150px",
    "width": "409.6px"
   },
   "toc_section_display": true,
   "toc_window_display": false
  }
 },
 "nbformat": 4,
 "nbformat_minor": 5
}
