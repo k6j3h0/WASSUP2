{
 "cells": [
  {
   "cell_type": "code",
   "execution_count": 2,
   "id": "c867950e",
   "metadata": {
    "ExecuteTime": {
     "end_time": "2024-02-27T02:17:38.400669Z",
     "start_time": "2024-02-27T02:17:38.397180Z"
    }
   },
   "outputs": [],
   "source": [
    ">>> a = 123\n",
    ">>> a = -178\n",
    ">>> a = 0"
   ]
  },
  {
   "cell_type": "code",
   "execution_count": 3,
   "id": "122d78a3",
   "metadata": {
    "ExecuteTime": {
     "end_time": "2024-02-27T02:17:43.774915Z",
     "start_time": "2024-02-27T02:17:43.771768Z"
    }
   },
   "outputs": [],
   "source": [
    ">>> a = 1.2\n",
    ">>> a = -3.45\n"
   ]
  },
  {
   "cell_type": "code",
   "execution_count": 4,
   "id": "7a0a899c",
   "metadata": {
    "ExecuteTime": {
     "end_time": "2024-02-27T02:17:47.977037Z",
     "start_time": "2024-02-27T02:17:47.973215Z"
    }
   },
   "outputs": [],
   "source": [
    ">>> a = 4.24E10\n",
    ">>> a = 4.24e-10\n"
   ]
  },
  {
   "cell_type": "code",
   "execution_count": 6,
   "id": "b33e443e",
   "metadata": {
    "ExecuteTime": {
     "end_time": "2024-02-27T02:18:02.978170Z",
     "start_time": "2024-02-27T02:18:02.972976Z"
    }
   },
   "outputs": [
    {
     "name": "stdout",
     "output_type": "stream",
     "text": [
      "127\n"
     ]
    }
   ],
   "source": [
    ">>> a = 0o177\n",
    ">>> print(a)"
   ]
  },
  {
   "cell_type": "code",
   "execution_count": 8,
   "id": "707f066f",
   "metadata": {
    "ExecuteTime": {
     "end_time": "2024-02-27T02:18:14.701333Z",
     "start_time": "2024-02-27T02:18:14.696833Z"
    }
   },
   "outputs": [
    {
     "name": "stdout",
     "output_type": "stream",
     "text": [
      "2748\n"
     ]
    }
   ],
   "source": [
    ">>> a = 0x8ff\n",
    ">>> b = 0xABC\n",
    ">>> print(b)"
   ]
  },
  {
   "cell_type": "markdown",
   "id": "c3afffae",
   "metadata": {},
   "source": [
    "# 사칙연산"
   ]
  },
  {
   "cell_type": "code",
   "execution_count": 11,
   "id": "0c7ccae7",
   "metadata": {
    "ExecuteTime": {
     "end_time": "2024-02-27T02:25:25.343850Z",
     "start_time": "2024-02-27T02:25:25.338315Z"
    },
    "scrolled": true
   },
   "outputs": [
    {
     "data": {
      "text/plain": [
       "0.75"
      ]
     },
     "execution_count": 11,
     "metadata": {},
     "output_type": "execute_result"
    }
   ],
   "source": [
    ">>> a = 3\n",
    ">>> b = 4\n",
    ">>> a + b\n",
    "\n",
    ">>> a - b\n",
    "\n",
    ">>> a * b\n",
    "\n",
    ">>> a / b\n"
   ]
  },
  {
   "cell_type": "code",
   "execution_count": 12,
   "id": "4e49cbb1",
   "metadata": {
    "ExecuteTime": {
     "end_time": "2024-02-27T02:25:37.577898Z",
     "start_time": "2024-02-27T02:25:37.572695Z"
    }
   },
   "outputs": [
    {
     "data": {
      "text/plain": [
       "81"
      ]
     },
     "execution_count": 12,
     "metadata": {},
     "output_type": "execute_result"
    }
   ],
   "source": [
    ">>> a = 3\n",
    ">>> b = 4\n",
    ">>> a ** b"
   ]
  },
  {
   "cell_type": "markdown",
   "id": "96f93bcc",
   "metadata": {},
   "source": [
    "# 문자열 자료형"
   ]
  },
  {
   "cell_type": "code",
   "execution_count": 13,
   "id": "b539b8d9",
   "metadata": {
    "ExecuteTime": {
     "end_time": "2024-02-27T02:36:50.776769Z",
     "start_time": "2024-02-27T02:36:50.771167Z"
    }
   },
   "outputs": [
    {
     "data": {
      "text/plain": [
       "'Hello world'"
      ]
     },
     "execution_count": 13,
     "metadata": {},
     "output_type": "execute_result"
    }
   ],
   "source": [
    "\"Hello world\""
   ]
  },
  {
   "cell_type": "code",
   "execution_count": 14,
   "id": "8bf307cb",
   "metadata": {
    "ExecuteTime": {
     "end_time": "2024-02-27T02:36:55.564628Z",
     "start_time": "2024-02-27T02:36:55.559998Z"
    }
   },
   "outputs": [
    {
     "ename": "SyntaxError",
     "evalue": "invalid syntax (2283479775.py, line 1)",
     "output_type": "error",
     "traceback": [
      "\u001b[1;36m  Cell \u001b[1;32mIn[14], line 1\u001b[1;36m\u001b[0m\n\u001b[1;33m    Hello world\u001b[0m\n\u001b[1;37m          ^\u001b[0m\n\u001b[1;31mSyntaxError\u001b[0m\u001b[1;31m:\u001b[0m invalid syntax\n"
     ]
    }
   ],
   "source": [
    "Hello world"
   ]
  },
  {
   "cell_type": "code",
   "execution_count": 15,
   "id": "9e249069",
   "metadata": {
    "ExecuteTime": {
     "end_time": "2024-02-27T02:37:10.677509Z",
     "start_time": "2024-02-27T02:37:10.671616Z"
    }
   },
   "outputs": [
    {
     "data": {
      "text/plain": [
       "'Hello world'"
      ]
     },
     "execution_count": 15,
     "metadata": {},
     "output_type": "execute_result"
    }
   ],
   "source": [
    "\"\"\"Hello world\"\"\""
   ]
  },
  {
   "cell_type": "code",
   "execution_count": 16,
   "id": "c10352de",
   "metadata": {
    "ExecuteTime": {
     "end_time": "2024-02-27T02:37:15.840259Z",
     "start_time": "2024-02-27T02:37:15.833651Z"
    }
   },
   "outputs": [
    {
     "ename": "SyntaxError",
     "evalue": "invalid syntax (1449894262.py, line 1)",
     "output_type": "error",
     "traceback": [
      "\u001b[1;36m  Cell \u001b[1;32mIn[16], line 1\u001b[1;36m\u001b[0m\n\u001b[1;33m    \"\"Hello world\"\"\u001b[0m\n\u001b[1;37m      ^\u001b[0m\n\u001b[1;31mSyntaxError\u001b[0m\u001b[1;31m:\u001b[0m invalid syntax\n"
     ]
    }
   ],
   "source": [
    "\"\"Hello world\"\""
   ]
  },
  {
   "cell_type": "code",
   "execution_count": 1,
   "id": "7d901be9",
   "metadata": {
    "ExecuteTime": {
     "end_time": "2024-02-28T01:26:00.298359Z",
     "start_time": "2024-02-28T01:26:00.295467Z"
    }
   },
   "outputs": [],
   "source": [
    "multiline = \"Life is too short \\n You need python\""
   ]
  },
  {
   "cell_type": "code",
   "execution_count": 2,
   "id": "875a2bed",
   "metadata": {
    "ExecuteTime": {
     "end_time": "2024-02-28T01:26:15.370199Z",
     "start_time": "2024-02-28T01:26:15.365501Z"
    }
   },
   "outputs": [
    {
     "name": "stdout",
     "output_type": "stream",
     "text": [
      "Life is too short \n",
      " You need python\n"
     ]
    }
   ],
   "source": [
    "print(multiline)"
   ]
  },
  {
   "cell_type": "code",
   "execution_count": 3,
   "id": "3c9ddec1",
   "metadata": {
    "ExecuteTime": {
     "end_time": "2024-02-28T01:28:43.182918Z",
     "start_time": "2024-02-28T01:28:43.178648Z"
    }
   },
   "outputs": [],
   "source": [
    ">>> multiline='''\n",
    "... Life is too short\n",
    "... You need python\n",
    "... '''"
   ]
  },
  {
   "cell_type": "code",
   "execution_count": 4,
   "id": "54a5a6a8",
   "metadata": {
    "ExecuteTime": {
     "end_time": "2024-02-28T01:28:51.108871Z",
     "start_time": "2024-02-28T01:28:51.105823Z"
    }
   },
   "outputs": [
    {
     "name": "stdout",
     "output_type": "stream",
     "text": [
      "\n",
      "Life is too short\n",
      "You need python\n",
      "\n"
     ]
    }
   ],
   "source": [
    "print(multiline)"
   ]
  },
  {
   "cell_type": "markdown",
   "id": "0955e7cc",
   "metadata": {},
   "source": [
    "# 문자열 연산하기"
   ]
  },
  {
   "cell_type": "code",
   "execution_count": 5,
   "id": "296533d5",
   "metadata": {
    "ExecuteTime": {
     "end_time": "2024-02-28T01:31:25.443263Z",
     "start_time": "2024-02-28T01:31:25.435485Z"
    }
   },
   "outputs": [
    {
     "data": {
      "text/plain": [
       "'Python is fun!'"
      ]
     },
     "execution_count": 5,
     "metadata": {},
     "output_type": "execute_result"
    }
   ],
   "source": [
    "head = \"Python\"\n",
    "tail = \" is fun!\"\n",
    "head + tail\n",
    "'Python is fun!'"
   ]
  },
  {
   "cell_type": "code",
   "execution_count": 6,
   "id": "7b881d7b",
   "metadata": {
    "ExecuteTime": {
     "end_time": "2024-02-28T01:39:08.803907Z",
     "start_time": "2024-02-28T01:39:08.799326Z"
    }
   },
   "outputs": [
    {
     "data": {
      "text/plain": [
       "13"
      ]
     },
     "execution_count": 6,
     "metadata": {},
     "output_type": "execute_result"
    }
   ],
   "source": [
    "a = 'Life is short'\n",
    "len(a)"
   ]
  },
  {
   "cell_type": "markdown",
   "id": "d0d16f7f",
   "metadata": {},
   "source": [
    "# 문자열 인덱싱"
   ]
  },
  {
   "cell_type": "code",
   "execution_count": 7,
   "id": "38e5ae8b",
   "metadata": {
    "ExecuteTime": {
     "end_time": "2024-02-28T01:41:24.156466Z",
     "start_time": "2024-02-28T01:41:24.151830Z"
    }
   },
   "outputs": [],
   "source": [
    "a = \"Life is too short, You need Python\""
   ]
  },
  {
   "cell_type": "code",
   "execution_count": 8,
   "id": "dcce55a5",
   "metadata": {
    "ExecuteTime": {
     "end_time": "2024-02-28T01:41:40.132714Z",
     "start_time": "2024-02-28T01:41:40.127201Z"
    }
   },
   "outputs": [
    {
     "data": {
      "text/plain": [
       "'e'"
      ]
     },
     "execution_count": 8,
     "metadata": {},
     "output_type": "execute_result"
    }
   ],
   "source": [
    "a[3]"
   ]
  },
  {
   "cell_type": "code",
   "execution_count": 9,
   "id": "eaa89482",
   "metadata": {
    "ExecuteTime": {
     "end_time": "2024-02-28T01:43:39.609481Z",
     "start_time": "2024-02-28T01:43:39.603902Z"
    }
   },
   "outputs": [
    {
     "data": {
      "text/plain": [
       "'s'"
      ]
     },
     "execution_count": 9,
     "metadata": {},
     "output_type": "execute_result"
    }
   ],
   "source": [
    "a[12]"
   ]
  },
  {
   "cell_type": "code",
   "execution_count": 10,
   "id": "469fd66f",
   "metadata": {
    "ExecuteTime": {
     "end_time": "2024-02-28T01:43:58.021547Z",
     "start_time": "2024-02-28T01:43:58.015547Z"
    }
   },
   "outputs": [
    {
     "data": {
      "text/plain": [
       "'n'"
      ]
     },
     "execution_count": 10,
     "metadata": {},
     "output_type": "execute_result"
    }
   ],
   "source": [
    "a[-1]"
   ]
  },
  {
   "cell_type": "code",
   "execution_count": null,
   "id": "50062e14",
   "metadata": {},
   "outputs": [],
   "source": []
  },
  {
   "cell_type": "markdown",
   "id": "60494cdb",
   "metadata": {},
   "source": [
    "# 문자열 슬라이싱"
   ]
  },
  {
   "cell_type": "code",
   "execution_count": 11,
   "id": "f5bec85d",
   "metadata": {
    "ExecuteTime": {
     "end_time": "2024-02-28T01:44:55.858806Z",
     "start_time": "2024-02-28T01:44:55.854796Z"
    }
   },
   "outputs": [],
   "source": [
    "a = \"Life is too short, You need Python\"\n",
    "b = a[0] + a[1] + a[2] + a[3]"
   ]
  },
  {
   "cell_type": "code",
   "execution_count": 12,
   "id": "7f14b4fd",
   "metadata": {
    "ExecuteTime": {
     "end_time": "2024-02-28T01:44:58.234256Z",
     "start_time": "2024-02-28T01:44:58.230185Z"
    }
   },
   "outputs": [
    {
     "data": {
      "text/plain": [
       "'Life'"
      ]
     },
     "execution_count": 12,
     "metadata": {},
     "output_type": "execute_result"
    }
   ],
   "source": [
    "b"
   ]
  },
  {
   "cell_type": "code",
   "execution_count": 13,
   "id": "6c0c1eb4",
   "metadata": {
    "ExecuteTime": {
     "end_time": "2024-02-28T01:46:02.812020Z",
     "start_time": "2024-02-28T01:46:02.805398Z"
    }
   },
   "outputs": [
    {
     "data": {
      "text/plain": [
       "'Life'"
      ]
     },
     "execution_count": 13,
     "metadata": {},
     "output_type": "execute_result"
    }
   ],
   "source": [
    "a[0:4]"
   ]
  },
  {
   "cell_type": "code",
   "execution_count": 14,
   "id": "813f7a70",
   "metadata": {
    "ExecuteTime": {
     "end_time": "2024-02-28T01:49:13.077474Z",
     "start_time": "2024-02-28T01:49:13.071446Z"
    }
   },
   "outputs": [
    {
     "data": {
      "text/plain": [
       "'too short'"
      ]
     },
     "execution_count": 14,
     "metadata": {},
     "output_type": "execute_result"
    }
   ],
   "source": [
    "a[8:17]"
   ]
  },
  {
   "cell_type": "code",
   "execution_count": 15,
   "id": "aaf1dc12",
   "metadata": {
    "ExecuteTime": {
     "end_time": "2024-02-28T02:06:18.867063Z",
     "start_time": "2024-02-28T02:06:18.860748Z"
    }
   },
   "outputs": [
    {
     "data": {
      "text/plain": [
       "''"
      ]
     },
     "execution_count": 15,
     "metadata": {},
     "output_type": "execute_result"
    }
   ],
   "source": [
    "a[19:-21]"
   ]
  },
  {
   "cell_type": "code",
   "execution_count": 16,
   "id": "1c0059d2",
   "metadata": {
    "ExecuteTime": {
     "end_time": "2024-02-28T02:06:28.313690Z",
     "start_time": "2024-02-28T02:06:28.309398Z"
    }
   },
   "outputs": [
    {
     "data": {
      "text/plain": [
       "''"
      ]
     },
     "execution_count": 16,
     "metadata": {},
     "output_type": "execute_result"
    }
   ],
   "source": [
    "a[19:-24]"
   ]
  },
  {
   "cell_type": "code",
   "execution_count": 18,
   "id": "c3b3f58f",
   "metadata": {
    "ExecuteTime": {
     "end_time": "2024-02-28T02:10:09.755300Z",
     "start_time": "2024-02-28T02:10:09.739205Z"
    }
   },
   "outputs": [
    {
     "ename": "TypeError",
     "evalue": "'str' object does not support item assignment",
     "output_type": "error",
     "traceback": [
      "\u001b[1;31m---------------------------------------------------------------------------\u001b[0m",
      "\u001b[1;31mTypeError\u001b[0m                                 Traceback (most recent call last)",
      "Cell \u001b[1;32mIn[18], line 3\u001b[0m\n\u001b[0;32m      1\u001b[0m \u001b[38;5;66;03m# 문자열 수정하기\u001b[39;00m\n\u001b[0;32m      2\u001b[0m a \u001b[38;5;241m=\u001b[39m \u001b[38;5;124m'\u001b[39m\u001b[38;5;124mPithon\u001b[39m\u001b[38;5;124m'\u001b[39m\n\u001b[1;32m----> 3\u001b[0m a[\u001b[38;5;241m1\u001b[39m] \u001b[38;5;241m=\u001b[39m \u001b[38;5;124m'\u001b[39m\u001b[38;5;124my\u001b[39m\u001b[38;5;124m'\u001b[39m\n\u001b[0;32m      4\u001b[0m a\n",
      "\u001b[1;31mTypeError\u001b[0m: 'str' object does not support item assignment"
     ]
    }
   ],
   "source": [
    "# 문자열 수정하기\n",
    "a = 'Pithon'\n",
    "a[1] = 'y'\n",
    "a"
   ]
  },
  {
   "cell_type": "code",
   "execution_count": 20,
   "id": "03df9647",
   "metadata": {
    "ExecuteTime": {
     "end_time": "2024-02-28T02:12:35.234428Z",
     "start_time": "2024-02-28T02:12:35.227985Z"
    }
   },
   "outputs": [
    {
     "data": {
      "text/plain": [
       "('P', 'P')"
      ]
     },
     "execution_count": 20,
     "metadata": {},
     "output_type": "execute_result"
    }
   ],
   "source": [
    "a[0], a[:1]"
   ]
  },
  {
   "cell_type": "code",
   "execution_count": 21,
   "id": "5e9496cf",
   "metadata": {
    "ExecuteTime": {
     "end_time": "2024-02-28T02:12:49.122637Z",
     "start_time": "2024-02-28T02:12:49.116311Z"
    }
   },
   "outputs": [
    {
     "data": {
      "text/plain": [
       "'thon'"
      ]
     },
     "execution_count": 21,
     "metadata": {},
     "output_type": "execute_result"
    }
   ],
   "source": [
    "a[2:]"
   ]
  },
  {
   "cell_type": "code",
   "execution_count": 22,
   "id": "7a626c04",
   "metadata": {
    "ExecuteTime": {
     "end_time": "2024-02-28T02:13:11.324871Z",
     "start_time": "2024-02-28T02:13:11.316871Z"
    }
   },
   "outputs": [
    {
     "data": {
      "text/plain": [
       "'Python'"
      ]
     },
     "execution_count": 22,
     "metadata": {},
     "output_type": "execute_result"
    }
   ],
   "source": [
    "a[:1] + 'y' + a[2:]"
   ]
  },
  {
   "cell_type": "markdown",
   "id": "6eeae64a",
   "metadata": {},
   "source": [
    "# 문자열 포매팅"
   ]
  },
  {
   "cell_type": "code",
   "execution_count": 23,
   "id": "c556db81",
   "metadata": {
    "ExecuteTime": {
     "end_time": "2024-02-28T02:17:11.812154Z",
     "start_time": "2024-02-28T02:17:11.808027Z"
    }
   },
   "outputs": [
    {
     "data": {
      "text/plain": [
       "'I eat 3 apples'"
      ]
     },
     "execution_count": 23,
     "metadata": {},
     "output_type": "execute_result"
    }
   ],
   "source": [
    "# 숫자 바로 대입\n",
    "\"I eat %d apples\" %3"
   ]
  },
  {
   "cell_type": "code",
   "execution_count": 25,
   "id": "ec9d4c2f",
   "metadata": {
    "ExecuteTime": {
     "end_time": "2024-02-28T02:18:17.339938Z",
     "start_time": "2024-02-28T02:18:17.334944Z"
    }
   },
   "outputs": [
    {
     "data": {
      "text/plain": [
       "'I eat five apples'"
      ]
     },
     "execution_count": 25,
     "metadata": {},
     "output_type": "execute_result"
    }
   ],
   "source": [
    "# 문자열 바로 대입\n",
    "\"I eat %s apples\" % \"five\""
   ]
  },
  {
   "cell_type": "code",
   "execution_count": 27,
   "id": "d6df492b",
   "metadata": {
    "ExecuteTime": {
     "end_time": "2024-02-28T02:20:17.131772Z",
     "start_time": "2024-02-28T02:20:17.125397Z"
    }
   },
   "outputs": [
    {
     "data": {
      "text/plain": [
       "'I eat 3 apples'"
      ]
     },
     "execution_count": 27,
     "metadata": {},
     "output_type": "execute_result"
    }
   ],
   "source": [
    "# 숫자 값을 나타내는 변수로 대입\n",
    "number = 3\n",
    "\"I eat %d apples\" %number"
   ]
  },
  {
   "cell_type": "code",
   "execution_count": 28,
   "id": "f09fe790",
   "metadata": {
    "ExecuteTime": {
     "end_time": "2024-02-28T02:20:47.070887Z",
     "start_time": "2024-02-28T02:20:47.065124Z"
    }
   },
   "outputs": [
    {
     "data": {
      "text/plain": [
       "'I ate 10 apples. so I was sick for three days.'"
      ]
     },
     "execution_count": 28,
     "metadata": {},
     "output_type": "execute_result"
    }
   ],
   "source": [
    "# 2개 이상의 값 넣기\n",
    "number = 10\n",
    "day = 'three'\n",
    "\n",
    "\"I ate %d apples. so I was sick for %s days.\" % (number, day)"
   ]
  },
  {
   "cell_type": "markdown",
   "id": "0eed127f",
   "metadata": {},
   "source": [
    "# 포맷 코드와 숫자 함께 사용하기"
   ]
  },
  {
   "cell_type": "code",
   "execution_count": 29,
   "id": "243e35aa",
   "metadata": {
    "ExecuteTime": {
     "end_time": "2024-02-28T02:30:02.122330Z",
     "start_time": "2024-02-28T02:30:02.116747Z"
    }
   },
   "outputs": [
    {
     "data": {
      "text/plain": [
       "'        hi'"
      ]
     },
     "execution_count": 29,
     "metadata": {},
     "output_type": "execute_result"
    }
   ],
   "source": [
    "\"%10s\" % \"hi\""
   ]
  },
  {
   "cell_type": "code",
   "execution_count": 30,
   "id": "d1b78398",
   "metadata": {
    "ExecuteTime": {
     "end_time": "2024-02-28T02:30:26.972092Z",
     "start_time": "2024-02-28T02:30:26.966390Z"
    }
   },
   "outputs": [
    {
     "data": {
      "text/plain": [
       "'hi        jane.'"
      ]
     },
     "execution_count": 30,
     "metadata": {},
     "output_type": "execute_result"
    }
   ],
   "source": [
    "\"%-10sjane.\" % 'hi'\n",
    "'hi        jane.'"
   ]
  },
  {
   "cell_type": "markdown",
   "id": "413384ba",
   "metadata": {},
   "source": [
    "# 소수점 표현하기"
   ]
  },
  {
   "cell_type": "code",
   "execution_count": 31,
   "id": "bf9331d3",
   "metadata": {
    "ExecuteTime": {
     "end_time": "2024-02-28T02:31:27.259879Z",
     "start_time": "2024-02-28T02:31:27.253904Z"
    }
   },
   "outputs": [
    {
     "data": {
      "text/plain": [
       "'3.4213'"
      ]
     },
     "execution_count": 31,
     "metadata": {},
     "output_type": "execute_result"
    }
   ],
   "source": [
    "\"%0.4f\" % 3.42134234"
   ]
  },
  {
   "cell_type": "code",
   "execution_count": 32,
   "id": "9c2de278",
   "metadata": {
    "ExecuteTime": {
     "end_time": "2024-02-28T02:31:36.609350Z",
     "start_time": "2024-02-28T02:31:36.604096Z"
    }
   },
   "outputs": [
    {
     "data": {
      "text/plain": [
       "'    3.4213'"
      ]
     },
     "execution_count": 32,
     "metadata": {},
     "output_type": "execute_result"
    }
   ],
   "source": [
    "\"%10.4f\" % 3.42134234"
   ]
  },
  {
   "cell_type": "markdown",
   "id": "3d0c2c3e",
   "metadata": {},
   "source": [
    "# format 함수를 사용한 포매팅"
   ]
  },
  {
   "cell_type": "code",
   "execution_count": 35,
   "id": "4e51fdeb",
   "metadata": {
    "ExecuteTime": {
     "end_time": "2024-02-28T02:34:07.722463Z",
     "start_time": "2024-02-28T02:34:07.717764Z"
    }
   },
   "outputs": [
    {
     "data": {
      "text/plain": [
       "'I eat 3 apples'"
      ]
     },
     "execution_count": 35,
     "metadata": {},
     "output_type": "execute_result"
    }
   ],
   "source": [
    "\"I eat {} apples\".format(3)"
   ]
  },
  {
   "cell_type": "code",
   "execution_count": 36,
   "id": "61efc656",
   "metadata": {
    "ExecuteTime": {
     "end_time": "2024-02-28T02:34:09.526391Z",
     "start_time": "2024-02-28T02:34:09.521504Z"
    }
   },
   "outputs": [
    {
     "data": {
      "text/plain": [
       "'I eat five apples'"
      ]
     },
     "execution_count": 36,
     "metadata": {},
     "output_type": "execute_result"
    }
   ],
   "source": [
    "\"I eat {} apples\".format(\"five\")"
   ]
  },
  {
   "cell_type": "code",
   "execution_count": 37,
   "id": "67273b50",
   "metadata": {
    "ExecuteTime": {
     "end_time": "2024-02-28T02:35:10.529458Z",
     "start_time": "2024-02-28T02:35:10.523458Z"
    }
   },
   "outputs": [
    {
     "data": {
      "text/plain": [
       "'I eat 3 apples'"
      ]
     },
     "execution_count": 37,
     "metadata": {},
     "output_type": "execute_result"
    }
   ],
   "source": [
    "number = 3\n",
    "\"I eat {0} apples\".format(number)\n",
    "'I eat 3 apples'"
   ]
  },
  {
   "cell_type": "code",
   "execution_count": 38,
   "id": "476e55e8",
   "metadata": {
    "ExecuteTime": {
     "end_time": "2024-02-28T02:35:18.329660Z",
     "start_time": "2024-02-28T02:35:18.323154Z"
    }
   },
   "outputs": [
    {
     "data": {
      "text/plain": [
       "'I ate 10 apples. so I was sick for three days.'"
      ]
     },
     "execution_count": 38,
     "metadata": {},
     "output_type": "execute_result"
    }
   ],
   "source": [
    "number = 10\n",
    "day = \"three\"\n",
    "\"I ate {0} apples. so I was sick for {1} days.\".format(number, day)\n",
    "'I ate 10 apples. so I was sick for three days.'"
   ]
  },
  {
   "cell_type": "code",
   "execution_count": 39,
   "id": "376a8251",
   "metadata": {
    "ExecuteTime": {
     "end_time": "2024-02-28T02:35:27.964812Z",
     "start_time": "2024-02-28T02:35:27.958956Z"
    }
   },
   "outputs": [
    {
     "data": {
      "text/plain": [
       "'I ate 10 apples. so I was sick for 3 days.'"
      ]
     },
     "execution_count": 39,
     "metadata": {},
     "output_type": "execute_result"
    }
   ],
   "source": [
    "\"I ate {number} apples. so I was sick for {day} days.\".format(number=10, day=3)\n",
    "'I ate 10 apples. so I was sick for 3 days.'"
   ]
  },
  {
   "cell_type": "code",
   "execution_count": null,
   "id": "209dbd7c",
   "metadata": {},
   "outputs": [],
   "source": []
  },
  {
   "cell_type": "code",
   "execution_count": 40,
   "id": "60a81b08",
   "metadata": {
    "ExecuteTime": {
     "end_time": "2024-02-28T02:40:07.721449Z",
     "start_time": "2024-02-28T02:40:07.715344Z"
    }
   },
   "outputs": [
    {
     "data": {
      "text/plain": [
       "'3.4213'"
      ]
     },
     "execution_count": 40,
     "metadata": {},
     "output_type": "execute_result"
    }
   ],
   "source": [
    "# 소수점 표현하기\n",
    "y = 3.42134234\n",
    "\"{0:0.4f}\".format(y)\n",
    "'3.4213'"
   ]
  },
  {
   "cell_type": "code",
   "execution_count": null,
   "id": "44340bf9",
   "metadata": {},
   "outputs": [],
   "source": []
  },
  {
   "cell_type": "markdown",
   "id": "b94fa9c7",
   "metadata": {
    "ExecuteTime": {
     "end_time": "2024-02-28T02:40:54.297091Z",
     "start_time": "2024-02-28T02:40:54.292999Z"
    }
   },
   "source": [
    "# f 문자열 포매팅"
   ]
  },
  {
   "cell_type": "code",
   "execution_count": 42,
   "id": "d246999c",
   "metadata": {
    "ExecuteTime": {
     "end_time": "2024-02-28T02:41:23.959328Z",
     "start_time": "2024-02-28T02:41:23.953813Z"
    }
   },
   "outputs": [
    {
     "data": {
      "text/plain": [
       "'나의 이름은 홍길동입니다. 나이는 30입니다.'"
      ]
     },
     "execution_count": 42,
     "metadata": {},
     "output_type": "execute_result"
    }
   ],
   "source": [
    "name = '홍길동'\n",
    "age = 30\n",
    "f'나의 이름은 {name}입니다. 나이는 {age}입니다.'"
   ]
  },
  {
   "cell_type": "code",
   "execution_count": 43,
   "id": "54bfa006",
   "metadata": {
    "ExecuteTime": {
     "end_time": "2024-02-28T02:43:01.838140Z",
     "start_time": "2024-02-28T02:43:01.832138Z"
    }
   },
   "outputs": [
    {
     "data": {
      "text/plain": [
       "'나는 내년이면 31살이 된다.'"
      ]
     },
     "execution_count": 43,
     "metadata": {},
     "output_type": "execute_result"
    }
   ],
   "source": [
    "age = 30\n",
    "f'나는 내년이면 {age + 1}살이 된다.'"
   ]
  },
  {
   "cell_type": "code",
   "execution_count": 46,
   "id": "8af0e8a5",
   "metadata": {
    "ExecuteTime": {
     "end_time": "2024-02-28T02:43:49.010057Z",
     "start_time": "2024-02-28T02:43:49.005020Z"
    }
   },
   "outputs": [
    {
     "data": {
      "text/plain": [
       "'나의 이름은 홍길동입니다. 나이는 30입니다.'"
      ]
     },
     "execution_count": 46,
     "metadata": {},
     "output_type": "execute_result"
    }
   ],
   "source": [
    " d = {'name':'홍길동', 'age':30}\n",
    "f'나의 이름은 {d[\"name\"]}입니다. 나이는 {d[\"age\"]}입니다.'"
   ]
  },
  {
   "cell_type": "markdown",
   "id": "b789daba",
   "metadata": {},
   "source": [
    "# 문자열 관련 함수들"
   ]
  },
  {
   "cell_type": "code",
   "execution_count": 47,
   "id": "47008f65",
   "metadata": {
    "ExecuteTime": {
     "end_time": "2024-02-28T02:44:58.238852Z",
     "start_time": "2024-02-28T02:44:58.231558Z"
    }
   },
   "outputs": [
    {
     "data": {
      "text/plain": [
       "2"
      ]
     },
     "execution_count": 47,
     "metadata": {},
     "output_type": "execute_result"
    }
   ],
   "source": [
    "# 문자 개수 세기\n",
    "a = \"hobby\"\n",
    "a.count('b')"
   ]
  },
  {
   "cell_type": "code",
   "execution_count": 53,
   "id": "8dd7dc06",
   "metadata": {
    "ExecuteTime": {
     "end_time": "2024-02-28T02:47:53.428217Z",
     "start_time": "2024-02-28T02:47:53.422056Z"
    }
   },
   "outputs": [
    {
     "data": {
      "text/plain": [
       "14"
      ]
     },
     "execution_count": 53,
     "metadata": {},
     "output_type": "execute_result"
    }
   ],
   "source": [
    "# 위치 알려주기 find\n",
    "a = \"Python is the best choice\"\n",
    "a.find('b')"
   ]
  },
  {
   "cell_type": "code",
   "execution_count": 54,
   "id": "a151a972",
   "metadata": {
    "ExecuteTime": {
     "end_time": "2024-02-28T02:48:06.379910Z",
     "start_time": "2024-02-28T02:48:06.373014Z"
    }
   },
   "outputs": [
    {
     "data": {
      "text/plain": [
       "-1"
      ]
     },
     "execution_count": 54,
     "metadata": {},
     "output_type": "execute_result"
    }
   ],
   "source": [
    "a.find('k')"
   ]
  },
  {
   "cell_type": "code",
   "execution_count": 55,
   "id": "65fae153",
   "metadata": {
    "ExecuteTime": {
     "end_time": "2024-02-28T02:49:54.007999Z",
     "start_time": "2024-02-28T02:49:54.001992Z"
    }
   },
   "outputs": [
    {
     "data": {
      "text/plain": [
       "8"
      ]
     },
     "execution_count": 55,
     "metadata": {},
     "output_type": "execute_result"
    }
   ],
   "source": [
    "# 위치 알려주기 index\n",
    "a = \"Life is too short\"\n",
    "a.index('t')"
   ]
  },
  {
   "cell_type": "code",
   "execution_count": 56,
   "id": "5ece6be3",
   "metadata": {
    "ExecuteTime": {
     "end_time": "2024-02-28T02:49:59.845286Z",
     "start_time": "2024-02-28T02:49:59.840307Z"
    }
   },
   "outputs": [
    {
     "data": {
      "text/plain": [
       "'a,b,c,d'"
      ]
     },
     "execution_count": 56,
     "metadata": {},
     "output_type": "execute_result"
    }
   ],
   "source": [
    "\",\".join('abcd')"
   ]
  },
  {
   "cell_type": "code",
   "execution_count": null,
   "id": "bc83514b",
   "metadata": {},
   "outputs": [],
   "source": []
  }
 ],
 "metadata": {
  "kernelspec": {
   "display_name": "Python 3 (ipykernel)",
   "language": "python",
   "name": "python3"
  },
  "language_info": {
   "codemirror_mode": {
    "name": "ipython",
    "version": 3
   },
   "file_extension": ".py",
   "mimetype": "text/x-python",
   "name": "python",
   "nbconvert_exporter": "python",
   "pygments_lexer": "ipython3",
   "version": "3.11.5"
  },
  "toc": {
   "base_numbering": 1,
   "nav_menu": {},
   "number_sections": true,
   "sideBar": true,
   "skip_h1_title": false,
   "title_cell": "Table of Contents",
   "title_sidebar": "Contents",
   "toc_cell": false,
   "toc_position": {
    "height": "calc(100% - 180px)",
    "left": "10px",
    "top": "150px",
    "width": "409.6px"
   },
   "toc_section_display": true,
   "toc_window_display": true
  }
 },
 "nbformat": 4,
 "nbformat_minor": 5
}
