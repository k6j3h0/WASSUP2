{
 "cells": [
  {
   "cell_type": "markdown",
   "id": "64e68896",
   "metadata": {},
   "source": [
    "# if문"
   ]
  },
  {
   "cell_type": "code",
   "execution_count": 4,
   "id": "6b96a923",
   "metadata": {
    "ExecuteTime": {
     "end_time": "2024-03-05T00:30:40.238975Z",
     "start_time": "2024-03-05T00:30:40.234431Z"
    }
   },
   "outputs": [
    {
     "name": "stdout",
     "output_type": "stream",
     "text": [
      "택시를 타고 가라\n"
     ]
    }
   ],
   "source": [
    "money = True\n",
    "if money:\n",
    "    print(\"택시를 타고 가라\")\n",
    "else:\n",
    "    print(\"걸어 가라\")"
   ]
  },
  {
   "cell_type": "code",
   "execution_count": 5,
   "id": "01f5d25e",
   "metadata": {
    "ExecuteTime": {
     "end_time": "2024-03-05T00:34:28.109532Z",
     "start_time": "2024-03-05T00:34:28.104828Z"
    }
   },
   "outputs": [
    {
     "ename": "IndentationError",
     "evalue": "unexpected indent (1841204671.py, line 5)",
     "output_type": "error",
     "traceback": [
      "\u001b[1;36m  Cell \u001b[1;32mIn[5], line 5\u001b[1;36m\u001b[0m\n\u001b[1;33m    print(\"가라\")\u001b[0m\n\u001b[1;37m    ^\u001b[0m\n\u001b[1;31mIndentationError\u001b[0m\u001b[1;31m:\u001b[0m unexpected indent\n"
     ]
    }
   ],
   "source": [
    "money = True\n",
    "if money:\n",
    "    print(\"택시를\")\n",
    "print(\"타고\")\n",
    "    print(\"가라\")"
   ]
  },
  {
   "cell_type": "code",
   "execution_count": 6,
   "id": "26adf2b9",
   "metadata": {
    "ExecuteTime": {
     "end_time": "2024-03-05T00:37:46.659928Z",
     "start_time": "2024-03-05T00:37:46.653879Z"
    }
   },
   "outputs": [
    {
     "name": "stdout",
     "output_type": "stream",
     "text": [
      "걸어가라\n"
     ]
    }
   ],
   "source": [
    ">>> money = 2000\n",
    ">>> if money >= 3000:\n",
    "...     print(\"택시를 타고 가라\")\n",
    "... else:\n",
    "...     print(\"걸어가라\")"
   ]
  },
  {
   "cell_type": "code",
   "execution_count": 7,
   "id": "72934d37",
   "metadata": {
    "ExecuteTime": {
     "end_time": "2024-03-05T00:42:40.799917Z",
     "start_time": "2024-03-05T00:42:40.794871Z"
    }
   },
   "outputs": [
    {
     "name": "stdout",
     "output_type": "stream",
     "text": [
      "택시를 타고 가라\n"
     ]
    }
   ],
   "source": [
    ">>> money = 2000\n",
    ">>> card = True\n",
    ">>> if money >= 3000 or card:\n",
    "...     print(\"택시를 타고 가라\")\n",
    "... else:\n",
    "...     print(\"걸어가라\")"
   ]
  },
  {
   "cell_type": "code",
   "execution_count": 8,
   "id": "34a35cf0",
   "metadata": {
    "ExecuteTime": {
     "end_time": "2024-03-05T00:45:22.692793Z",
     "start_time": "2024-03-05T00:45:22.685001Z"
    }
   },
   "outputs": [
    {
     "data": {
      "text/plain": [
       "True"
      ]
     },
     "execution_count": 8,
     "metadata": {},
     "output_type": "execute_result"
    }
   ],
   "source": [
    ">>> 1 in [1, 2, 3]\n"
   ]
  },
  {
   "cell_type": "code",
   "execution_count": 9,
   "id": "80140442",
   "metadata": {
    "ExecuteTime": {
     "end_time": "2024-03-05T00:45:26.514052Z",
     "start_time": "2024-03-05T00:45:26.509252Z"
    }
   },
   "outputs": [
    {
     "data": {
      "text/plain": [
       "False"
      ]
     },
     "execution_count": 9,
     "metadata": {},
     "output_type": "execute_result"
    }
   ],
   "source": [
    ">>> 1 not in [1, 2, 3]\n"
   ]
  },
  {
   "cell_type": "code",
   "execution_count": 10,
   "id": "a2f745b2",
   "metadata": {
    "ExecuteTime": {
     "end_time": "2024-03-05T00:45:36.351429Z",
     "start_time": "2024-03-05T00:45:36.346678Z"
    }
   },
   "outputs": [
    {
     "data": {
      "text/plain": [
       "True"
      ]
     },
     "execution_count": 10,
     "metadata": {},
     "output_type": "execute_result"
    }
   ],
   "source": [
    ">>> 'a' in ('a', 'b', 'c')\n"
   ]
  },
  {
   "cell_type": "code",
   "execution_count": 11,
   "id": "0ec32eb7",
   "metadata": {
    "ExecuteTime": {
     "end_time": "2024-03-05T00:45:40.839738Z",
     "start_time": "2024-03-05T00:45:40.834176Z"
    }
   },
   "outputs": [
    {
     "data": {
      "text/plain": [
       "True"
      ]
     },
     "execution_count": 11,
     "metadata": {},
     "output_type": "execute_result"
    }
   ],
   "source": [
    ">>> 'j' not in 'python'\n"
   ]
  },
  {
   "cell_type": "code",
   "execution_count": 12,
   "id": "5bcc25d3",
   "metadata": {
    "ExecuteTime": {
     "end_time": "2024-03-05T00:45:58.013535Z",
     "start_time": "2024-03-05T00:45:58.009229Z"
    }
   },
   "outputs": [
    {
     "name": "stdout",
     "output_type": "stream",
     "text": [
      "택시를 타고 가라\n"
     ]
    }
   ],
   "source": [
    ">>> pocket = ['paper', 'cellphone', 'money']\n",
    ">>> if 'money' in pocket:\n",
    "...     print(\"택시를 타고 가라\")\n",
    "... else:\n",
    "...     print(\"걸어가라\")"
   ]
  },
  {
   "cell_type": "code",
   "execution_count": 13,
   "id": "44483cb9",
   "metadata": {
    "ExecuteTime": {
     "end_time": "2024-03-05T01:06:52.981354Z",
     "start_time": "2024-03-05T01:06:52.976417Z"
    }
   },
   "outputs": [
    {
     "name": "stdout",
     "output_type": "stream",
     "text": [
      "택시를 타고가라\n"
     ]
    }
   ],
   "source": [
    ">>> pocket = ['paper', 'cellphone']\n",
    ">>> card = True\n",
    ">>> if 'money' in pocket:\n",
    "...      print(\"택시를 타고가라\")\n",
    "... elif card: \n",
    "...      print(\"택시를 타고가라\")\n",
    "... else:\n",
    "...      print(\"걸어가라\")"
   ]
  },
  {
   "cell_type": "markdown",
   "id": "1c62ab7c",
   "metadata": {},
   "source": [
    "# while문"
   ]
  },
  {
   "cell_type": "code",
   "execution_count": 14,
   "id": "3e25a254",
   "metadata": {
    "ExecuteTime": {
     "end_time": "2024-03-05T01:20:54.427186Z",
     "start_time": "2024-03-05T01:20:54.423713Z"
    }
   },
   "outputs": [
    {
     "name": "stdout",
     "output_type": "stream",
     "text": [
      "나무를 1번 찍었습니다.\n",
      "나무를 2번 찍었습니다.\n",
      "나무를 3번 찍었습니다.\n",
      "나무를 4번 찍었습니다.\n",
      "나무를 5번 찍었습니다.\n",
      "나무를 6번 찍었습니다.\n",
      "나무를 7번 찍었습니다.\n",
      "나무를 8번 찍었습니다.\n",
      "나무를 9번 찍었습니다.\n",
      "나무를 10번 찍었습니다.\n",
      "나무 넘어갑니다.\n"
     ]
    }
   ],
   "source": [
    ">>> treeHit = 0\n",
    ">>> while treeHit < 10:\n",
    "...     treeHit = treeHit +1\n",
    "...     print(\"나무를 %d번 찍었습니다.\" % treeHit)\n",
    "...     if treeHit == 10:\n",
    "...         print(\"나무 넘어갑니다.\")"
   ]
  },
  {
   "cell_type": "code",
   "execution_count": 15,
   "id": "05d09a44",
   "metadata": {
    "ExecuteTime": {
     "end_time": "2024-03-05T01:25:20.384159Z",
     "start_time": "2024-03-05T01:25:20.380785Z"
    }
   },
   "outputs": [],
   "source": [
    ">>> prompt = \"\"\"\n",
    "... 1. Add\n",
    "... 2. Del\n",
    "... 3. List\n",
    "... 4. Quit\n",
    "...\n",
    "... Enter number: \"\"\""
   ]
  },
  {
   "cell_type": "code",
   "execution_count": 16,
   "id": "bcf687d9",
   "metadata": {
    "ExecuteTime": {
     "end_time": "2024-03-05T01:28:05.079166Z",
     "start_time": "2024-03-05T01:26:02.545672Z"
    }
   },
   "outputs": [
    {
     "name": "stdout",
     "output_type": "stream",
     "text": [
      "\n",
      "1. Add\n",
      "2. Del\n",
      "3. List\n",
      "4. Quit\n",
      "\n",
      "Enter number: \n",
      "4\n"
     ]
    }
   ],
   "source": [
    "number = 0\n",
    ">>> while number != 4:\n",
    "...     print(prompt)\n",
    "...     number = int(input())"
   ]
  },
  {
   "cell_type": "code",
   "execution_count": 20,
   "id": "98215812",
   "metadata": {
    "ExecuteTime": {
     "end_time": "2024-03-05T01:47:14.361590Z",
     "start_time": "2024-03-05T01:47:13.300059Z"
    }
   },
   "outputs": [
    {
     "ename": "KeyboardInterrupt",
     "evalue": "Interrupted by user",
     "output_type": "error",
     "traceback": [
      "\u001b[1;31m---------------------------------------------------------------------------\u001b[0m",
      "\u001b[1;31mKeyboardInterrupt\u001b[0m                         Traceback (most recent call last)",
      "Cell \u001b[1;32mIn[20], line 4\u001b[0m\n\u001b[0;32m      2\u001b[0m coffee \u001b[38;5;241m=\u001b[39m \u001b[38;5;241m10\u001b[39m\n\u001b[0;32m      3\u001b[0m \u001b[38;5;28;01mwhile\u001b[39;00m \u001b[38;5;28;01mTrue\u001b[39;00m:\n\u001b[1;32m----> 4\u001b[0m     money \u001b[38;5;241m=\u001b[39m \u001b[38;5;28mint\u001b[39m(\u001b[38;5;28minput\u001b[39m(\u001b[38;5;124m\"\u001b[39m\u001b[38;5;124m돈을 넣어 주세요: \u001b[39m\u001b[38;5;124m\"\u001b[39m))\n\u001b[0;32m      5\u001b[0m     \u001b[38;5;28;01mif\u001b[39;00m money \u001b[38;5;241m==\u001b[39m \u001b[38;5;241m300\u001b[39m:\n\u001b[0;32m      6\u001b[0m         \u001b[38;5;28mprint\u001b[39m(\u001b[38;5;124m\"\u001b[39m\u001b[38;5;124m커피를 줍니다.\u001b[39m\u001b[38;5;124m\"\u001b[39m)\n",
      "File \u001b[1;32m~\\anaconda3\\Lib\\site-packages\\ipykernel\\kernelbase.py:1202\u001b[0m, in \u001b[0;36mKernel.raw_input\u001b[1;34m(self, prompt)\u001b[0m\n\u001b[0;32m   1200\u001b[0m     msg \u001b[38;5;241m=\u001b[39m \u001b[38;5;124m\"\u001b[39m\u001b[38;5;124mraw_input was called, but this frontend does not support input requests.\u001b[39m\u001b[38;5;124m\"\u001b[39m\n\u001b[0;32m   1201\u001b[0m     \u001b[38;5;28;01mraise\u001b[39;00m StdinNotImplementedError(msg)\n\u001b[1;32m-> 1202\u001b[0m \u001b[38;5;28;01mreturn\u001b[39;00m \u001b[38;5;28mself\u001b[39m\u001b[38;5;241m.\u001b[39m_input_request(\n\u001b[0;32m   1203\u001b[0m     \u001b[38;5;28mstr\u001b[39m(prompt),\n\u001b[0;32m   1204\u001b[0m     \u001b[38;5;28mself\u001b[39m\u001b[38;5;241m.\u001b[39m_parent_ident[\u001b[38;5;124m\"\u001b[39m\u001b[38;5;124mshell\u001b[39m\u001b[38;5;124m\"\u001b[39m],\n\u001b[0;32m   1205\u001b[0m     \u001b[38;5;28mself\u001b[39m\u001b[38;5;241m.\u001b[39mget_parent(\u001b[38;5;124m\"\u001b[39m\u001b[38;5;124mshell\u001b[39m\u001b[38;5;124m\"\u001b[39m),\n\u001b[0;32m   1206\u001b[0m     password\u001b[38;5;241m=\u001b[39m\u001b[38;5;28;01mFalse\u001b[39;00m,\n\u001b[0;32m   1207\u001b[0m )\n",
      "File \u001b[1;32m~\\anaconda3\\Lib\\site-packages\\ipykernel\\kernelbase.py:1245\u001b[0m, in \u001b[0;36mKernel._input_request\u001b[1;34m(self, prompt, ident, parent, password)\u001b[0m\n\u001b[0;32m   1242\u001b[0m \u001b[38;5;28;01mexcept\u001b[39;00m \u001b[38;5;167;01mKeyboardInterrupt\u001b[39;00m:\n\u001b[0;32m   1243\u001b[0m     \u001b[38;5;66;03m# re-raise KeyboardInterrupt, to truncate traceback\u001b[39;00m\n\u001b[0;32m   1244\u001b[0m     msg \u001b[38;5;241m=\u001b[39m \u001b[38;5;124m\"\u001b[39m\u001b[38;5;124mInterrupted by user\u001b[39m\u001b[38;5;124m\"\u001b[39m\n\u001b[1;32m-> 1245\u001b[0m     \u001b[38;5;28;01mraise\u001b[39;00m \u001b[38;5;167;01mKeyboardInterrupt\u001b[39;00m(msg) \u001b[38;5;28;01mfrom\u001b[39;00m \u001b[38;5;28;01mNone\u001b[39;00m\n\u001b[0;32m   1246\u001b[0m \u001b[38;5;28;01mexcept\u001b[39;00m \u001b[38;5;167;01mException\u001b[39;00m:\n\u001b[0;32m   1247\u001b[0m     \u001b[38;5;28mself\u001b[39m\u001b[38;5;241m.\u001b[39mlog\u001b[38;5;241m.\u001b[39mwarning(\u001b[38;5;124m\"\u001b[39m\u001b[38;5;124mInvalid Message:\u001b[39m\u001b[38;5;124m\"\u001b[39m, exc_info\u001b[38;5;241m=\u001b[39m\u001b[38;5;28;01mTrue\u001b[39;00m)\n",
      "\u001b[1;31mKeyboardInterrupt\u001b[0m: Interrupted by user"
     ]
    }
   ],
   "source": [
    "# coffee.py\n",
    "coffee = 10\n",
    "while True:\n",
    "    money = int(input(\"돈을 넣어 주세요: \"))\n",
    "    if money == 300:\n",
    "        print(\"커피를 줍니다.\")\n",
    "        coffee = coffee -1\n",
    "    elif money > 300:\n",
    "        print(\"거스름돈 %d를 주고 커피를 줍니다.\" % (money -300))\n",
    "        coffee = coffee -1\n",
    "    else:\n",
    "        print(\"돈을 다시 돌려주고 커피를 주지 않습니다.\")\n",
    "        print(\"남은 커피의 양은 %d개 입니다.\" % coffee)\n",
    "    if coffee == 0:\n",
    "        print(\"커피가 다 떨어졌습니다. 판매를 중지 합니다.\")\n",
    "        break"
   ]
  },
  {
   "cell_type": "code",
   "execution_count": 21,
   "id": "9238c141",
   "metadata": {
    "ExecuteTime": {
     "end_time": "2024-03-05T02:04:58.181685Z",
     "start_time": "2024-03-05T02:04:58.177923Z"
    }
   },
   "outputs": [],
   "source": [
    "# 무한 루프"
   ]
  },
  {
   "cell_type": "code",
   "execution_count": 22,
   "id": "6db17767",
   "metadata": {
    "ExecuteTime": {
     "end_time": "2024-03-05T02:05:39.511237Z",
     "start_time": "2024-03-05T02:05:30.579497Z"
    }
   },
   "outputs": [
    {
     "name": "stderr",
     "output_type": "stream",
     "text": [
      "IOPub data rate exceeded.\n",
      "The notebook server will temporarily stop sending output\n",
      "to the client in order to avoid crashing it.\n",
      "To change this limit, set the config variable\n",
      "`--NotebookApp.iopub_data_rate_limit`.\n",
      "\n",
      "Current values:\n",
      "NotebookApp.iopub_data_rate_limit=1000000.0 (bytes/sec)\n",
      "NotebookApp.rate_limit_window=3.0 (secs)\n",
      "\n"
     ]
    },
    {
     "ename": "KeyboardInterrupt",
     "evalue": "",
     "output_type": "error",
     "traceback": [
      "\u001b[1;31m---------------------------------------------------------------------------\u001b[0m",
      "\u001b[1;31mKeyboardInterrupt\u001b[0m                         Traceback (most recent call last)",
      "Cell \u001b[1;32mIn[22], line 2\u001b[0m\n\u001b[0;32m      1\u001b[0m \u001b[38;5;28;01mwhile\u001b[39;00m \u001b[38;5;28;01mTrue\u001b[39;00m:\n\u001b[1;32m----> 2\u001b[0m     \u001b[38;5;28mprint\u001b[39m(\u001b[38;5;124m\"\u001b[39m\u001b[38;5;124mCtrl+C를 눌러야 while문을 빠져나갈 수 있습니다.\u001b[39m\u001b[38;5;124m\"\u001b[39m)\n",
      "File \u001b[1;32m~\\anaconda3\\Lib\\site-packages\\ipykernel\\iostream.py:638\u001b[0m, in \u001b[0;36mOutStream.write\u001b[1;34m(self, string)\u001b[0m\n\u001b[0;32m    636\u001b[0m \u001b[38;5;66;03m# only touch the buffer in the IO thread to avoid races\u001b[39;00m\n\u001b[0;32m    637\u001b[0m \u001b[38;5;28;01mwith\u001b[39;00m \u001b[38;5;28mself\u001b[39m\u001b[38;5;241m.\u001b[39m_buffer_lock:\n\u001b[1;32m--> 638\u001b[0m     \u001b[38;5;28mself\u001b[39m\u001b[38;5;241m.\u001b[39m_buffer\u001b[38;5;241m.\u001b[39mwrite(string)\n\u001b[0;32m    639\u001b[0m \u001b[38;5;28;01mif\u001b[39;00m is_child:\n\u001b[0;32m    640\u001b[0m     \u001b[38;5;66;03m# mp.Pool cannot be trusted to flush promptly (or ever),\u001b[39;00m\n\u001b[0;32m    641\u001b[0m     \u001b[38;5;66;03m# and this helps.\u001b[39;00m\n\u001b[0;32m    642\u001b[0m     \u001b[38;5;28;01mif\u001b[39;00m \u001b[38;5;28mself\u001b[39m\u001b[38;5;241m.\u001b[39m_subprocess_flush_pending:\n",
      "\u001b[1;31mKeyboardInterrupt\u001b[0m: "
     ]
    }
   ],
   "source": [
    ">>> while True:\n",
    "...     print(\"Ctrl+C를 눌러야 while문을 빠져나갈 수 있습니다.\")"
   ]
  },
  {
   "cell_type": "markdown",
   "id": "21748fd2",
   "metadata": {},
   "source": [
    "# for문"
   ]
  },
  {
   "cell_type": "code",
   "execution_count": 25,
   "id": "f442aa06",
   "metadata": {
    "ExecuteTime": {
     "end_time": "2024-03-05T02:16:27.901931Z",
     "start_time": "2024-03-05T02:16:27.898910Z"
    }
   },
   "outputs": [
    {
     "name": "stdout",
     "output_type": "stream",
     "text": [
      "one\n",
      "two\n",
      "three\n"
     ]
    }
   ],
   "source": [
    ">>> test_list = ['one', 'two', 'three'] \n",
    ">>> for i in test_list: \n",
    "...     print(i)"
   ]
  },
  {
   "cell_type": "code",
   "execution_count": 27,
   "id": "19303c3b",
   "metadata": {
    "ExecuteTime": {
     "end_time": "2024-03-05T02:18:45.867150Z",
     "start_time": "2024-03-05T02:18:45.862150Z"
    }
   },
   "outputs": [
    {
     "name": "stdout",
     "output_type": "stream",
     "text": [
      "3\n",
      "7\n",
      "11\n"
     ]
    }
   ],
   "source": [
    ">>> a = [(1,2), (3,4), (5,6)]\n",
    ">>> for (i,j) in a:\n",
    "...     print(i + j)"
   ]
  },
  {
   "cell_type": "code",
   "execution_count": 34,
   "id": "ab5934ea",
   "metadata": {
    "ExecuteTime": {
     "end_time": "2024-03-05T02:25:43.409620Z",
     "start_time": "2024-03-05T02:25:43.405016Z"
    }
   },
   "outputs": [
    {
     "name": "stdout",
     "output_type": "stream",
     "text": [
      "1번 학생은 합격입니다.\n",
      "2번 학생은 불합격입니다.\n",
      "3번 학생은 합격입니다.\n",
      "4번 학생은 불합격입니다.\n",
      "5번 학생은 합격입니다.\n"
     ]
    }
   ],
   "source": [
    "# 총 5명의 학생이 시험을 보았는데 시험 점수가 60점 이상이면 합격이고 그렇지 않으면 불합격이다. 합격인지, 불합격인지 결과를 보여 주시오.\n",
    "\n",
    "marks = [90, 25, 67, 45, 80]\n",
    "\n",
    "number = 0\n",
    "for mark in marks:\n",
    "    number = number +1 \n",
    "    if mark >= 60: \n",
    "        print(\"%d번 학생은 합격입니다.\" % number)\n",
    "    else: \n",
    "        print(\"%d번 학생은 불합격입니다.\" % number)"
   ]
  },
  {
   "cell_type": "code",
   "execution_count": 35,
   "id": "1d574111",
   "metadata": {
    "ExecuteTime": {
     "end_time": "2024-03-05T02:38:02.827914Z",
     "start_time": "2024-03-05T02:38:02.823767Z"
    }
   },
   "outputs": [
    {
     "name": "stdout",
     "output_type": "stream",
     "text": [
      "1번 학생 축하합니다. 합격입니다. \n",
      "3번 학생 축하합니다. 합격입니다. \n",
      "5번 학생 축하합니다. 합격입니다. \n"
     ]
    }
   ],
   "source": [
    "marks = [90, 25, 67, 45, 80]\n",
    "\n",
    "number = 0 \n",
    "for mark in marks: \n",
    "    number = number +1 \n",
    "    if mark < 60:\n",
    "        continue \n",
    "    print(\"%d번 학생 축하합니다. 합격입니다. \" % number)"
   ]
  },
  {
   "cell_type": "code",
   "execution_count": 36,
   "id": "4462d4f9",
   "metadata": {
    "ExecuteTime": {
     "end_time": "2024-03-05T02:41:00.060322Z",
     "start_time": "2024-03-05T02:41:00.054830Z"
    }
   },
   "outputs": [
    {
     "data": {
      "text/plain": [
       "range(0, 10)"
      ]
     },
     "execution_count": 36,
     "metadata": {},
     "output_type": "execute_result"
    }
   ],
   "source": [
    ">>> a = range(10)\n",
    ">>> a\n",
    "range(0, 10)"
   ]
  },
  {
   "cell_type": "code",
   "execution_count": 41,
   "id": "d465810d",
   "metadata": {
    "ExecuteTime": {
     "end_time": "2024-03-05T02:42:54.671314Z",
     "start_time": "2024-03-05T02:42:54.666419Z"
    }
   },
   "outputs": [
    {
     "name": "stdout",
     "output_type": "stream",
     "text": [
      "45\n"
     ]
    }
   ],
   "source": [
    ">>> add = 0 \n",
    ">>> for i in range(1, 10): \n",
    "...     add = add + i \n",
    "... \n",
    ">>> print(add)"
   ]
  },
  {
   "cell_type": "code",
   "execution_count": 42,
   "id": "c45abe3b",
   "metadata": {
    "ExecuteTime": {
     "end_time": "2024-03-05T02:44:19.497634Z",
     "start_time": "2024-03-05T02:44:19.491792Z"
    }
   },
   "outputs": [
    {
     "name": "stdout",
     "output_type": "stream",
     "text": [
      "1번 학생 축하합니다. 합격입니다.\n",
      "3번 학생 축하합니다. 합격입니다.\n",
      "5번 학생 축하합니다. 합격입니다.\n"
     ]
    }
   ],
   "source": [
    "marks = [90, 25, 67, 45, 80]\n",
    "for number in range(len(marks)):\n",
    "    if marks[number] < 60: \n",
    "        continue\n",
    "    print(\"%d번 학생 축하합니다. 합격입니다.\" % (number+1))"
   ]
  },
  {
   "cell_type": "code",
   "execution_count": null,
   "id": "8b435a06",
   "metadata": {},
   "outputs": [],
   "source": []
  }
 ],
 "metadata": {
  "kernelspec": {
   "display_name": "Python 3 (ipykernel)",
   "language": "python",
   "name": "python3"
  },
  "language_info": {
   "codemirror_mode": {
    "name": "ipython",
    "version": 3
   },
   "file_extension": ".py",
   "mimetype": "text/x-python",
   "name": "python",
   "nbconvert_exporter": "python",
   "pygments_lexer": "ipython3",
   "version": "3.11.5"
  },
  "toc": {
   "base_numbering": 1,
   "nav_menu": {},
   "number_sections": true,
   "sideBar": true,
   "skip_h1_title": false,
   "title_cell": "Table of Contents",
   "title_sidebar": "Contents",
   "toc_cell": false,
   "toc_position": {},
   "toc_section_display": true,
   "toc_window_display": false
  }
 },
 "nbformat": 4,
 "nbformat_minor": 5
}
