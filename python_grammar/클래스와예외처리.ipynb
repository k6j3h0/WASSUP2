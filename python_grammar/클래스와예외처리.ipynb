{
 "cells": [
  {
   "cell_type": "markdown",
   "id": "5c19960e",
   "metadata": {},
   "source": [
    "# 계산기"
   ]
  },
  {
   "cell_type": "code",
   "execution_count": 1,
   "id": "3e2b56e4",
   "metadata": {
    "ExecuteTime": {
     "end_time": "2024-03-11T01:21:33.884579Z",
     "start_time": "2024-03-11T01:21:33.869985Z"
    }
   },
   "outputs": [
    {
     "name": "stdout",
     "output_type": "stream",
     "text": [
      "3\n",
      "7\n"
     ]
    }
   ],
   "source": [
    "result = 0\n",
    "\n",
    "def add(num):\n",
    "    global result\n",
    "    result += num  # 결괏값(result)에 입력값(num) 더하기\n",
    "    return result  # 결괏값 리턴\n",
    "\n",
    "print(add(3))\n",
    "print(add(4))"
   ]
  },
  {
   "cell_type": "code",
   "execution_count": 13,
   "id": "12d5bb65",
   "metadata": {
    "ExecuteTime": {
     "end_time": "2024-03-11T01:39:50.358316Z",
     "start_time": "2024-03-11T01:39:50.353454Z"
    }
   },
   "outputs": [],
   "source": [
    "# 클래스 구조 만들기\n",
    "\n",
    "class FourCal:\n",
    "    def setdata(self, first, second):   # 메서드의 매개변수\n",
    "        self.first = first              # 메서드의 수행문\n",
    "        self.second = second            # 메서드의 수행문\n"
   ]
  },
  {
   "cell_type": "code",
   "execution_count": 5,
   "id": "00211302",
   "metadata": {
    "ExecuteTime": {
     "end_time": "2024-03-11T01:24:58.588834Z",
     "start_time": "2024-03-11T01:24:58.581544Z"
    }
   },
   "outputs": [
    {
     "data": {
      "text/plain": [
       "(__main__.FourCal, type)"
      ]
     },
     "execution_count": 5,
     "metadata": {},
     "output_type": "execute_result"
    }
   ],
   "source": [
    "a = FourCal\n",
    "a, type(a)"
   ]
  },
  {
   "cell_type": "code",
   "execution_count": 16,
   "id": "971f2c70",
   "metadata": {
    "ExecuteTime": {
     "end_time": "2024-03-11T01:40:29.407502Z",
     "start_time": "2024-03-11T01:40:29.391378Z"
    }
   },
   "outputs": [
    {
     "ename": "AttributeError",
     "evalue": "type object 'FourCal' has no attribute 'FourCal'",
     "output_type": "error",
     "traceback": [
      "\u001b[1;31m---------------------------------------------------------------------------\u001b[0m",
      "\u001b[1;31mAttributeError\u001b[0m                            Traceback (most recent call last)",
      "Cell \u001b[1;32mIn[16], line 1\u001b[0m\n\u001b[1;32m----> 1\u001b[0m a\u001b[38;5;241m.\u001b[39mFourCal()\n\u001b[0;32m      2\u001b[0m b\u001b[38;5;241m.\u001b[39mFourCal()\n",
      "\u001b[1;31mAttributeError\u001b[0m: type object 'FourCal' has no attribute 'FourCal'"
     ]
    }
   ],
   "source": [
    "a.FourCal()\n",
    "b.FourCal()\n"
   ]
  },
  {
   "cell_type": "code",
   "execution_count": null,
   "id": "7dd39b7e",
   "metadata": {},
   "outputs": [],
   "source": []
  }
 ],
 "metadata": {
  "kernelspec": {
   "display_name": "Python 3 (ipykernel)",
   "language": "python",
   "name": "python3"
  },
  "language_info": {
   "codemirror_mode": {
    "name": "ipython",
    "version": 3
   },
   "file_extension": ".py",
   "mimetype": "text/x-python",
   "name": "python",
   "nbconvert_exporter": "python",
   "pygments_lexer": "ipython3",
   "version": "3.11.5"
  },
  "toc": {
   "base_numbering": 1,
   "nav_menu": {},
   "number_sections": true,
   "sideBar": true,
   "skip_h1_title": false,
   "title_cell": "Table of Contents",
   "title_sidebar": "Contents",
   "toc_cell": false,
   "toc_position": {},
   "toc_section_display": true,
   "toc_window_display": false
  }
 },
 "nbformat": 4,
 "nbformat_minor": 5
}
