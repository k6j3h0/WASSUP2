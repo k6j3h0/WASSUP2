{
 "cells": [
  {
   "cell_type": "markdown",
   "id": "8f832f6a",
   "metadata": {},
   "source": [
    "# 함수"
   ]
  },
  {
   "cell_type": "code",
   "execution_count": 1,
   "id": "849c4fcb",
   "metadata": {
    "ExecuteTime": {
     "end_time": "2024-03-07T00:26:47.927569Z",
     "start_time": "2024-03-07T00:26:47.923542Z"
    }
   },
   "outputs": [],
   "source": [
    "def add(a, b): \n",
    "    return a + b"
   ]
  },
  {
   "cell_type": "code",
   "execution_count": 2,
   "id": "0bbd730c",
   "metadata": {
    "ExecuteTime": {
     "end_time": "2024-03-07T00:27:30.523302Z",
     "start_time": "2024-03-07T00:27:30.519342Z"
    }
   },
   "outputs": [
    {
     "name": "stdout",
     "output_type": "stream",
     "text": [
      "7\n"
     ]
    }
   ],
   "source": [
    ">>> a = 3\n",
    ">>> b = 4\n",
    ">>> c = add(a, b)  # add(3, 4)의 리턴값을 c에 대입\n",
    ">>> print(c)"
   ]
  },
  {
   "cell_type": "code",
   "execution_count": 3,
   "id": "9d7227ae",
   "metadata": {
    "ExecuteTime": {
     "end_time": "2024-03-07T00:34:28.280652Z",
     "start_time": "2024-03-07T00:34:28.275651Z"
    }
   },
   "outputs": [],
   "source": [
    "def add(a, b): \n",
    "    result = a + b \n",
    "    return result\n"
   ]
  },
  {
   "cell_type": "code",
   "execution_count": 4,
   "id": "44d17cc6",
   "metadata": {
    "ExecuteTime": {
     "end_time": "2024-03-07T00:34:35.815962Z",
     "start_time": "2024-03-07T00:34:35.811302Z"
    }
   },
   "outputs": [
    {
     "name": "stdout",
     "output_type": "stream",
     "text": [
      "7\n"
     ]
    }
   ],
   "source": [
    ">>> a = add(3, 4)\n",
    ">>> print(a)"
   ]
  },
  {
   "cell_type": "code",
   "execution_count": 6,
   "id": "89251478",
   "metadata": {
    "ExecuteTime": {
     "end_time": "2024-03-07T00:35:17.117526Z",
     "start_time": "2024-03-07T00:35:17.113105Z"
    }
   },
   "outputs": [],
   "source": [
    "# 입력값이 없는 함수\n",
    "\n",
    "def say(): \n",
    "    return 'Hi' "
   ]
  },
  {
   "cell_type": "code",
   "execution_count": 7,
   "id": "198b5473",
   "metadata": {
    "ExecuteTime": {
     "end_time": "2024-03-07T00:35:23.101914Z",
     "start_time": "2024-03-07T00:35:23.098387Z"
    }
   },
   "outputs": [
    {
     "name": "stdout",
     "output_type": "stream",
     "text": [
      "Hi\n"
     ]
    }
   ],
   "source": [
    ">>> a = say()\n",
    ">>> print(a)"
   ]
  },
  {
   "cell_type": "code",
   "execution_count": 8,
   "id": "4629b064",
   "metadata": {
    "ExecuteTime": {
     "end_time": "2024-03-07T00:36:46.733000Z",
     "start_time": "2024-03-07T00:36:46.727853Z"
    }
   },
   "outputs": [],
   "source": [
    "# 리턴값이 없는 함수\n",
    "\n",
    "def add(a, b): \n",
    "    print(\"%d, %d의 합은 %d입니다.\" % (a, b, a+b))\n"
   ]
  },
  {
   "cell_type": "code",
   "execution_count": 11,
   "id": "dae2a8ce",
   "metadata": {
    "ExecuteTime": {
     "end_time": "2024-03-07T00:37:10.944387Z",
     "start_time": "2024-03-07T00:37:10.941360Z"
    }
   },
   "outputs": [
    {
     "name": "stdout",
     "output_type": "stream",
     "text": [
      "3, 4의 합은 7입니다.\n"
     ]
    }
   ],
   "source": [
    "add(3, 4)"
   ]
  },
  {
   "cell_type": "code",
   "execution_count": 12,
   "id": "45f60924",
   "metadata": {
    "ExecuteTime": {
     "end_time": "2024-03-07T00:47:21.033248Z",
     "start_time": "2024-03-07T00:47:21.028644Z"
    }
   },
   "outputs": [],
   "source": [
    "# 입력값, 리턴값 없는 함수\n",
    "\n",
    "def say(): \n",
    "    print('Hi')\n"
   ]
  },
  {
   "cell_type": "code",
   "execution_count": 13,
   "id": "4f11f38c",
   "metadata": {
    "ExecuteTime": {
     "end_time": "2024-03-07T00:47:52.149805Z",
     "start_time": "2024-03-07T00:47:52.144806Z"
    }
   },
   "outputs": [
    {
     "name": "stdout",
     "output_type": "stream",
     "text": [
      "Hi\n"
     ]
    }
   ],
   "source": [
    "say()"
   ]
  },
  {
   "cell_type": "code",
   "execution_count": 14,
   "id": "636ed4e9",
   "metadata": {
    "ExecuteTime": {
     "end_time": "2024-03-07T01:13:08.610365Z",
     "start_time": "2024-03-07T01:13:08.606247Z"
    }
   },
   "outputs": [],
   "source": [
    "# 매개변수 지정 호출\n",
    "\n",
    "def sub(a, b):\n",
    "    return a - b\n"
   ]
  },
  {
   "cell_type": "code",
   "execution_count": 15,
   "id": "534c5d20",
   "metadata": {
    "ExecuteTime": {
     "end_time": "2024-03-07T01:13:32.074563Z",
     "start_time": "2024-03-07T01:13:32.069414Z"
    }
   },
   "outputs": [
    {
     "name": "stdout",
     "output_type": "stream",
     "text": [
      "4\n"
     ]
    }
   ],
   "source": [
    "result = sub(a=7, b=3)  # a에 7, b에 3을 전달\n",
    "print(result)"
   ]
  },
  {
   "cell_type": "code",
   "execution_count": 16,
   "id": "738977c0",
   "metadata": {
    "ExecuteTime": {
     "end_time": "2024-03-07T01:16:50.644288Z",
     "start_time": "2024-03-07T01:16:50.638990Z"
    }
   },
   "outputs": [],
   "source": [
    "# 여러 개의 입력값\n",
    "\n",
    "def add_many(*args): \n",
    "    result = 0 \n",
    "    for i in args: \n",
    "        result = result + i   # *args에 입력받은 모든 값을 더한다.\n",
    "    return result "
   ]
  },
  {
   "cell_type": "code",
   "execution_count": 17,
   "id": "0e9354fb",
   "metadata": {
    "ExecuteTime": {
     "end_time": "2024-03-07T01:18:10.796263Z",
     "start_time": "2024-03-07T01:18:10.792420Z"
    }
   },
   "outputs": [
    {
     "name": "stdout",
     "output_type": "stream",
     "text": [
      "6\n"
     ]
    }
   ],
   "source": [
    "result = add_many(1,2,3)\n",
    "print(result)"
   ]
  },
  {
   "cell_type": "code",
   "execution_count": 18,
   "id": "9cce18c3",
   "metadata": {
    "ExecuteTime": {
     "end_time": "2024-03-07T01:18:17.346315Z",
     "start_time": "2024-03-07T01:18:17.341838Z"
    }
   },
   "outputs": [
    {
     "name": "stdout",
     "output_type": "stream",
     "text": [
      "55\n"
     ]
    }
   ],
   "source": [
    "result = add_many(1,2,3,4,5,6,7,8,9,10)\n",
    "print(result)"
   ]
  },
  {
   "cell_type": "code",
   "execution_count": 19,
   "id": "831f947f",
   "metadata": {
    "ExecuteTime": {
     "end_time": "2024-03-07T01:21:40.328951Z",
     "start_time": "2024-03-07T01:21:40.320342Z"
    }
   },
   "outputs": [],
   "source": [
    "def add_mul(choice, *args): \n",
    "    if choice == \"add\":   # 매개변수 choice에 \"add\"를 입력받았을 때\n",
    "        result = 0 \n",
    "        for i in args: \n",
    "            result = result + i \n",
    "    elif choice == \"mul\":   # 매개변수 choice에 \"mul\"을 입력받았을 때\n",
    "        result = 1 \n",
    "        for i in args: \n",
    "            result = result * i \n",
    "    return result "
   ]
  },
  {
   "cell_type": "code",
   "execution_count": 20,
   "id": "e356dbcb",
   "metadata": {
    "ExecuteTime": {
     "end_time": "2024-03-07T01:21:53.198983Z",
     "start_time": "2024-03-07T01:21:53.193982Z"
    }
   },
   "outputs": [
    {
     "name": "stdout",
     "output_type": "stream",
     "text": [
      "15\n"
     ]
    }
   ],
   "source": [
    "result = add_mul('add', 1,2,3,4,5)\n",
    "print(result)"
   ]
  },
  {
   "cell_type": "code",
   "execution_count": 21,
   "id": "cfcb8d6b",
   "metadata": {
    "ExecuteTime": {
     "end_time": "2024-03-07T01:21:59.724418Z",
     "start_time": "2024-03-07T01:21:59.720649Z"
    }
   },
   "outputs": [
    {
     "name": "stdout",
     "output_type": "stream",
     "text": [
      "120\n"
     ]
    }
   ],
   "source": [
    "result = add_mul('mul', 1,2,3,4,5)\n",
    "print(result)"
   ]
  },
  {
   "cell_type": "code",
   "execution_count": 22,
   "id": "aa433eb2",
   "metadata": {
    "ExecuteTime": {
     "end_time": "2024-03-07T01:26:06.005437Z",
     "start_time": "2024-03-07T01:26:06.001220Z"
    }
   },
   "outputs": [],
   "source": [
    "# 키워드 매개변수\n",
    "\n",
    "def print_kwargs(**kwargs):\n",
    "    print(kwargs)"
   ]
  },
  {
   "cell_type": "code",
   "execution_count": 23,
   "id": "e1a122a0",
   "metadata": {
    "ExecuteTime": {
     "end_time": "2024-03-07T01:26:18.540970Z",
     "start_time": "2024-03-07T01:26:18.535828Z"
    }
   },
   "outputs": [
    {
     "name": "stdout",
     "output_type": "stream",
     "text": [
      "{'a': 1}\n"
     ]
    }
   ],
   "source": [
    "print_kwargs(a=1)"
   ]
  },
  {
   "cell_type": "code",
   "execution_count": 24,
   "id": "fee76d1f",
   "metadata": {
    "ExecuteTime": {
     "end_time": "2024-03-07T01:28:19.770510Z",
     "start_time": "2024-03-07T01:28:19.765770Z"
    }
   },
   "outputs": [],
   "source": [
    "# 함수의 리턴값은 언제나 하나\n",
    "\n",
    "def add_and_mul(a,b): \n",
    "    return a+b, a*b"
   ]
  },
  {
   "cell_type": "code",
   "execution_count": 25,
   "id": "bd5ca7ff",
   "metadata": {
    "ExecuteTime": {
     "end_time": "2024-03-07T01:28:26.993136Z",
     "start_time": "2024-03-07T01:28:26.990319Z"
    }
   },
   "outputs": [],
   "source": [
    "result = add_and_mul(3,4)"
   ]
  },
  {
   "cell_type": "code",
   "execution_count": 26,
   "id": "a6aa71ad",
   "metadata": {
    "ExecuteTime": {
     "end_time": "2024-03-07T01:40:26.316708Z",
     "start_time": "2024-03-07T01:40:26.311296Z"
    }
   },
   "outputs": [],
   "source": [
    "# 매개변수에 초깃값 미리 설정하기\n",
    "\n",
    "def say_myself(name, age, man=True): \n",
    "    print(\"나의 이름은 %s 입니다.\" % name) \n",
    "    print(\"나이는 %d살입니다.\" % age) \n",
    "    if man: \n",
    "        print(\"남자입니다.\")\n",
    "    else: \n",
    "        print(\"여자입니다.\")"
   ]
  },
  {
   "cell_type": "code",
   "execution_count": 30,
   "id": "2fc28649",
   "metadata": {
    "ExecuteTime": {
     "end_time": "2024-03-07T01:42:07.027884Z",
     "start_time": "2024-03-07T01:42:07.023892Z"
    }
   },
   "outputs": [
    {
     "name": "stdout",
     "output_type": "stream",
     "text": [
      "나의 이름은 조희주 입니다.\n",
      "나이는 90살입니다.\n",
      "남자입니다.\n"
     ]
    }
   ],
   "source": [
    "say_myself(\"조희주\", 90)"
   ]
  },
  {
   "cell_type": "code",
   "execution_count": 31,
   "id": "f0c2c817",
   "metadata": {
    "ExecuteTime": {
     "end_time": "2024-03-07T01:43:45.991622Z",
     "start_time": "2024-03-07T01:43:45.986147Z"
    }
   },
   "outputs": [
    {
     "name": "stdout",
     "output_type": "stream",
     "text": [
      "1\n"
     ]
    }
   ],
   "source": [
    "# 함수 안에서 선언한 변수의 효력 범위\n",
    "\n",
    "a = 1\n",
    "def vartest(a):\n",
    "    a = a +1\n",
    "\n",
    "vartest(a)\n",
    "print(a)"
   ]
  },
  {
   "cell_type": "code",
   "execution_count": 33,
   "id": "f0c9cd0f",
   "metadata": {
    "ExecuteTime": {
     "end_time": "2024-03-07T01:46:06.368776Z",
     "start_time": "2024-03-07T01:46:06.365080Z"
    }
   },
   "outputs": [
    {
     "name": "stdout",
     "output_type": "stream",
     "text": [
      "2\n"
     ]
    }
   ],
   "source": [
    "# 함수 안에서 함수 밖의 변수를 변경하는 방법\n",
    "\n",
    "a = 1 \n",
    "def vartest(a): \n",
    "    a = a +1 \n",
    "    return a\n",
    "\n",
    "a = vartest(a) \n",
    "print(a)"
   ]
  },
  {
   "cell_type": "code",
   "execution_count": 34,
   "id": "6d58de05",
   "metadata": {
    "ExecuteTime": {
     "end_time": "2024-03-07T01:47:41.820652Z",
     "start_time": "2024-03-07T01:47:41.815979Z"
    }
   },
   "outputs": [
    {
     "name": "stdout",
     "output_type": "stream",
     "text": [
      "2\n"
     ]
    }
   ],
   "source": [
    "a = 1 \n",
    "def vartest(): \n",
    "    global a \n",
    "    a = a+1\n",
    "\n",
    "vartest() \n",
    "print(a)"
   ]
  },
  {
   "cell_type": "code",
   "execution_count": 35,
   "id": "a2770def",
   "metadata": {
    "ExecuteTime": {
     "end_time": "2024-03-07T01:50:18.283294Z",
     "start_time": "2024-03-07T01:50:18.278917Z"
    }
   },
   "outputs": [
    {
     "name": "stdout",
     "output_type": "stream",
     "text": [
      "7\n"
     ]
    }
   ],
   "source": [
    "# lambda\n",
    "\n",
    "add = lambda a, b: a+b\n",
    "result = add(3, 4)\n",
    "print(result)"
   ]
  },
  {
   "cell_type": "markdown",
   "id": "0383d7c0",
   "metadata": {},
   "source": [
    "# 사용자 입출력"
   ]
  },
  {
   "cell_type": "code",
   "execution_count": 36,
   "id": "cd09dfc2",
   "metadata": {
    "ExecuteTime": {
     "end_time": "2024-03-07T02:07:31.400149Z",
     "start_time": "2024-03-07T02:07:31.396377Z"
    }
   },
   "outputs": [],
   "source": [
    "# 프롬프트를 띄워 사용자 입력받기\n"
   ]
  },
  {
   "cell_type": "code",
   "execution_count": null,
   "id": "c0ce2556",
   "metadata": {},
   "outputs": [],
   "source": [
    "# 파일 읽고 쓰기 - 파일 생성하기\n"
   ]
  }
 ],
 "metadata": {
  "kernelspec": {
   "display_name": "Python 3 (ipykernel)",
   "language": "python",
   "name": "python3"
  },
  "language_info": {
   "codemirror_mode": {
    "name": "ipython",
    "version": 3
   },
   "file_extension": ".py",
   "mimetype": "text/x-python",
   "name": "python",
   "nbconvert_exporter": "python",
   "pygments_lexer": "ipython3",
   "version": "3.11.5"
  },
  "toc": {
   "base_numbering": 1,
   "nav_menu": {},
   "number_sections": true,
   "sideBar": true,
   "skip_h1_title": false,
   "title_cell": "Table of Contents",
   "title_sidebar": "Contents",
   "toc_cell": false,
   "toc_position": {},
   "toc_section_display": true,
   "toc_window_display": false
  }
 },
 "nbformat": 4,
 "nbformat_minor": 5
}
