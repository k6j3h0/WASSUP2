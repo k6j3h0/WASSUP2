{
 "cells": [
  {
   "cell_type": "markdown",
   "id": "d463c30d",
   "metadata": {},
   "source": [
    "# 파이썬 300제"
   ]
  },
  {
   "cell_type": "markdown",
   "id": "4000f382",
   "metadata": {},
   "source": [
    "---"
   ]
  },
  {
   "cell_type": "markdown",
   "id": "873827b9",
   "metadata": {},
   "source": [
    "1 ~ 50"
   ]
  },
  {
   "cell_type": "code",
   "execution_count": 1,
   "id": "57d0abc2",
   "metadata": {
    "ExecuteTime": {
     "end_time": "2024-03-02T01:26:37.820597Z",
     "start_time": "2024-03-02T01:26:37.815538Z"
    },
    "scrolled": true
   },
   "outputs": [
    {
     "name": "stdout",
     "output_type": "stream",
     "text": [
      "Hello World\n"
     ]
    }
   ],
   "source": [
    "print('Hello World')"
   ]
  },
  {
   "cell_type": "code",
   "execution_count": 4,
   "id": "2da13ec8",
   "metadata": {
    "ExecuteTime": {
     "end_time": "2024-03-02T01:29:46.398957Z",
     "start_time": "2024-03-02T01:29:46.394750Z"
    }
   },
   "outputs": [
    {
     "name": "stdout",
     "output_type": "stream",
     "text": [
      "Mary's cosmetics\n"
     ]
    }
   ],
   "source": [
    "print(\"Mary's cosmetics\")"
   ]
  },
  {
   "cell_type": "code",
   "execution_count": 6,
   "id": "49a025a2",
   "metadata": {
    "ExecuteTime": {
     "end_time": "2024-03-02T01:35:31.878480Z",
     "start_time": "2024-03-02T01:35:31.875251Z"
    }
   },
   "outputs": [
    {
     "name": "stdout",
     "output_type": "stream",
     "text": [
      "신씨가 소리질렀다. \"도둑이야\".\n"
     ]
    }
   ],
   "source": [
    "print('신씨가 소리질렀다. \"도둑이야\".')"
   ]
  },
  {
   "cell_type": "code",
   "execution_count": 7,
   "id": "32d1a8fa",
   "metadata": {
    "ExecuteTime": {
     "end_time": "2024-03-02T01:38:24.272739Z",
     "start_time": "2024-03-02T01:38:24.268744Z"
    }
   },
   "outputs": [
    {
     "name": "stdout",
     "output_type": "stream",
     "text": [
      "C:\\Windows\n"
     ]
    }
   ],
   "source": [
    "print('C:\\Windows')"
   ]
  },
  {
   "cell_type": "code",
   "execution_count": 8,
   "id": "f54c59f2",
   "metadata": {
    "ExecuteTime": {
     "end_time": "2024-03-02T01:38:53.548294Z",
     "start_time": "2024-03-02T01:38:53.545038Z"
    }
   },
   "outputs": [
    {
     "name": "stdout",
     "output_type": "stream",
     "text": [
      "안녕하세요.\n",
      "만나서\t\t반갑습니다.\n"
     ]
    }
   ],
   "source": [
    "print(\"안녕하세요.\\n만나서\\t\\t반갑습니다.\")"
   ]
  },
  {
   "cell_type": "code",
   "execution_count": 9,
   "id": "530ebaf1",
   "metadata": {
    "ExecuteTime": {
     "end_time": "2024-03-02T01:39:19.948090Z",
     "start_time": "2024-03-02T01:39:19.944430Z"
    }
   },
   "outputs": [
    {
     "name": "stdout",
     "output_type": "stream",
     "text": [
      "오늘은 일요일\n"
     ]
    }
   ],
   "source": [
    "print (\"오늘은\", \"일요일\")"
   ]
  },
  {
   "cell_type": "code",
   "execution_count": 13,
   "id": "54c3d8d6",
   "metadata": {
    "ExecuteTime": {
     "end_time": "2024-03-02T01:50:25.483158Z",
     "start_time": "2024-03-02T01:50:25.479267Z"
    }
   },
   "outputs": [
    {
     "name": "stdout",
     "output_type": "stream",
     "text": [
      "naver;kakao;samsung\n"
     ]
    }
   ],
   "source": [
    "print(\"naver\", \"kakao\", \"samsung\", sep=\";\")"
   ]
  },
  {
   "cell_type": "code",
   "execution_count": 14,
   "id": "f0a1c995",
   "metadata": {
    "ExecuteTime": {
     "end_time": "2024-03-02T01:51:08.944863Z",
     "start_time": "2024-03-02T01:51:08.941076Z"
    }
   },
   "outputs": [
    {
     "name": "stdout",
     "output_type": "stream",
     "text": [
      "naver/kakao/samsung\n"
     ]
    }
   ],
   "source": [
    "print(\"naver\", \"kakao\", \"samsung\", sep=\"/\")"
   ]
  },
  {
   "cell_type": "code",
   "execution_count": 18,
   "id": "7bde476d",
   "metadata": {
    "ExecuteTime": {
     "end_time": "2024-03-02T01:54:55.797699Z",
     "start_time": "2024-03-02T01:54:55.794173Z"
    }
   },
   "outputs": [
    {
     "name": "stdout",
     "output_type": "stream",
     "text": [
      "firstsecond\n"
     ]
    }
   ],
   "source": [
    "print(\"first\", end=\"\");print(\"second\")"
   ]
  },
  {
   "cell_type": "code",
   "execution_count": 19,
   "id": "935a08fb",
   "metadata": {
    "ExecuteTime": {
     "end_time": "2024-03-02T01:59:33.849630Z",
     "start_time": "2024-03-02T01:59:33.845391Z"
    }
   },
   "outputs": [
    {
     "name": "stdout",
     "output_type": "stream",
     "text": [
      "1.6666666666666667\n"
     ]
    }
   ],
   "source": [
    "print(5/3)"
   ]
  },
  {
   "cell_type": "code",
   "execution_count": 22,
   "id": "f0e64401",
   "metadata": {
    "ExecuteTime": {
     "end_time": "2024-03-02T02:01:35.332105Z",
     "start_time": "2024-03-02T02:01:35.328035Z"
    }
   },
   "outputs": [
    {
     "name": "stdout",
     "output_type": "stream",
     "text": [
      "500000\n"
     ]
    }
   ],
   "source": [
    "삼성전자 = 50000\n",
    "총평가금액 = 삼성전자 * 10\n",
    "print(총평가금액)"
   ]
  },
  {
   "cell_type": "code",
   "execution_count": 23,
   "id": "93398b19",
   "metadata": {
    "ExecuteTime": {
     "end_time": "2024-03-02T02:04:24.284599Z",
     "start_time": "2024-03-02T02:04:24.279701Z"
    }
   },
   "outputs": [
    {
     "name": "stdout",
     "output_type": "stream",
     "text": [
      "298000000000000 <class 'int'>\n",
      "50000 <class 'int'>\n",
      "15.79 <class 'float'>\n"
     ]
    }
   ],
   "source": [
    "시가총액 = 298000000000000\n",
    "현재가 = 50000\n",
    "PER = 15.79\n",
    "print(시가총액, type(시가총액))\n",
    "print(현재가, type(현재가))\n",
    "print(PER, type(PER))"
   ]
  },
  {
   "cell_type": "code",
   "execution_count": 28,
   "id": "c5f41399",
   "metadata": {
    "ExecuteTime": {
     "end_time": "2024-03-02T02:19:21.027455Z",
     "start_time": "2024-03-02T02:19:21.023599Z"
    }
   },
   "outputs": [
    {
     "name": "stdout",
     "output_type": "stream",
     "text": [
      "hello! python\n"
     ]
    }
   ],
   "source": [
    "s = \"hello\"\n",
    "t = \"python\"\n",
    "print(s+'!', t)"
   ]
  },
  {
   "cell_type": "code",
   "execution_count": 29,
   "id": "3a51e37b",
   "metadata": {
    "ExecuteTime": {
     "end_time": "2024-03-02T02:19:40.626555Z",
     "start_time": "2024-03-02T02:19:40.622618Z"
    }
   },
   "outputs": [
    {
     "name": "stdout",
     "output_type": "stream",
     "text": [
      "8\n"
     ]
    }
   ],
   "source": [
    "print(2+2*3)"
   ]
  },
  {
   "cell_type": "code",
   "execution_count": 44,
   "id": "cad98359",
   "metadata": {
    "ExecuteTime": {
     "end_time": "2024-03-02T03:55:02.824907Z",
     "start_time": "2024-03-02T03:55:02.820888Z"
    }
   },
   "outputs": [
    {
     "name": "stdout",
     "output_type": "stream",
     "text": [
      "<class 'int'>\n"
     ]
    }
   ],
   "source": [
    "a = 132\n",
    "print(type(a))"
   ]
  },
  {
   "cell_type": "code",
   "execution_count": 33,
   "id": "1cb4730c",
   "metadata": {
    "ExecuteTime": {
     "end_time": "2024-03-02T02:48:46.788632Z",
     "start_time": "2024-03-02T02:48:46.784281Z"
    }
   },
   "outputs": [
    {
     "name": "stdout",
     "output_type": "stream",
     "text": [
      "720\n"
     ]
    }
   ],
   "source": [
    "num_str = \"720\"\n",
    "num_int = int(num_str)\n",
    "print(num_int)"
   ]
  },
  {
   "cell_type": "code",
   "execution_count": 40,
   "id": "034dea17",
   "metadata": {
    "ExecuteTime": {
     "end_time": "2024-03-02T03:01:26.232920Z",
     "start_time": "2024-03-02T03:01:26.228772Z"
    }
   },
   "outputs": [
    {
     "name": "stdout",
     "output_type": "stream",
     "text": [
      "100 <class 'str'>\n"
     ]
    }
   ],
   "source": [
    "num_int = 100\n",
    "num_str = str(num_int)\n",
    "print(num_str, type(num_str))"
   ]
  },
  {
   "cell_type": "code",
   "execution_count": 42,
   "id": "32a0c52d",
   "metadata": {
    "ExecuteTime": {
     "end_time": "2024-03-02T03:07:53.328240Z",
     "start_time": "2024-03-02T03:07:53.324406Z"
    }
   },
   "outputs": [
    {
     "name": "stdout",
     "output_type": "stream",
     "text": [
      "15.79 <class 'float'>\n"
     ]
    }
   ],
   "source": [
    "num_str = \"15.79\"\n",
    "num_float = float(num_str)\n",
    "print(num_float, type(num_float))"
   ]
  },
  {
   "cell_type": "code",
   "execution_count": 43,
   "id": "16b5c66e",
   "metadata": {
    "ExecuteTime": {
     "end_time": "2024-03-02T03:17:34.952724Z",
     "start_time": "2024-03-02T03:17:34.948528Z"
    }
   },
   "outputs": [
    {
     "name": "stdout",
     "output_type": "stream",
     "text": [
      "2017\n",
      "2018\n",
      "2019\n"
     ]
    }
   ],
   "source": [
    "year = \"2020\"\n",
    "print(int(year)-3)\n",
    "print(int(year)-2)\n",
    "print(int(year)-1)"
   ]
  },
  {
   "cell_type": "code",
   "execution_count": 46,
   "id": "d62729e5",
   "metadata": {
    "ExecuteTime": {
     "end_time": "2024-03-02T03:59:11.391122Z",
     "start_time": "2024-03-02T03:59:11.387311Z"
    }
   },
   "outputs": [
    {
     "name": "stdout",
     "output_type": "stream",
     "text": [
      "1749024\n"
     ]
    }
   ],
   "source": [
    "월금액 = 48584\n",
    "할부개월 = 36\n",
    "총금액 = 월금액*할부개월\n",
    "print(총금액)"
   ]
  },
  {
   "cell_type": "code",
   "execution_count": 47,
   "id": "0f938933",
   "metadata": {
    "ExecuteTime": {
     "end_time": "2024-03-02T04:11:08.535802Z",
     "start_time": "2024-03-02T04:11:08.532274Z"
    }
   },
   "outputs": [
    {
     "name": "stdout",
     "output_type": "stream",
     "text": [
      "p t\n"
     ]
    }
   ],
   "source": [
    "letters = 'python'\n",
    "print(letters[0], letters[2])"
   ]
  },
  {
   "cell_type": "code",
   "execution_count": 48,
   "id": "b0030da1",
   "metadata": {
    "ExecuteTime": {
     "end_time": "2024-03-02T04:13:24.373004Z",
     "start_time": "2024-03-02T04:13:24.368848Z"
    }
   },
   "outputs": [
    {
     "name": "stdout",
     "output_type": "stream",
     "text": [
      "2210\n"
     ]
    }
   ],
   "source": [
    "license_plate = \"24가 2210\"\n",
    "print(license_plate[-4:])"
   ]
  },
  {
   "cell_type": "code",
   "execution_count": 49,
   "id": "ae1ce320",
   "metadata": {
    "ExecuteTime": {
     "end_time": "2024-03-02T04:13:55.435800Z",
     "start_time": "2024-03-02T04:13:55.431322Z"
    }
   },
   "outputs": [
    {
     "name": "stdout",
     "output_type": "stream",
     "text": [
      "홀홀홀\n"
     ]
    }
   ],
   "source": [
    "string = \"홀짝홀짝홀짝\"\n",
    "print(string[::2])"
   ]
  },
  {
   "cell_type": "code",
   "execution_count": 52,
   "id": "c852ee0f",
   "metadata": {
    "ExecuteTime": {
     "end_time": "2024-03-02T04:26:12.677984Z",
     "start_time": "2024-03-02T04:26:12.673564Z"
    }
   },
   "outputs": [
    {
     "name": "stdout",
     "output_type": "stream",
     "text": [
      "NOHTYP\n"
     ]
    }
   ],
   "source": [
    "string = \"PYTHON\"\n",
    "print(string[::-1])"
   ]
  },
  {
   "cell_type": "code",
   "execution_count": 53,
   "id": "307ca6fe",
   "metadata": {
    "ExecuteTime": {
     "end_time": "2024-03-02T04:44:42.325999Z",
     "start_time": "2024-03-02T04:44:42.322210Z"
    }
   },
   "outputs": [
    {
     "name": "stdout",
     "output_type": "stream",
     "text": [
      "010 1111 2222\n"
     ]
    }
   ],
   "source": [
    "phone_number = \"010-1111-2222\"\n",
    "phone_number1 = phone_number.replace(\"-\", \" \")\n",
    "print(phone_number1)"
   ]
  },
  {
   "cell_type": "code",
   "execution_count": 55,
   "id": "c7f9bc8e",
   "metadata": {
    "ExecuteTime": {
     "end_time": "2024-03-02T04:53:14.399744Z",
     "start_time": "2024-03-02T04:53:14.394060Z"
    }
   },
   "outputs": [
    {
     "data": {
      "text/plain": [
       "'011112222'"
      ]
     },
     "execution_count": 55,
     "metadata": {},
     "output_type": "execute_result"
    }
   ],
   "source": [
    "a = \"010-1111-2222\"\n",
    "b = a[:2] + a[4:7] + a[-4:]\n",
    "b"
   ]
  },
  {
   "cell_type": "code",
   "execution_count": 56,
   "id": "dc7c590f",
   "metadata": {
    "ExecuteTime": {
     "end_time": "2024-03-02T04:53:57.748056Z",
     "start_time": "2024-03-02T04:53:57.743626Z"
    }
   },
   "outputs": [
    {
     "name": "stdout",
     "output_type": "stream",
     "text": [
      "01011112222\n"
     ]
    }
   ],
   "source": [
    "phone_number = \"010-1111-2222\"\n",
    "phone_number1 = phone_number.replace(\"-\", \"\")\n",
    "print(phone_number1)"
   ]
  },
  {
   "cell_type": "code",
   "execution_count": 57,
   "id": "25a42c73",
   "metadata": {
    "ExecuteTime": {
     "end_time": "2024-03-02T05:00:55.251972Z",
     "start_time": "2024-03-02T05:00:55.246351Z"
    }
   },
   "outputs": [
    {
     "name": "stdout",
     "output_type": "stream",
     "text": [
      "kr\n"
     ]
    }
   ],
   "source": [
    "url = \"http://sharebook.kr\"\n",
    "url_split = url.split('.')\n",
    "print(url_split[-1])"
   ]
  },
  {
   "cell_type": "code",
   "execution_count": 58,
   "id": "983ddb4d",
   "metadata": {
    "ExecuteTime": {
     "end_time": "2024-03-02T05:03:35.713995Z",
     "start_time": "2024-03-02T05:03:35.361479Z"
    }
   },
   "outputs": [
    {
     "ename": "TypeError",
     "evalue": "'str' object does not support item assignment",
     "output_type": "error",
     "traceback": [
      "\u001b[1;31m---------------------------------------------------------------------------\u001b[0m",
      "\u001b[1;31mTypeError\u001b[0m                                 Traceback (most recent call last)",
      "Cell \u001b[1;32mIn[58], line 2\u001b[0m\n\u001b[0;32m      1\u001b[0m lang \u001b[38;5;241m=\u001b[39m \u001b[38;5;124m'\u001b[39m\u001b[38;5;124mpython\u001b[39m\u001b[38;5;124m'\u001b[39m\n\u001b[1;32m----> 2\u001b[0m lang[\u001b[38;5;241m0\u001b[39m] \u001b[38;5;241m=\u001b[39m \u001b[38;5;124m'\u001b[39m\u001b[38;5;124mP\u001b[39m\u001b[38;5;124m'\u001b[39m\n\u001b[0;32m      3\u001b[0m \u001b[38;5;28mprint\u001b[39m(lang)\n",
      "\u001b[1;31mTypeError\u001b[0m: 'str' object does not support item assignment"
     ]
    }
   ],
   "source": [
    "lang = 'python'\n",
    "lang[0] = 'P'\n",
    "print(lang)"
   ]
  },
  {
   "cell_type": "code",
   "execution_count": null,
   "id": "11ac782c",
   "metadata": {},
   "outputs": [],
   "source": [
    "lang = 'python'\n",
    "lang[0] = 'P'\n",
    "print(lang)"
   ]
  },
  {
   "cell_type": "code",
   "execution_count": 59,
   "id": "253fa9d2",
   "metadata": {
    "ExecuteTime": {
     "end_time": "2024-03-02T05:03:51.581966Z",
     "start_time": "2024-03-02T05:03:51.578412Z"
    }
   },
   "outputs": [
    {
     "name": "stdout",
     "output_type": "stream",
     "text": [
      "python\n"
     ]
    }
   ],
   "source": [
    "lang = 'python'\n",
    "print(lang)"
   ]
  },
  {
   "cell_type": "code",
   "execution_count": 60,
   "id": "02ec3d85",
   "metadata": {
    "ExecuteTime": {
     "end_time": "2024-03-02T05:05:26.434097Z",
     "start_time": "2024-03-02T05:05:26.429835Z"
    }
   },
   "outputs": [
    {
     "name": "stdout",
     "output_type": "stream",
     "text": [
      "Abcdfe2A354A32A\n"
     ]
    }
   ],
   "source": [
    "string = 'abcdfe2a354a32a'\n",
    "string = string.replace('a', 'A')\n",
    "print(string)"
   ]
  },
  {
   "cell_type": "code",
   "execution_count": 61,
   "id": "163ff9d3",
   "metadata": {
    "ExecuteTime": {
     "end_time": "2024-03-02T05:05:40.544550Z",
     "start_time": "2024-03-02T05:05:40.541156Z"
    }
   },
   "outputs": [
    {
     "name": "stdout",
     "output_type": "stream",
     "text": [
      "abcd\n"
     ]
    }
   ],
   "source": [
    "string = 'abcd'\n",
    "string.replace('b', 'B')\n",
    "print(string)"
   ]
  },
  {
   "cell_type": "code",
   "execution_count": 62,
   "id": "7017061a",
   "metadata": {
    "ExecuteTime": {
     "end_time": "2024-03-02T05:06:27.721930Z",
     "start_time": "2024-03-02T05:06:27.717538Z"
    }
   },
   "outputs": [
    {
     "name": "stdout",
     "output_type": "stream",
     "text": [
      "aBcd\n"
     ]
    }
   ],
   "source": [
    "string = 'abcd'\n",
    "string = string.replace('b', 'B')\n",
    "print(string)"
   ]
  },
  {
   "cell_type": "code",
   "execution_count": 63,
   "id": "b70f1c62",
   "metadata": {
    "ExecuteTime": {
     "end_time": "2024-03-02T05:13:48.511297Z",
     "start_time": "2024-03-02T05:13:48.505334Z"
    }
   },
   "outputs": [
    {
     "name": "stdout",
     "output_type": "stream",
     "text": [
      "34\n"
     ]
    }
   ],
   "source": [
    "a = \"3\"\n",
    "b = \"4\"\n",
    "print(a + b)"
   ]
  },
  {
   "cell_type": "code",
   "execution_count": 64,
   "id": "5012ace3",
   "metadata": {
    "ExecuteTime": {
     "end_time": "2024-03-02T05:18:26.869445Z",
     "start_time": "2024-03-02T05:18:26.865748Z"
    }
   },
   "outputs": [
    {
     "name": "stdout",
     "output_type": "stream",
     "text": [
      "HiHiHi\n"
     ]
    }
   ],
   "source": [
    "print(\"Hi\" * 3)"
   ]
  },
  {
   "cell_type": "code",
   "execution_count": 65,
   "id": "4298cc43",
   "metadata": {
    "ExecuteTime": {
     "end_time": "2024-03-02T05:18:39.954969Z",
     "start_time": "2024-03-02T05:18:39.950528Z"
    }
   },
   "outputs": [
    {
     "name": "stdout",
     "output_type": "stream",
     "text": [
      "--------------------------------------------------------------------------------\n"
     ]
    }
   ],
   "source": [
    "print('-' * 80)"
   ]
  },
  {
   "cell_type": "code",
   "execution_count": 68,
   "id": "c1b2654f",
   "metadata": {
    "ExecuteTime": {
     "end_time": "2024-03-02T05:20:45.817692Z",
     "start_time": "2024-03-02T05:20:45.813732Z"
    }
   },
   "outputs": [
    {
     "name": "stdout",
     "output_type": "stream",
     "text": [
      "python java python java python java python java \n"
     ]
    }
   ],
   "source": [
    "t1 = 'python'\n",
    "t2 = 'java'\n",
    "print((t1 + ' ' + t2 + ' ') * 4)"
   ]
  },
  {
   "cell_type": "code",
   "execution_count": 69,
   "id": "d9dcedbb",
   "metadata": {
    "ExecuteTime": {
     "end_time": "2024-03-02T05:28:08.816852Z",
     "start_time": "2024-03-02T05:28:08.812430Z"
    }
   },
   "outputs": [
    {
     "name": "stdout",
     "output_type": "stream",
     "text": [
      "이름: 김민수 나이: 10\n",
      "이름: 이철희 나이: 13\n"
     ]
    }
   ],
   "source": [
    "name1 = \"김민수\" \n",
    "age1 = 10\n",
    "name2 = \"이철희\"\n",
    "age2 = 13\n",
    "print(\"이름: %s 나이: %d\" % (name1, age1))\n",
    "print(\"이름: %s 나이: %d\" % (name2, age2))"
   ]
  },
  {
   "cell_type": "code",
   "execution_count": 74,
   "id": "579c29ef",
   "metadata": {
    "ExecuteTime": {
     "end_time": "2024-03-02T05:31:33.386113Z",
     "start_time": "2024-03-02T05:31:33.382088Z"
    }
   },
   "outputs": [
    {
     "name": "stdout",
     "output_type": "stream",
     "text": [
      "이름: 김민수 나이: 10\n",
      "이름: 이철희 나이: 13\n"
     ]
    }
   ],
   "source": [
    "name1 = \"김민수\" \n",
    "age1 = 10\n",
    "name2 = \"이철희\"\n",
    "age2 = 13\n",
    "print(\"이름: {} 나이: {}\" . format(name1, age1))\n",
    "print(\"이름: {} 나이: {}\" . format(name2, age2))"
   ]
  },
  {
   "cell_type": "code",
   "execution_count": 75,
   "id": "6322a0a6",
   "metadata": {
    "ExecuteTime": {
     "end_time": "2024-03-02T05:38:34.171116Z",
     "start_time": "2024-03-02T05:38:34.166525Z"
    }
   },
   "outputs": [
    {
     "name": "stdout",
     "output_type": "stream",
     "text": [
      "이름: 김민수 나이: 10\n",
      "이름: 이철희 나이: 13\n"
     ]
    }
   ],
   "source": [
    "name1 = \"김민수\" \n",
    "age1 = 10\n",
    "name2 = \"이철희\"\n",
    "age2 = 13\n",
    "print(f\"이름: {name1} 나이: {age1}\")\n",
    "print(f\"이름: {name2} 나이: {age2}\")"
   ]
  },
  {
   "cell_type": "code",
   "execution_count": 76,
   "id": "83cc44ef",
   "metadata": {
    "ExecuteTime": {
     "end_time": "2024-03-02T05:41:04.288339Z",
     "start_time": "2024-03-02T05:41:04.283611Z"
    }
   },
   "outputs": [
    {
     "name": "stdout",
     "output_type": "stream",
     "text": [
      "5969782550 <class 'int'>\n"
     ]
    }
   ],
   "source": [
    "상장주식수 = \"5,969,782,550\"\n",
    "컴마제거 = 상장주식수.replace(\",\", \"\")\n",
    "타입변환 = int(컴마제거)\n",
    "print(타입변환, type(타입변환))"
   ]
  },
  {
   "cell_type": "code",
   "execution_count": 78,
   "id": "b324d9f1",
   "metadata": {
    "ExecuteTime": {
     "end_time": "2024-03-02T05:53:34.233100Z",
     "start_time": "2024-03-02T05:53:34.228838Z"
    }
   },
   "outputs": [
    {
     "name": "stdout",
     "output_type": "stream",
     "text": [
      "2020/03\n"
     ]
    }
   ],
   "source": [
    "분기 = \"2020/03(E) (IFRS연결)\"\n",
    "print(분기[:7])"
   ]
  },
  {
   "cell_type": "code",
   "execution_count": 79,
   "id": "df58ab1f",
   "metadata": {
    "ExecuteTime": {
     "end_time": "2024-03-02T05:57:07.118893Z",
     "start_time": "2024-03-02T05:57:07.114795Z"
    }
   },
   "outputs": [
    {
     "name": "stdout",
     "output_type": "stream",
     "text": [
      "삼성전자\n"
     ]
    }
   ],
   "source": [
    "data = \"   삼성전자    \"\n",
    "data1 = data.strip()\n",
    "print(data1)"
   ]
  },
  {
   "cell_type": "code",
   "execution_count": 82,
   "id": "9eceeee5",
   "metadata": {
    "ExecuteTime": {
     "end_time": "2024-03-02T06:02:52.648942Z",
     "start_time": "2024-03-02T06:02:52.645632Z"
    }
   },
   "outputs": [
    {
     "name": "stdout",
     "output_type": "stream",
     "text": [
      "BTC_KRW\n"
     ]
    }
   ],
   "source": [
    "ticker = \"btc_krw\"\n",
    "ticker = ticker.upper()\n",
    "print(ticker)"
   ]
  },
  {
   "cell_type": "code",
   "execution_count": 83,
   "id": "8f5a6025",
   "metadata": {
    "ExecuteTime": {
     "end_time": "2024-03-02T06:02:55.936041Z",
     "start_time": "2024-03-02T06:02:55.932035Z"
    }
   },
   "outputs": [
    {
     "name": "stdout",
     "output_type": "stream",
     "text": [
      "btc_krw\n"
     ]
    }
   ],
   "source": [
    "ticker = \"BTC_KRW\"\n",
    "ticker = ticker.lower()\n",
    "print(ticker)"
   ]
  },
  {
   "cell_type": "code",
   "execution_count": 91,
   "id": "2f4451d5",
   "metadata": {
    "ExecuteTime": {
     "end_time": "2024-03-02T06:10:40.456662Z",
     "start_time": "2024-03-02T06:10:40.452249Z"
    }
   },
   "outputs": [
    {
     "name": "stdout",
     "output_type": "stream",
     "text": [
      "Hello\n"
     ]
    }
   ],
   "source": [
    "a = \"hello\"\n",
    "a = a.capitalize()\n",
    "print(a)"
   ]
  },
  {
   "cell_type": "code",
   "execution_count": 92,
   "id": "1a8082f1",
   "metadata": {
    "ExecuteTime": {
     "end_time": "2024-03-02T06:34:10.246890Z",
     "start_time": "2024-03-02T06:34:10.241183Z"
    }
   },
   "outputs": [
    {
     "data": {
      "text/plain": [
       "True"
      ]
     },
     "execution_count": 92,
     "metadata": {},
     "output_type": "execute_result"
    }
   ],
   "source": [
    "file_name = \"보고서.xlsx\"\n",
    "file_name.endswith(\"xlsx\")"
   ]
  },
  {
   "cell_type": "code",
   "execution_count": 95,
   "id": "ca25c101",
   "metadata": {
    "ExecuteTime": {
     "end_time": "2024-03-02T06:34:31.823699Z",
     "start_time": "2024-03-02T06:34:31.817260Z"
    }
   },
   "outputs": [
    {
     "data": {
      "text/plain": [
       "True"
      ]
     },
     "execution_count": 95,
     "metadata": {},
     "output_type": "execute_result"
    }
   ],
   "source": [
    "file_name = \"보고서.xlsx\"\n",
    "file_name.endswith((\"xlsx\", \"xls\"))"
   ]
  },
  {
   "cell_type": "code",
   "execution_count": 96,
   "id": "64e1765d",
   "metadata": {
    "ExecuteTime": {
     "end_time": "2024-03-02T06:35:44.362158Z",
     "start_time": "2024-03-02T06:35:44.357303Z"
    }
   },
   "outputs": [
    {
     "data": {
      "text/plain": [
       "True"
      ]
     },
     "execution_count": 96,
     "metadata": {},
     "output_type": "execute_result"
    }
   ],
   "source": [
    "file_name = \"2020_보고서.xlsx\"\n",
    "file_name.startswith(\"2020\")"
   ]
  },
  {
   "cell_type": "code",
   "execution_count": 97,
   "id": "aab856ce",
   "metadata": {
    "ExecuteTime": {
     "end_time": "2024-03-02T06:35:55.351747Z",
     "start_time": "2024-03-02T06:35:55.346451Z"
    }
   },
   "outputs": [
    {
     "data": {
      "text/plain": [
       "['hello', 'world']"
      ]
     },
     "execution_count": 97,
     "metadata": {},
     "output_type": "execute_result"
    }
   ],
   "source": [
    "a = \"hello world\"\n",
    "a.split()"
   ]
  },
  {
   "cell_type": "code",
   "execution_count": 98,
   "id": "6c9be76a",
   "metadata": {
    "ExecuteTime": {
     "end_time": "2024-03-02T06:36:09.174226Z",
     "start_time": "2024-03-02T06:36:09.169583Z"
    }
   },
   "outputs": [
    {
     "data": {
      "text/plain": [
       "['btc', 'krw']"
      ]
     },
     "execution_count": 98,
     "metadata": {},
     "output_type": "execute_result"
    }
   ],
   "source": [
    "ticker = \"btc_krw\"\n",
    "ticker.split(\"_\")"
   ]
  },
  {
   "cell_type": "code",
   "execution_count": 99,
   "id": "ccc76849",
   "metadata": {
    "ExecuteTime": {
     "end_time": "2024-03-02T06:36:18.774660Z",
     "start_time": "2024-03-02T06:36:18.769637Z"
    }
   },
   "outputs": [
    {
     "data": {
      "text/plain": [
       "['2020', '05', '01']"
      ]
     },
     "execution_count": 99,
     "metadata": {},
     "output_type": "execute_result"
    }
   ],
   "source": [
    "date = \"2020-05-01\"\n",
    "date.split(\"-\")"
   ]
  },
  {
   "cell_type": "code",
   "execution_count": 101,
   "id": "9fcd99c3",
   "metadata": {
    "ExecuteTime": {
     "end_time": "2024-03-02T06:36:36.961229Z",
     "start_time": "2024-03-02T06:36:36.957774Z"
    }
   },
   "outputs": [
    {
     "name": "stdout",
     "output_type": "stream",
     "text": [
      "039490\n"
     ]
    }
   ],
   "source": [
    "data = \"039490     \"\n",
    "data = data.rstrip()\n",
    "print(data)"
   ]
  },
  {
   "cell_type": "markdown",
   "id": "10b64d4b",
   "metadata": {},
   "source": [
    "51 ~ 100"
   ]
  },
  {
   "cell_type": "code",
   "execution_count": 1,
   "id": "8042ede4",
   "metadata": {
    "ExecuteTime": {
     "end_time": "2024-03-04T04:26:04.009465Z",
     "start_time": "2024-03-04T04:26:04.005991Z"
    }
   },
   "outputs": [],
   "source": [
    "movie_rank = [\"닥터 스트레인지\", \"스플릿\", \"럭키\"]"
   ]
  },
  {
   "cell_type": "code",
   "execution_count": 2,
   "id": "3904e93c",
   "metadata": {
    "ExecuteTime": {
     "end_time": "2024-03-04T04:26:23.932979Z",
     "start_time": "2024-03-04T04:26:23.928043Z"
    }
   },
   "outputs": [
    {
     "name": "stdout",
     "output_type": "stream",
     "text": [
      "['닥터 스트레인지', '스플릿', '럭키', '배트맨']\n"
     ]
    }
   ],
   "source": [
    "movie_rank.append(\"배트맨\")\n",
    "print(movie_rank)"
   ]
  },
  {
   "cell_type": "code",
   "execution_count": 3,
   "id": "23c1eb88",
   "metadata": {
    "ExecuteTime": {
     "end_time": "2024-03-04T04:26:40.496049Z",
     "start_time": "2024-03-04T04:26:40.490993Z"
    }
   },
   "outputs": [
    {
     "name": "stdout",
     "output_type": "stream",
     "text": [
      "['닥터 스트레인지', '슈퍼맨', '스플릿', '럭키', '배트맨']\n"
     ]
    }
   ],
   "source": [
    "movie_rank.insert(1, \"슈퍼맨\")\n",
    "print(movie_rank)"
   ]
  },
  {
   "cell_type": "code",
   "execution_count": 6,
   "id": "f780a44d",
   "metadata": {
    "ExecuteTime": {
     "end_time": "2024-03-04T04:29:18.909669Z",
     "start_time": "2024-03-04T04:29:18.905666Z"
    }
   },
   "outputs": [
    {
     "name": "stdout",
     "output_type": "stream",
     "text": [
      "['닥터 스트레인지', '슈퍼맨', '스플릿', '배트맨']\n"
     ]
    }
   ],
   "source": [
    "del movie_rank[3]\n",
    "print(movie_rank)"
   ]
  },
  {
   "cell_type": "code",
   "execution_count": 7,
   "id": "6dfdf42b",
   "metadata": {
    "ExecuteTime": {
     "end_time": "2024-03-04T04:29:30.948104Z",
     "start_time": "2024-03-04T04:29:30.943954Z"
    }
   },
   "outputs": [
    {
     "name": "stdout",
     "output_type": "stream",
     "text": [
      "['닥터 스트레인지', '슈퍼맨']\n"
     ]
    }
   ],
   "source": [
    "del movie_rank[2]\n",
    "del movie_rank[2]\n",
    "print(movie_rank)"
   ]
  },
  {
   "cell_type": "code",
   "execution_count": 8,
   "id": "d2ed3ae8",
   "metadata": {
    "ExecuteTime": {
     "end_time": "2024-03-04T04:31:41.211207Z",
     "start_time": "2024-03-04T04:31:41.206980Z"
    }
   },
   "outputs": [],
   "source": [
    "lang1 = [\"C\", \"C++\", \"JAVA\"]\n",
    "lang2 = [\"Python\", \"Go\", \"C#\"]"
   ]
  },
  {
   "cell_type": "code",
   "execution_count": 9,
   "id": "b7a91219",
   "metadata": {
    "ExecuteTime": {
     "end_time": "2024-03-04T04:31:53.913250Z",
     "start_time": "2024-03-04T04:31:53.906466Z"
    }
   },
   "outputs": [
    {
     "data": {
      "text/plain": [
       "['C', 'C++', 'JAVA', 'Python', 'Go', 'C#']"
      ]
     },
     "execution_count": 9,
     "metadata": {},
     "output_type": "execute_result"
    }
   ],
   "source": [
    "lang1 + lang2"
   ]
  },
  {
   "cell_type": "code",
   "execution_count": 10,
   "id": "ca5cd4ac",
   "metadata": {
    "ExecuteTime": {
     "end_time": "2024-03-04T04:32:08.222928Z",
     "start_time": "2024-03-04T04:32:08.219273Z"
    }
   },
   "outputs": [],
   "source": [
    "nums = [1, 2, 3, 4, 5, 6, 7]"
   ]
  },
  {
   "cell_type": "code",
   "execution_count": 17,
   "id": "7d6091ce",
   "metadata": {
    "ExecuteTime": {
     "end_time": "2024-03-04T04:33:14.562484Z",
     "start_time": "2024-03-04T04:33:14.557263Z"
    }
   },
   "outputs": [
    {
     "name": "stdout",
     "output_type": "stream",
     "text": [
      "max:  7\n"
     ]
    }
   ],
   "source": [
    "print('max: ', max(nums))"
   ]
  },
  {
   "cell_type": "code",
   "execution_count": 18,
   "id": "90c694f2",
   "metadata": {
    "ExecuteTime": {
     "end_time": "2024-03-04T04:33:24.548506Z",
     "start_time": "2024-03-04T04:33:24.543507Z"
    }
   },
   "outputs": [
    {
     "name": "stdout",
     "output_type": "stream",
     "text": [
      "min:  1\n"
     ]
    }
   ],
   "source": [
    "print('min: ', min(nums))"
   ]
  },
  {
   "cell_type": "code",
   "execution_count": 19,
   "id": "558d842d",
   "metadata": {
    "ExecuteTime": {
     "end_time": "2024-03-04T04:34:21.160723Z",
     "start_time": "2024-03-04T04:34:21.156607Z"
    }
   },
   "outputs": [
    {
     "name": "stdout",
     "output_type": "stream",
     "text": [
      "15\n"
     ]
    }
   ],
   "source": [
    "nums = [1, 2, 3, 4, 5]\n",
    "print(sum(nums))"
   ]
  },
  {
   "cell_type": "code",
   "execution_count": 20,
   "id": "8d5ee226",
   "metadata": {
    "ExecuteTime": {
     "end_time": "2024-03-04T04:34:52.949449Z",
     "start_time": "2024-03-04T04:34:52.944449Z"
    }
   },
   "outputs": [
    {
     "name": "stdout",
     "output_type": "stream",
     "text": [
      "12\n"
     ]
    }
   ],
   "source": [
    "cook = [\"피자\", \"김밥\", \"만두\", \"양념치킨\", \"족발\", \"피자\", \"김치만두\", \"쫄면\", \"소시지\", \"라면\", \"팥빙수\", \"김치전\"]\n",
    "print(len(cook))"
   ]
  },
  {
   "cell_type": "code",
   "execution_count": 24,
   "id": "c2daa14c",
   "metadata": {
    "ExecuteTime": {
     "end_time": "2024-03-04T04:35:49.711611Z",
     "start_time": "2024-03-04T04:35:49.707592Z"
    }
   },
   "outputs": [
    {
     "name": "stdout",
     "output_type": "stream",
     "text": [
      "3.0\n"
     ]
    }
   ],
   "source": [
    "nums = [1, 2, 3, 4, 5]\n",
    "average = sum(nums)/len(nums)\n",
    "print(average)"
   ]
  },
  {
   "cell_type": "code",
   "execution_count": 26,
   "id": "758c6835",
   "metadata": {
    "ExecuteTime": {
     "end_time": "2024-03-04T04:38:01.889156Z",
     "start_time": "2024-03-04T04:38:01.885157Z"
    }
   },
   "outputs": [
    {
     "name": "stdout",
     "output_type": "stream",
     "text": [
      "[100, 130, 140, 150, 160, 170]\n"
     ]
    }
   ],
   "source": [
    "price = ['20180728', 100, 130, 140, 150, 160, 170]\n",
    "print(price[1:])"
   ]
  },
  {
   "cell_type": "code",
   "execution_count": 27,
   "id": "eab18bb7",
   "metadata": {
    "ExecuteTime": {
     "end_time": "2024-03-04T04:38:22.840306Z",
     "start_time": "2024-03-04T04:38:22.835326Z"
    }
   },
   "outputs": [
    {
     "name": "stdout",
     "output_type": "stream",
     "text": [
      "[1, 3, 5, 7, 9]\n"
     ]
    }
   ],
   "source": [
    "nums = [1, 2, 3, 4, 5, 6, 7, 8, 9, 10]\n",
    "print(nums[::2])"
   ]
  },
  {
   "cell_type": "code",
   "execution_count": 28,
   "id": "cdc0cf91",
   "metadata": {
    "ExecuteTime": {
     "end_time": "2024-03-04T04:38:46.064869Z",
     "start_time": "2024-03-04T04:38:46.060297Z"
    }
   },
   "outputs": [
    {
     "name": "stdout",
     "output_type": "stream",
     "text": [
      "[2, 4, 6, 8, 10]\n"
     ]
    }
   ],
   "source": [
    "nums = [1, 2, 3, 4, 5, 6, 7, 8, 9, 10]\n",
    "print(nums[1::2])"
   ]
  },
  {
   "cell_type": "code",
   "execution_count": 29,
   "id": "99ed029f",
   "metadata": {
    "ExecuteTime": {
     "end_time": "2024-03-04T04:42:48.620973Z",
     "start_time": "2024-03-04T04:42:48.615899Z"
    }
   },
   "outputs": [
    {
     "name": "stdout",
     "output_type": "stream",
     "text": [
      "[5, 4, 3, 2, 1]\n"
     ]
    }
   ],
   "source": [
    "nums = [1, 2, 3, 4, 5]\n",
    "print(nums[::-1])"
   ]
  },
  {
   "cell_type": "code",
   "execution_count": 30,
   "id": "fc71b1fc",
   "metadata": {
    "ExecuteTime": {
     "end_time": "2024-03-04T04:42:59.970406Z",
     "start_time": "2024-03-04T04:42:59.965391Z"
    }
   },
   "outputs": [
    {
     "name": "stdout",
     "output_type": "stream",
     "text": [
      "삼성전자 Naver\n"
     ]
    }
   ],
   "source": [
    "interest = ['삼성전자', 'LG전자', 'Naver']\n",
    "print(interest[0], interest[2])"
   ]
  },
  {
   "cell_type": "code",
   "execution_count": 31,
   "id": "24e67781",
   "metadata": {
    "ExecuteTime": {
     "end_time": "2024-03-04T04:43:24.131492Z",
     "start_time": "2024-03-04T04:43:24.127638Z"
    }
   },
   "outputs": [
    {
     "name": "stdout",
     "output_type": "stream",
     "text": [
      "삼성전자 LG전자 Naver SK하이닉스 미래에셋대우\n"
     ]
    }
   ],
   "source": [
    "interest = ['삼성전자', 'LG전자', 'Naver', 'SK하이닉스', '미래에셋대우']\n",
    "print(\" \".join(interest))"
   ]
  },
  {
   "cell_type": "code",
   "execution_count": 1,
   "id": "1f8ac465",
   "metadata": {
    "ExecuteTime": {
     "end_time": "2024-03-04T11:57:30.369811Z",
     "start_time": "2024-03-04T11:57:30.366307Z"
    }
   },
   "outputs": [
    {
     "name": "stdout",
     "output_type": "stream",
     "text": [
      "삼성전자/LG전자/Naver/SK하이닉스/미래에셋대우\n"
     ]
    }
   ],
   "source": [
    "interest = ['삼성전자', 'LG전자', 'Naver', 'SK하이닉스', '미래에셋대우']\n",
    "print(\"/\".join(interest))"
   ]
  },
  {
   "cell_type": "code",
   "execution_count": 2,
   "id": "49fe9bc6",
   "metadata": {
    "ExecuteTime": {
     "end_time": "2024-03-04T11:57:46.857482Z",
     "start_time": "2024-03-04T11:57:46.853969Z"
    }
   },
   "outputs": [
    {
     "name": "stdout",
     "output_type": "stream",
     "text": [
      "삼성전자\n",
      "LG전자\n",
      "Naver\n",
      "SK하이닉스\n",
      "미래에셋대우\n"
     ]
    }
   ],
   "source": [
    "interest = ['삼성전자', 'LG전자', 'Naver', 'SK하이닉스', '미래에셋대우']\n",
    "print(\"\\n\".join(interest))"
   ]
  },
  {
   "cell_type": "code",
   "execution_count": 3,
   "id": "dc5ca5dd",
   "metadata": {
    "ExecuteTime": {
     "end_time": "2024-03-04T11:59:12.310099Z",
     "start_time": "2024-03-04T11:59:12.305502Z"
    }
   },
   "outputs": [
    {
     "name": "stdout",
     "output_type": "stream",
     "text": [
      "['삼성전자', 'LG전자', 'Naver']\n"
     ]
    }
   ],
   "source": [
    "string = \"삼성전자/LG전자/Naver\"\n",
    "interest = string.split(\"/\")\n",
    "print(interest)"
   ]
  },
  {
   "cell_type": "code",
   "execution_count": 4,
   "id": "19ffea21",
   "metadata": {
    "ExecuteTime": {
     "end_time": "2024-03-04T11:59:54.623089Z",
     "start_time": "2024-03-04T11:59:54.619487Z"
    }
   },
   "outputs": [
    {
     "name": "stdout",
     "output_type": "stream",
     "text": [
      "[1, 2, 3, 4, 5, 9, 10]\n"
     ]
    }
   ],
   "source": [
    "data = [2, 4, 3, 1, 5, 10, 9]\n",
    "data.sort()\n",
    "print(data)"
   ]
  },
  {
   "cell_type": "code",
   "execution_count": 6,
   "id": "a81790bd",
   "metadata": {
    "ExecuteTime": {
     "end_time": "2024-03-04T12:04:12.454840Z",
     "start_time": "2024-03-04T12:04:12.450677Z"
    }
   },
   "outputs": [
    {
     "name": "stdout",
     "output_type": "stream",
     "text": [
      "<class 'tuple'>\n"
     ]
    }
   ],
   "source": [
    "my_variable = ()\n",
    "print(type(my_variable))"
   ]
  },
  {
   "cell_type": "code",
   "execution_count": 7,
   "id": "c95f1085",
   "metadata": {
    "ExecuteTime": {
     "end_time": "2024-03-04T12:05:21.379947Z",
     "start_time": "2024-03-04T12:05:21.376856Z"
    }
   },
   "outputs": [],
   "source": [
    "movie_rank = (\"닥터 스트레인지\", \"스플릿\", \"럭키\")"
   ]
  },
  {
   "cell_type": "code",
   "execution_count": 8,
   "id": "0f18c6bd",
   "metadata": {
    "ExecuteTime": {
     "end_time": "2024-03-04T12:10:22.595603Z",
     "start_time": "2024-03-04T12:10:22.585460Z"
    }
   },
   "outputs": [
    {
     "ename": "SyntaxError",
     "evalue": "invalid syntax (1139691044.py, line 1)",
     "output_type": "error",
     "traceback": [
      "\u001b[1;36m  Cell \u001b[1;32mIn[8], line 1\u001b[1;36m\u001b[0m\n\u001b[1;33m    >> my_tuple = (1)\u001b[0m\n\u001b[1;37m    ^\u001b[0m\n\u001b[1;31mSyntaxError\u001b[0m\u001b[1;31m:\u001b[0m invalid syntax\n"
     ]
    }
   ],
   "source": [
    ">> my_tuple = (1)\n",
    ">> type (my_tuple)\n",
    "int "
   ]
  },
  {
   "cell_type": "code",
   "execution_count": 9,
   "id": "d7a21fff",
   "metadata": {
    "ExecuteTime": {
     "end_time": "2024-03-04T12:10:27.649747Z",
     "start_time": "2024-03-04T12:10:27.646448Z"
    }
   },
   "outputs": [],
   "source": [
    "my_tuple = (1, )"
   ]
  },
  {
   "cell_type": "code",
   "execution_count": 10,
   "id": "f38fbbef",
   "metadata": {
    "ExecuteTime": {
     "end_time": "2024-03-04T12:10:51.990661Z",
     "start_time": "2024-03-04T12:10:51.985309Z"
    }
   },
   "outputs": [
    {
     "ename": "SyntaxError",
     "evalue": "invalid syntax (2690950246.py, line 1)",
     "output_type": "error",
     "traceback": [
      "\u001b[1;36m  Cell \u001b[1;32mIn[10], line 1\u001b[1;36m\u001b[0m\n\u001b[1;33m    >> t = (1, 2, 3)\u001b[0m\n\u001b[1;37m    ^\u001b[0m\n\u001b[1;31mSyntaxError\u001b[0m\u001b[1;31m:\u001b[0m invalid syntax\n"
     ]
    }
   ],
   "source": [
    ">> t = (1, 2, 3)\n",
    ">> t[0] = 'a'\n",
    "Traceback (most recent call last):\n",
    "  File \"<pyshell#46>\", line 1, in <module>\n",
    "    t[0] = 'a'\n",
    "TypeError: 'tuple' object does not support item assignment\n",
    "    \n",
    "# 튜플은 변경 불가능함"
   ]
  },
  {
   "cell_type": "code",
   "execution_count": 11,
   "id": "e8075742",
   "metadata": {
    "ExecuteTime": {
     "end_time": "2024-03-04T12:31:29.545650Z",
     "start_time": "2024-03-04T12:31:29.541620Z"
    }
   },
   "outputs": [
    {
     "name": "stdout",
     "output_type": "stream",
     "text": [
      "['삼성전자', 'LG전자', 'Naver'] <class 'list'>\n"
     ]
    }
   ],
   "source": [
    "data = list(interest)\n",
    "print(data, type(data))"
   ]
  },
  {
   "cell_type": "code",
   "execution_count": 12,
   "id": "d3e680e1",
   "metadata": {
    "ExecuteTime": {
     "end_time": "2024-03-04T12:31:41.344449Z",
     "start_time": "2024-03-04T12:31:41.340416Z"
    }
   },
   "outputs": [
    {
     "name": "stdout",
     "output_type": "stream",
     "text": [
      "('삼성전자', 'LG전자', 'Naver') <class 'tuple'>\n"
     ]
    }
   ],
   "source": [
    "data = tuple(interest)\n",
    "print(data, type(data))"
   ]
  },
  {
   "cell_type": "code",
   "execution_count": 13,
   "id": "7613273a",
   "metadata": {
    "ExecuteTime": {
     "end_time": "2024-03-04T12:31:52.505202Z",
     "start_time": "2024-03-04T12:31:52.501234Z"
    }
   },
   "outputs": [
    {
     "name": "stdout",
     "output_type": "stream",
     "text": [
      "apple banana cake\n"
     ]
    }
   ],
   "source": [
    "temp = ('apple', 'banana', 'cake')\n",
    "a, b, c = temp\n",
    "print(a, b, c)"
   ]
  },
  {
   "cell_type": "code",
   "execution_count": 14,
   "id": "0e46235d",
   "metadata": {
    "ExecuteTime": {
     "end_time": "2024-03-04T12:32:12.733332Z",
     "start_time": "2024-03-04T12:32:12.729741Z"
    }
   },
   "outputs": [
    {
     "name": "stdout",
     "output_type": "stream",
     "text": [
      "(2, 4, 6, 8, 10, 12, 14, 16, 18, 20, 22, 24, 26, 28, 30, 32, 34, 36, 38, 40, 42, 44, 46, 48, 50, 52, 54, 56, 58, 60, 62, 64, 66, 68, 70, 72, 74, 76, 78, 80, 82, 84, 86, 88, 90, 92, 94, 96, 98)\n"
     ]
    }
   ],
   "source": [
    "data = tuple(range(2, 100, 2))\n",
    "print( data )"
   ]
  },
  {
   "cell_type": "code",
   "execution_count": 17,
   "id": "7352506a",
   "metadata": {
    "ExecuteTime": {
     "end_time": "2024-03-04T12:41:41.122766Z",
     "start_time": "2024-03-04T12:41:41.118242Z"
    }
   },
   "outputs": [
    {
     "name": "stdout",
     "output_type": "stream",
     "text": [
      "[8.8, 8.9, 8.7, 9.2, 9.3, 9.7, 9.9, 9.5]\n"
     ]
    }
   ],
   "source": [
    "scores = [8.8, 8.9, 8.7, 9.2, 9.3, 9.7, 9.9, 9.5, 7.8, 9.4]\n",
    "*valid_score, a, b= scores\n",
    "print(valid_score)"
   ]
  },
  {
   "cell_type": "code",
   "execution_count": 16,
   "id": "ca65f753",
   "metadata": {
    "ExecuteTime": {
     "end_time": "2024-03-04T12:41:31.865592Z",
     "start_time": "2024-03-04T12:41:31.862043Z"
    }
   },
   "outputs": [
    {
     "name": "stdout",
     "output_type": "stream",
     "text": [
      "[8.7, 9.2, 9.3, 9.7, 9.9, 9.5, 7.8, 9.4]\n"
     ]
    }
   ],
   "source": [
    "scores = [8.8, 8.9, 8.7, 9.2, 9.3, 9.7, 9.9, 9.5, 7.8, 9.4]\n",
    "a, b, *valid_score = scores\n",
    "print(valid_score)"
   ]
  },
  {
   "cell_type": "code",
   "execution_count": 20,
   "id": "1919d777",
   "metadata": {
    "ExecuteTime": {
     "end_time": "2024-03-04T12:44:14.631658Z",
     "start_time": "2024-03-04T12:44:14.627362Z"
    }
   },
   "outputs": [
    {
     "name": "stdout",
     "output_type": "stream",
     "text": [
      "[8.9, 8.7, 9.2, 9.3, 9.7, 9.9, 9.5, 7.8]\n"
     ]
    }
   ],
   "source": [
    "scores = [8.8, 8.9, 8.7, 9.2, 9.3, 9.7, 9.9, 9.5, 7.8, 9.4]\n",
    "a, *valid_score, b = scores\n",
    "print(valid_score)"
   ]
  },
  {
   "cell_type": "code",
   "execution_count": 21,
   "id": "7741bd75",
   "metadata": {
    "ExecuteTime": {
     "end_time": "2024-03-04T12:44:58.117390Z",
     "start_time": "2024-03-04T12:44:58.113586Z"
    }
   },
   "outputs": [],
   "source": [
    "temp = { }"
   ]
  },
  {
   "cell_type": "code",
   "execution_count": 22,
   "id": "f108bbff",
   "metadata": {
    "ExecuteTime": {
     "end_time": "2024-03-04T12:45:57.720426Z",
     "start_time": "2024-03-04T12:45:57.716084Z"
    }
   },
   "outputs": [
    {
     "name": "stdout",
     "output_type": "stream",
     "text": [
      "{'메로나': 1000, '폴라포': 1200, '빵빠레': 1800}\n"
     ]
    }
   ],
   "source": [
    "ice = {\"메로나\": 1000, \"폴라포\": 1200, \"빵빠레\": 1800}\n",
    "print(ice)"
   ]
  },
  {
   "cell_type": "code",
   "execution_count": 23,
   "id": "341d177c",
   "metadata": {
    "ExecuteTime": {
     "end_time": "2024-03-04T12:46:19.094198Z",
     "start_time": "2024-03-04T12:46:19.089965Z"
    }
   },
   "outputs": [
    {
     "name": "stdout",
     "output_type": "stream",
     "text": [
      "{'메로나': 1000, '폴라포': 1200, '빵빠레': 1800, '죠스바': 1200, '월드콘': 1500}\n"
     ]
    }
   ],
   "source": [
    "ice = {\"메로나\": 1000, \"폴라포\": 1200, \"빵빠레\": 1800}\n",
    "ice[\"죠스바\"] = 1200\n",
    "ice[\"월드콘\"] = 1500\n",
    "print(ice)"
   ]
  },
  {
   "cell_type": "code",
   "execution_count": 28,
   "id": "8b7c74fd",
   "metadata": {
    "ExecuteTime": {
     "end_time": "2024-03-04T12:54:05.189884Z",
     "start_time": "2024-03-04T12:54:05.185649Z"
    }
   },
   "outputs": [
    {
     "name": "stdout",
     "output_type": "stream",
     "text": [
      "메로나 가격: 1000\n"
     ]
    }
   ],
   "source": [
    "ice = {'메로나': 1000,\n",
    "       '폴로포': 1200,\n",
    "       '빵빠레': 1800,\n",
    "       '죠스바': 1200,\n",
    "       '월드콘': 1500}\n",
    "print('메로나 가격:', ice['메로나'])"
   ]
  },
  {
   "cell_type": "code",
   "execution_count": 33,
   "id": "0940e735",
   "metadata": {
    "ExecuteTime": {
     "end_time": "2024-03-04T12:54:59.417312Z",
     "start_time": "2024-03-04T12:54:59.411848Z"
    }
   },
   "outputs": [
    {
     "data": {
      "text/plain": [
       "1300"
      ]
     },
     "execution_count": 33,
     "metadata": {},
     "output_type": "execute_result"
    }
   ],
   "source": [
    "ice = {'메로나': 1000,\n",
    "       '폴로포': 1200,\n",
    "       '빵빠레': 1800,\n",
    "       '죠스바': 1200,\n",
    "       '월드콘': 1500}\n",
    "ice['메로나'] = 1300\n",
    "ice['메로나']"
   ]
  },
  {
   "cell_type": "code",
   "execution_count": 36,
   "id": "78ec9346",
   "metadata": {
    "ExecuteTime": {
     "end_time": "2024-03-04T12:55:40.228329Z",
     "start_time": "2024-03-04T12:55:40.223605Z"
    }
   },
   "outputs": [
    {
     "name": "stdout",
     "output_type": "stream",
     "text": [
      "{'폴로포': 1200, '빵빠레': 1800, '죠스바': 1200, '월드콘': 1500}\n"
     ]
    }
   ],
   "source": [
    "ice = {'메로나': 1000,\n",
    "       '폴로포': 1200,\n",
    "       '빵빠레': 1800,\n",
    "       '죠스바': 1200,\n",
    "       '월드콘': 1500}\n",
    "del ice['메로나']\n",
    "print(ice)"
   ]
  },
  {
   "cell_type": "code",
   "execution_count": 37,
   "id": "6ec8544c",
   "metadata": {
    "ExecuteTime": {
     "end_time": "2024-03-04T12:55:47.042915Z",
     "start_time": "2024-03-04T12:55:47.038078Z"
    }
   },
   "outputs": [
    {
     "ename": "SyntaxError",
     "evalue": "invalid syntax (3056691120.py, line 1)",
     "output_type": "error",
     "traceback": [
      "\u001b[1;36m  Cell \u001b[1;32mIn[37], line 1\u001b[1;36m\u001b[0m\n\u001b[1;33m    >> icecream = {'폴라포': 1200, '빵빠레': 1800, '월드콘': 1500, '메로나': 1000}\u001b[0m\n\u001b[1;37m    ^\u001b[0m\n\u001b[1;31mSyntaxError\u001b[0m\u001b[1;31m:\u001b[0m invalid syntax\n"
     ]
    }
   ],
   "source": [
    ">> icecream = {'폴라포': 1200, '빵빠레': 1800, '월드콘': 1500, '메로나': 1000}\n",
    ">> icecream['누가바']\n",
    "Traceback (most recent call last):\n",
    "  File \"<pyshell#69>\", line 1, in <module>\n",
    "    icecream['누가바']\n",
    "KeyError: '누가바'\n"
   ]
  },
  {
   "cell_type": "code",
   "execution_count": 38,
   "id": "12b1e59f",
   "metadata": {
    "ExecuteTime": {
     "end_time": "2024-03-04T13:02:15.464247Z",
     "start_time": "2024-03-04T13:02:15.459763Z"
    }
   },
   "outputs": [
    {
     "name": "stdout",
     "output_type": "stream",
     "text": [
      "{'메로나': [300, 20], '비비빅': [400, 3], '죠스바': [250, 100]}\n"
     ]
    }
   ],
   "source": [
    "inventory = {\"메로나\": [300, 20], \n",
    "             \"비비빅\": [400, 3], \n",
    "             \"죠스바\": [250, 100]}\n",
    "print(inventory)\n"
   ]
  },
  {
   "cell_type": "code",
   "execution_count": 41,
   "id": "d156e454",
   "metadata": {
    "ExecuteTime": {
     "end_time": "2024-03-04T13:04:11.277362Z",
     "start_time": "2024-03-04T13:04:11.272811Z"
    }
   },
   "outputs": [
    {
     "name": "stdout",
     "output_type": "stream",
     "text": [
      "300 원\n"
     ]
    }
   ],
   "source": [
    "inventory = {\"메로나\": [300, 20],\n",
    "              \"비비빅\": [400, 3],\n",
    "              \"죠스바\": [250, 100]}\n",
    "print(inventory['메로나'][0], '원')"
   ]
  },
  {
   "cell_type": "code",
   "execution_count": 42,
   "id": "d2da0be8",
   "metadata": {
    "ExecuteTime": {
     "end_time": "2024-03-04T13:09:15.808618Z",
     "start_time": "2024-03-04T13:09:15.803906Z"
    }
   },
   "outputs": [
    {
     "name": "stdout",
     "output_type": "stream",
     "text": [
      "20 개\n"
     ]
    }
   ],
   "source": [
    "inventory = {\"메로나\": [300, 20],\n",
    "              \"비비빅\": [400, 3],\n",
    "              \"죠스바\": [250, 100]}\n",
    "print(inventory[\"메로나\"][1], \"개\")"
   ]
  },
  {
   "cell_type": "code",
   "execution_count": 45,
   "id": "ebbb027c",
   "metadata": {
    "ExecuteTime": {
     "end_time": "2024-03-04T13:10:12.858155Z",
     "start_time": "2024-03-04T13:10:12.854072Z"
    }
   },
   "outputs": [
    {
     "name": "stdout",
     "output_type": "stream",
     "text": [
      "{'메로나': [300, 20], '비비빅': [400, 3], '죠스바': [250, 100], '월드콘': [500, 7]}\n"
     ]
    }
   ],
   "source": [
    "inventory = {\"메로나\": [300, 20],\n",
    "              \"비비빅\": [400, 3],\n",
    "              \"죠스바\": [250, 100]}\n",
    "inventory['월드콘'] = [500, 7]\n",
    "print(inventory)"
   ]
  },
  {
   "cell_type": "code",
   "execution_count": 46,
   "id": "20a2655c",
   "metadata": {
    "ExecuteTime": {
     "end_time": "2024-03-04T13:16:28.043084Z",
     "start_time": "2024-03-04T13:16:28.038645Z"
    }
   },
   "outputs": [
    {
     "name": "stdout",
     "output_type": "stream",
     "text": [
      "['탱크보이', '폴라포', '빵빠레', '월드콘', '메로나']\n"
     ]
    }
   ],
   "source": [
    "icecream = {'탱크보이': 1200, '폴라포': 1200, '빵빠레': 1800, '월드콘': 1500, '메로나': 1000}\n",
    "ice = list(icecream.keys())\n",
    "print(ice)"
   ]
  },
  {
   "cell_type": "code",
   "execution_count": 47,
   "id": "fca2d3c5",
   "metadata": {
    "ExecuteTime": {
     "end_time": "2024-03-04T13:16:39.618797Z",
     "start_time": "2024-03-04T13:16:39.614344Z"
    }
   },
   "outputs": [
    {
     "name": "stdout",
     "output_type": "stream",
     "text": [
      "[1200, 1200, 1800, 1500, 1000]\n"
     ]
    }
   ],
   "source": [
    "icecream = {'탱크보이': 1200, '폴라포': 1200, '빵빠레': 1800, '월드콘': 1500, '메로나': 1000}\n",
    "ice = list(icecream.values())\n",
    "print(ice)"
   ]
  },
  {
   "cell_type": "code",
   "execution_count": 49,
   "id": "57d69c79",
   "metadata": {
    "ExecuteTime": {
     "end_time": "2024-03-04T13:17:59.521339Z",
     "start_time": "2024-03-04T13:17:59.517296Z"
    }
   },
   "outputs": [
    {
     "name": "stdout",
     "output_type": "stream",
     "text": [
      "6700\n"
     ]
    }
   ],
   "source": [
    "icecream = {'탱크보이': 1200, '폴라포': 1200, '빵빠레': 1800, '월드콘': 1500, '메로나': 1000}\n",
    "print(sum(icecream.values()))"
   ]
  },
  {
   "cell_type": "code",
   "execution_count": 50,
   "id": "6bd56453",
   "metadata": {
    "ExecuteTime": {
     "end_time": "2024-03-04T13:29:21.990222Z",
     "start_time": "2024-03-04T13:29:21.985575Z"
    }
   },
   "outputs": [
    {
     "name": "stdout",
     "output_type": "stream",
     "text": [
      "{'탱크보이': 1200, '폴라포': 1200, '빵빠레': 1800, '월드콘': 1500, '메로나': 1000, '팥빙수': 2700, '아맛나': 1000}\n"
     ]
    }
   ],
   "source": [
    "icecream = {'탱크보이': 1200, '폴라포': 1200, '빵빠레': 1800, '월드콘': 1500, '메로나': 1000}\n",
    "new_product = {'팥빙수':2700, '아맛나':1000}\n",
    "icecream.update(new_product)\n",
    "print(icecream)"
   ]
  },
  {
   "cell_type": "code",
   "execution_count": 51,
   "id": "91eebe3d",
   "metadata": {
    "ExecuteTime": {
     "end_time": "2024-03-04T13:33:55.460938Z",
     "start_time": "2024-03-04T13:33:55.456462Z"
    }
   },
   "outputs": [
    {
     "name": "stdout",
     "output_type": "stream",
     "text": [
      "{'apple': 300, 'pear': 250, 'peach': 400}\n"
     ]
    }
   ],
   "source": [
    "keys = (\"apple\", \"pear\", \"peach\")\n",
    "vals = (300, 250, 400)\n",
    "result = dict(zip(keys, vals))\n",
    "print(result)"
   ]
  },
  {
   "cell_type": "code",
   "execution_count": 52,
   "id": "bb251f73",
   "metadata": {
    "ExecuteTime": {
     "end_time": "2024-03-04T13:34:12.646024Z",
     "start_time": "2024-03-04T13:34:12.641174Z"
    }
   },
   "outputs": [
    {
     "name": "stdout",
     "output_type": "stream",
     "text": [
      "{'09/05': 10500, '09/06': 10300, '09/07': 10100, '09/08': 10800, '09/09': 11000}\n"
     ]
    }
   ],
   "source": [
    "date = ['09/05', '09/06', '09/07', '09/08', '09/09']\n",
    "close_price = [10500, 10300, 10100, 10800, 11000]\n",
    "close_table = dict(zip(date, close_price))\n",
    "print(close_table)"
   ]
  },
  {
   "cell_type": "markdown",
   "id": "ed45ec75",
   "metadata": {},
   "source": [
    "101 ~ 150"
   ]
  },
  {
   "cell_type": "code",
   "execution_count": 1,
   "id": "37319dd6",
   "metadata": {
    "ExecuteTime": {
     "end_time": "2024-03-05T14:28:32.160269Z",
     "start_time": "2024-03-05T14:28:32.156487Z"
    }
   },
   "outputs": [
    {
     "name": "stdout",
     "output_type": "stream",
     "text": [
      "False\n"
     ]
    }
   ],
   "source": [
    "print(3 == 5)\n"
   ]
  },
  {
   "cell_type": "code",
   "execution_count": 5,
   "id": "0f2c3d61",
   "metadata": {
    "ExecuteTime": {
     "end_time": "2024-03-05T14:29:17.207660Z",
     "start_time": "2024-03-05T14:29:17.204113Z"
    }
   },
   "outputs": [
    {
     "name": "stdout",
     "output_type": "stream",
     "text": [
      "True\n"
     ]
    }
   ],
   "source": [
    "print(3 <= 4)\n"
   ]
  },
  {
   "cell_type": "code",
   "execution_count": 6,
   "id": "c5d1f59a",
   "metadata": {
    "ExecuteTime": {
     "end_time": "2024-03-05T14:30:38.695741Z",
     "start_time": "2024-03-05T14:30:33.451557Z"
    }
   },
   "outputs": [
    {
     "name": "stdout",
     "output_type": "stream",
     "text": [
      "입력:안녕\n",
      "안녕안녕\n"
     ]
    }
   ],
   "source": [
    "user = input(\"입력:\")\n",
    "print(user * 2)\n"
   ]
  },
  {
   "cell_type": "code",
   "execution_count": 9,
   "id": "e81fca43",
   "metadata": {
    "ExecuteTime": {
     "end_time": "2024-03-05T14:31:25.081781Z",
     "start_time": "2024-03-05T14:31:24.118259Z"
    }
   },
   "outputs": [
    {
     "name": "stdout",
     "output_type": "stream",
     "text": [
      "숫자를 입력하세요: 2\n",
      "12\n"
     ]
    }
   ],
   "source": [
    "user = input(\"숫자를 입력하세요: \")\n",
    "print(10 + int(user))\n"
   ]
  },
  {
   "cell_type": "code",
   "execution_count": 10,
   "id": "76563b2d",
   "metadata": {
    "ExecuteTime": {
     "end_time": "2024-03-05T14:32:45.033081Z",
     "start_time": "2024-03-05T14:32:43.695266Z"
    }
   },
   "outputs": [
    {
     "name": "stdout",
     "output_type": "stream",
     "text": [
      "숫자를 입력하세요: 4\n",
      "짝수\n"
     ]
    }
   ],
   "source": [
    "user = input(\"숫자를 입력하세요: \")\n",
    "if int(user) % 2 == 0:\n",
    "    print('짝수')\n",
    "else:\n",
    "    print('홀수')"
   ]
  },
  {
   "cell_type": "code",
   "execution_count": 16,
   "id": "c36f9a22",
   "metadata": {
    "ExecuteTime": {
     "end_time": "2024-03-05T14:38:05.748031Z",
     "start_time": "2024-03-05T14:38:05.357261Z"
    }
   },
   "outputs": [
    {
     "name": "stdout",
     "output_type": "stream",
     "text": [
      "숫자를 입력하세요: 5\n",
      "25\n"
     ]
    }
   ],
   "source": [
    "user = input(\"숫자를 입력하세요: \")\n",
    "num = int(user) + 20\n",
    "\n",
    "if num > 255:\n",
    "    print(255)\n",
    "else:\n",
    "    print(num)"
   ]
  },
  {
   "cell_type": "code",
   "execution_count": 18,
   "id": "ba55a9f9",
   "metadata": {
    "ExecuteTime": {
     "end_time": "2024-03-05T14:39:22.835662Z",
     "start_time": "2024-03-05T14:39:21.946624Z"
    }
   },
   "outputs": [
    {
     "name": "stdout",
     "output_type": "stream",
     "text": [
      "숫자를 입력하세요: 5\n",
      "0\n"
     ]
    }
   ],
   "source": [
    "user = input(\"숫자를 입력하세요: \")\n",
    "num = int(user) - 20\n",
    "\n",
    "if num > 255:\n",
    "    print(255)\n",
    "elif num < 0:\n",
    "    print(0)\n",
    "else:\n",
    "    print(num)"
   ]
  },
  {
   "cell_type": "code",
   "execution_count": 19,
   "id": "fa60d2b1",
   "metadata": {
    "ExecuteTime": {
     "end_time": "2024-03-05T14:41:06.298739Z",
     "start_time": "2024-03-05T14:41:01.522658Z"
    }
   },
   "outputs": [
    {
     "name": "stdout",
     "output_type": "stream",
     "text": [
      "현재시간: 12:00\n",
      "정각입니다\n"
     ]
    }
   ],
   "source": [
    "time = input(\"현재시간: \")\n",
    "if time[-2:] == '00':\n",
    "    print('정각입니다')\n",
    "else:\n",
    "    print('정각이 아닙니다')"
   ]
  },
  {
   "cell_type": "code",
   "execution_count": 20,
   "id": "a149a83b",
   "metadata": {
    "ExecuteTime": {
     "end_time": "2024-03-05T14:42:45.576008Z",
     "start_time": "2024-03-05T14:42:43.349188Z"
    }
   },
   "outputs": [
    {
     "name": "stdout",
     "output_type": "stream",
     "text": [
      "좋아하는 과일은?사과\n",
      "정답입니다\n"
     ]
    }
   ],
   "source": [
    "word = input('좋아하는 과일은?')\n",
    "fruit = [\"사과\", \"포도\", \"홍시\"]\n",
    "\n",
    "if word in fruit:\n",
    "    print('정답입니다')\n",
    "else:\n",
    "    print('오답입니다')"
   ]
  },
  {
   "cell_type": "code",
   "execution_count": null,
   "id": "9a566e36",
   "metadata": {
    "ExecuteTime": {
     "end_time": "2024-03-05T14:53:29.457629Z",
     "start_time": "2024-03-05T14:53:29.457629Z"
    }
   },
   "outputs": [],
   "source": [
    "warn_investment_list = [\"Microsoft\", \"Google\", \"Naver\", \"Kakao\", \"SAMSUNG\", \"LG\"]\n",
    "종목 = input(\"종목명: \")\n",
    "if 종목 in warn_investment_list:\n",
    "    print(\"투자 경고 종목입니다.\")\n",
    "else:\n",
    "    print(\"투자 경고 종목이 아닙니다.\")\n"
   ]
  },
  {
   "cell_type": "code",
   "execution_count": null,
   "id": "4b1eaa82",
   "metadata": {
    "ExecuteTime": {
     "end_time": "2024-03-05T14:53:29.453630Z",
     "start_time": "2024-03-05T14:53:29.453630Z"
    }
   },
   "outputs": [],
   "source": [
    "user = input(\"제가좋아하는계절은: \")\n",
    "fruit = {\"봄\" : \"딸기\", \"여름\" : \"토마토\", \"가을\" : \"사과\"}\n",
    "\n",
    "if user in fruit:\n",
    "    print(\"정답입니다.\")\n",
    "else:\n",
    "    print(\"오답입니다.\")\n"
   ]
  },
  {
   "cell_type": "code",
   "execution_count": 24,
   "id": "731411a8",
   "metadata": {
    "ExecuteTime": {
     "end_time": "2024-03-05T14:53:50.570457Z",
     "start_time": "2024-03-05T14:53:48.427397Z"
    }
   },
   "outputs": [
    {
     "name": "stdout",
     "output_type": "stream",
     "text": [
      "좋아하는 과일은?딸기\n",
      "정답입니다.\n"
     ]
    }
   ],
   "source": [
    "fruit = {\"봄\" : \"딸기\", \"여름\" : \"토마토\", \"가을\" : \"사과\"}\n",
    "user = input(\"좋아하는 과일은?\")\n",
    "if user in fruit.values():\n",
    "    print(\"정답입니다.\")\n",
    "else:\n",
    "    print(\"오답입니다.\")\n"
   ]
  },
  {
   "cell_type": "code",
   "execution_count": 25,
   "id": "349c9683",
   "metadata": {
    "ExecuteTime": {
     "end_time": "2024-03-05T14:54:41.694067Z",
     "start_time": "2024-03-05T14:54:39.206398Z"
    }
   },
   "outputs": [
    {
     "name": "stdout",
     "output_type": "stream",
     "text": [
      "ab\n",
      "AB\n"
     ]
    }
   ],
   "source": [
    "user = input(\"\")\n",
    "if user.islower():\n",
    "    print(user.upper())\n",
    "else:\n",
    "    print(user.lower())"
   ]
  },
  {
   "cell_type": "code",
   "execution_count": 27,
   "id": "78ff796c",
   "metadata": {
    "ExecuteTime": {
     "end_time": "2024-03-05T15:00:03.881683Z",
     "start_time": "2024-03-05T15:00:02.319970Z"
    }
   },
   "outputs": [
    {
     "name": "stdout",
     "output_type": "stream",
     "text": [
      "score: 70\n",
      "grade is B\n"
     ]
    }
   ],
   "source": [
    "score = input(\"score: \")\n",
    "score = int(score)\n",
    "if 81 <= score <= 100:\n",
    "    print(\"grade is A\")\n",
    "elif 61 <= score <= 80:\n",
    "    print(\"grade is B\")\n",
    "elif 41 <= score <= 60:\n",
    "    print(\"grade is C\")\n",
    "elif 21 <= score <= 40:\n",
    "    print(\"grade is D\")\n",
    "else:\n",
    "    print(\"grade is E\")\n"
   ]
  },
  {
   "cell_type": "code",
   "execution_count": null,
   "id": "0a77e7de",
   "metadata": {
    "ExecuteTime": {
     "end_time": "2024-03-05T14:59:54.212328Z",
     "start_time": "2024-03-05T14:59:54.212328Z"
    }
   },
   "outputs": [],
   "source": [
    "num1 = input(\"input number1: \")\n",
    "num2 = input(\"input number2: \")\n",
    "num3 = input(\"input number3: \")\n",
    "num1 = int(num1)\n",
    "num2 = int(num2)\n",
    "num3 = int(num3)\n",
    "\n",
    "if num1 >= num2 and num1 >= num3:\n",
    "    print(num1)\n",
    "elif num2 >= num1 and num2 >= num3:\n",
    "    print(num2)\n",
    "else:\n",
    "    print(num3)\n"
   ]
  },
  {
   "cell_type": "code",
   "execution_count": 28,
   "id": "d14cfc18",
   "metadata": {
    "ExecuteTime": {
     "end_time": "2024-03-05T15:01:57.396012Z",
     "start_time": "2024-03-05T15:01:49.782501Z"
    }
   },
   "outputs": [
    {
     "name": "stdout",
     "output_type": "stream",
     "text": [
      "휴대전화 번호 입력:010\n",
      "당신은 알수없음 사용자입니다.\n"
     ]
    }
   ],
   "source": [
    "user = input('휴대전화 번호 입력:')\n",
    "num = user.split('-')[0]\n",
    "if num == \"011\":\n",
    "    com = \"SKT\"\n",
    "elif num == \"016\":\n",
    "    com = \"KT\"\n",
    "elif num == \"019\":\n",
    "    com = \"LGU\"\n",
    "else:\n",
    "    com = \"알수없음\"\n",
    "print(f\"당신은 {com} 사용자입니다.\")"
   ]
  },
  {
   "cell_type": "code",
   "execution_count": 30,
   "id": "fd874277",
   "metadata": {
    "ExecuteTime": {
     "end_time": "2024-03-05T15:04:16.678416Z",
     "start_time": "2024-03-05T15:04:09.976579Z"
    }
   },
   "outputs": [
    {
     "name": "stdout",
     "output_type": "stream",
     "text": [
      "우편번호: 01000\n",
      "강북구\n"
     ]
    }
   ],
   "source": [
    "우편번호 = input(\"우편번호: \")\n",
    "우편번호 = 우편번호[:3]\n",
    "if 우편번호 in [\"010\", \"011\", \"012\"]:\n",
    "    print(\"강북구\")\n",
    "elif 우편번호 in [\"014\", \"015\", \"016\"]:\n",
    "    print(\"도봉구\")\n",
    "else:\n",
    "    print(\"노원구\")"
   ]
  },
  {
   "cell_type": "code",
   "execution_count": 31,
   "id": "c70cf38c",
   "metadata": {
    "ExecuteTime": {
     "end_time": "2024-03-05T15:04:29.553519Z",
     "start_time": "2024-03-05T15:04:22.814921Z"
    }
   },
   "outputs": [
    {
     "name": "stdout",
     "output_type": "stream",
     "text": [
      "주민등록번호: 970630-1209227\n",
      "남자\n"
     ]
    }
   ],
   "source": [
    "주민번호 = input(\"주민등록번호: \")\n",
    "주민번호 = 주민번호.split(\"-\")[1]\n",
    "if 주민번호[0] == \"1\" or 주민번호[0] == \"3\":\n",
    "    print(\"남자\")\n",
    "else:\n",
    "    print(\"여자\")\n"
   ]
  },
  {
   "cell_type": "code",
   "execution_count": 32,
   "id": "a13ef552",
   "metadata": {
    "ExecuteTime": {
     "end_time": "2024-03-05T15:06:22.056094Z",
     "start_time": "2024-03-05T15:06:18.267585Z"
    }
   },
   "outputs": [
    {
     "name": "stdout",
     "output_type": "stream",
     "text": [
      "주민등록번호: 970630-1209227\n",
      "서울이 아닙니다.\n"
     ]
    }
   ],
   "source": [
    "주민번호 = input(\"주민등록번호: \")\n",
    "뒷자리 = 주민번호.split(\"-\")[1]\n",
    "if 0 <= int(뒷자리[1:3]) <= 8:\n",
    "    print(\"서울입니다.\")\n",
    "else:\n",
    "    print(\"서울이 아닙니다.\")"
   ]
  },
  {
   "cell_type": "code",
   "execution_count": 33,
   "id": "0ab1a3d9",
   "metadata": {
    "ExecuteTime": {
     "end_time": "2024-03-05T15:09:27.301313Z",
     "start_time": "2024-03-05T15:09:22.574560Z"
    }
   },
   "outputs": [
    {
     "name": "stdout",
     "output_type": "stream",
     "text": [
      "주민등록번호: 970630-1209227\n",
      "유효한 주민등록번호입니다.\n"
     ]
    }
   ],
   "source": [
    "num = input(\"주민등록번호: \")\n",
    "계산1 = int(num[0]) * 2 + int(num[1]) * 3 + int(num[2]) * 4 + int(num[3]) * 5 + int(num[4]) * 6 + \\\n",
    "        int(num[5]) * 7 + int(num[7]) * 8 + int(num[8]) * 9 + int(num[9]) * 2 + int(num[10])* 3 + \\\n",
    "        int(num[11])* 4 + int(num[12]) * 5\n",
    "계산2 = 11 - (계산1 % 11)\n",
    "계산3 = str(계산2)\n",
    "\n",
    "if num[-1] == 계산3[-1]:\n",
    "    print(\"유효한 주민등록번호입니다.\")\n",
    "else:\n",
    "    print(\"유효하지 않은 주민등록번호입니다.\")\n"
   ]
  },
  {
   "cell_type": "code",
   "execution_count": 34,
   "id": "42c21e23",
   "metadata": {
    "ExecuteTime": {
     "end_time": "2024-03-05T15:11:28.826754Z",
     "start_time": "2024-03-05T15:11:28.439695Z"
    }
   },
   "outputs": [
    {
     "name": "stdout",
     "output_type": "stream",
     "text": [
      "상승장\n"
     ]
    }
   ],
   "source": [
    "import requests\n",
    "btc = requests.get(\"https://api.bithumb.com/public/ticker/\").json()['data']\n",
    "\n",
    "변동폭 = float(btc['max_price']) - float(btc['min_price'])\n",
    "시가 = float(btc['opening_price'])\n",
    "최고가 = float(btc['max_price'])\n",
    "\n",
    "if (시가+변동폭) > 최고가:\n",
    "    print(\"상승장\")\n",
    "else:\n",
    "    print(\"하락장\")"
   ]
  },
  {
   "cell_type": "code",
   "execution_count": null,
   "id": "5fbc45fd",
   "metadata": {},
   "outputs": [],
   "source": []
  }
 ],
 "metadata": {
  "kernelspec": {
   "display_name": "Python 3 (ipykernel)",
   "language": "python",
   "name": "python3"
  },
  "language_info": {
   "codemirror_mode": {
    "name": "ipython",
    "version": 3
   },
   "file_extension": ".py",
   "mimetype": "text/x-python",
   "name": "python",
   "nbconvert_exporter": "python",
   "pygments_lexer": "ipython3",
   "version": "3.11.5"
  },
  "toc": {
   "base_numbering": 1,
   "nav_menu": {},
   "number_sections": true,
   "sideBar": true,
   "skip_h1_title": false,
   "title_cell": "Table of Contents",
   "title_sidebar": "Contents",
   "toc_cell": false,
   "toc_position": {},
   "toc_section_display": true,
   "toc_window_display": false
  }
 },
 "nbformat": 4,
 "nbformat_minor": 5
}
