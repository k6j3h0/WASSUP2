{
 "cells": [
  {
   "cell_type": "markdown",
   "id": "d463c30d",
   "metadata": {},
   "source": [
    "# 파이썬 300제"
   ]
  },
  {
   "cell_type": "markdown",
   "id": "4000f382",
   "metadata": {},
   "source": [
    "---"
   ]
  },
  {
   "cell_type": "markdown",
   "id": "873827b9",
   "metadata": {},
   "source": [
    "1 ~ 50"
   ]
  },
  {
   "cell_type": "code",
   "execution_count": 1,
   "id": "57d0abc2",
   "metadata": {
    "ExecuteTime": {
     "end_time": "2024-03-02T01:26:37.820597Z",
     "start_time": "2024-03-02T01:26:37.815538Z"
    },
    "scrolled": true
   },
   "outputs": [
    {
     "name": "stdout",
     "output_type": "stream",
     "text": [
      "Hello World\n"
     ]
    }
   ],
   "source": [
    "print('Hello World')"
   ]
  },
  {
   "cell_type": "code",
   "execution_count": 4,
   "id": "2da13ec8",
   "metadata": {
    "ExecuteTime": {
     "end_time": "2024-03-02T01:29:46.398957Z",
     "start_time": "2024-03-02T01:29:46.394750Z"
    }
   },
   "outputs": [
    {
     "name": "stdout",
     "output_type": "stream",
     "text": [
      "Mary's cosmetics\n"
     ]
    }
   ],
   "source": [
    "print(\"Mary's cosmetics\")"
   ]
  },
  {
   "cell_type": "code",
   "execution_count": 6,
   "id": "49a025a2",
   "metadata": {
    "ExecuteTime": {
     "end_time": "2024-03-02T01:35:31.878480Z",
     "start_time": "2024-03-02T01:35:31.875251Z"
    }
   },
   "outputs": [
    {
     "name": "stdout",
     "output_type": "stream",
     "text": [
      "신씨가 소리질렀다. \"도둑이야\".\n"
     ]
    }
   ],
   "source": [
    "print('신씨가 소리질렀다. \"도둑이야\".')"
   ]
  },
  {
   "cell_type": "code",
   "execution_count": 7,
   "id": "32d1a8fa",
   "metadata": {
    "ExecuteTime": {
     "end_time": "2024-03-02T01:38:24.272739Z",
     "start_time": "2024-03-02T01:38:24.268744Z"
    }
   },
   "outputs": [
    {
     "name": "stdout",
     "output_type": "stream",
     "text": [
      "C:\\Windows\n"
     ]
    }
   ],
   "source": [
    "print('C:\\Windows')"
   ]
  },
  {
   "cell_type": "code",
   "execution_count": 8,
   "id": "f54c59f2",
   "metadata": {
    "ExecuteTime": {
     "end_time": "2024-03-02T01:38:53.548294Z",
     "start_time": "2024-03-02T01:38:53.545038Z"
    }
   },
   "outputs": [
    {
     "name": "stdout",
     "output_type": "stream",
     "text": [
      "안녕하세요.\n",
      "만나서\t\t반갑습니다.\n"
     ]
    }
   ],
   "source": [
    "print(\"안녕하세요.\\n만나서\\t\\t반갑습니다.\")"
   ]
  },
  {
   "cell_type": "code",
   "execution_count": 9,
   "id": "530ebaf1",
   "metadata": {
    "ExecuteTime": {
     "end_time": "2024-03-02T01:39:19.948090Z",
     "start_time": "2024-03-02T01:39:19.944430Z"
    }
   },
   "outputs": [
    {
     "name": "stdout",
     "output_type": "stream",
     "text": [
      "오늘은 일요일\n"
     ]
    }
   ],
   "source": [
    "print (\"오늘은\", \"일요일\")"
   ]
  },
  {
   "cell_type": "code",
   "execution_count": 13,
   "id": "54c3d8d6",
   "metadata": {
    "ExecuteTime": {
     "end_time": "2024-03-02T01:50:25.483158Z",
     "start_time": "2024-03-02T01:50:25.479267Z"
    }
   },
   "outputs": [
    {
     "name": "stdout",
     "output_type": "stream",
     "text": [
      "naver;kakao;samsung\n"
     ]
    }
   ],
   "source": [
    "print(\"naver\", \"kakao\", \"samsung\", sep=\";\")"
   ]
  },
  {
   "cell_type": "code",
   "execution_count": 14,
   "id": "f0a1c995",
   "metadata": {
    "ExecuteTime": {
     "end_time": "2024-03-02T01:51:08.944863Z",
     "start_time": "2024-03-02T01:51:08.941076Z"
    }
   },
   "outputs": [
    {
     "name": "stdout",
     "output_type": "stream",
     "text": [
      "naver/kakao/samsung\n"
     ]
    }
   ],
   "source": [
    "print(\"naver\", \"kakao\", \"samsung\", sep=\"/\")"
   ]
  },
  {
   "cell_type": "code",
   "execution_count": 18,
   "id": "7bde476d",
   "metadata": {
    "ExecuteTime": {
     "end_time": "2024-03-02T01:54:55.797699Z",
     "start_time": "2024-03-02T01:54:55.794173Z"
    }
   },
   "outputs": [
    {
     "name": "stdout",
     "output_type": "stream",
     "text": [
      "firstsecond\n"
     ]
    }
   ],
   "source": [
    "print(\"first\", end=\"\");print(\"second\")"
   ]
  },
  {
   "cell_type": "code",
   "execution_count": 19,
   "id": "935a08fb",
   "metadata": {
    "ExecuteTime": {
     "end_time": "2024-03-02T01:59:33.849630Z",
     "start_time": "2024-03-02T01:59:33.845391Z"
    }
   },
   "outputs": [
    {
     "name": "stdout",
     "output_type": "stream",
     "text": [
      "1.6666666666666667\n"
     ]
    }
   ],
   "source": [
    "print(5/3)"
   ]
  },
  {
   "cell_type": "code",
   "execution_count": 22,
   "id": "f0e64401",
   "metadata": {
    "ExecuteTime": {
     "end_time": "2024-03-02T02:01:35.332105Z",
     "start_time": "2024-03-02T02:01:35.328035Z"
    }
   },
   "outputs": [
    {
     "name": "stdout",
     "output_type": "stream",
     "text": [
      "500000\n"
     ]
    }
   ],
   "source": [
    "삼성전자 = 50000\n",
    "총평가금액 = 삼성전자 * 10\n",
    "print(총평가금액)"
   ]
  },
  {
   "cell_type": "code",
   "execution_count": 23,
   "id": "93398b19",
   "metadata": {
    "ExecuteTime": {
     "end_time": "2024-03-02T02:04:24.284599Z",
     "start_time": "2024-03-02T02:04:24.279701Z"
    }
   },
   "outputs": [
    {
     "name": "stdout",
     "output_type": "stream",
     "text": [
      "298000000000000 <class 'int'>\n",
      "50000 <class 'int'>\n",
      "15.79 <class 'float'>\n"
     ]
    }
   ],
   "source": [
    "시가총액 = 298000000000000\n",
    "현재가 = 50000\n",
    "PER = 15.79\n",
    "print(시가총액, type(시가총액))\n",
    "print(현재가, type(현재가))\n",
    "print(PER, type(PER))"
   ]
  },
  {
   "cell_type": "code",
   "execution_count": 28,
   "id": "c5f41399",
   "metadata": {
    "ExecuteTime": {
     "end_time": "2024-03-02T02:19:21.027455Z",
     "start_time": "2024-03-02T02:19:21.023599Z"
    }
   },
   "outputs": [
    {
     "name": "stdout",
     "output_type": "stream",
     "text": [
      "hello! python\n"
     ]
    }
   ],
   "source": [
    "s = \"hello\"\n",
    "t = \"python\"\n",
    "print(s+'!', t)"
   ]
  },
  {
   "cell_type": "code",
   "execution_count": 29,
   "id": "3a51e37b",
   "metadata": {
    "ExecuteTime": {
     "end_time": "2024-03-02T02:19:40.626555Z",
     "start_time": "2024-03-02T02:19:40.622618Z"
    }
   },
   "outputs": [
    {
     "name": "stdout",
     "output_type": "stream",
     "text": [
      "8\n"
     ]
    }
   ],
   "source": [
    "print(2+2*3)"
   ]
  },
  {
   "cell_type": "code",
   "execution_count": 44,
   "id": "cad98359",
   "metadata": {
    "ExecuteTime": {
     "end_time": "2024-03-02T03:55:02.824907Z",
     "start_time": "2024-03-02T03:55:02.820888Z"
    }
   },
   "outputs": [
    {
     "name": "stdout",
     "output_type": "stream",
     "text": [
      "<class 'int'>\n"
     ]
    }
   ],
   "source": [
    "a = 132\n",
    "print(type(a))"
   ]
  },
  {
   "cell_type": "code",
   "execution_count": 33,
   "id": "1cb4730c",
   "metadata": {
    "ExecuteTime": {
     "end_time": "2024-03-02T02:48:46.788632Z",
     "start_time": "2024-03-02T02:48:46.784281Z"
    }
   },
   "outputs": [
    {
     "name": "stdout",
     "output_type": "stream",
     "text": [
      "720\n"
     ]
    }
   ],
   "source": [
    "num_str = \"720\"\n",
    "num_int = int(num_str)\n",
    "print(num_int)"
   ]
  },
  {
   "cell_type": "code",
   "execution_count": 40,
   "id": "034dea17",
   "metadata": {
    "ExecuteTime": {
     "end_time": "2024-03-02T03:01:26.232920Z",
     "start_time": "2024-03-02T03:01:26.228772Z"
    }
   },
   "outputs": [
    {
     "name": "stdout",
     "output_type": "stream",
     "text": [
      "100 <class 'str'>\n"
     ]
    }
   ],
   "source": [
    "num_int = 100\n",
    "num_str = str(num_int)\n",
    "print(num_str, type(num_str))"
   ]
  },
  {
   "cell_type": "code",
   "execution_count": 42,
   "id": "32a0c52d",
   "metadata": {
    "ExecuteTime": {
     "end_time": "2024-03-02T03:07:53.328240Z",
     "start_time": "2024-03-02T03:07:53.324406Z"
    }
   },
   "outputs": [
    {
     "name": "stdout",
     "output_type": "stream",
     "text": [
      "15.79 <class 'float'>\n"
     ]
    }
   ],
   "source": [
    "num_str = \"15.79\"\n",
    "num_float = float(num_str)\n",
    "print(num_float, type(num_float))"
   ]
  },
  {
   "cell_type": "code",
   "execution_count": 43,
   "id": "16b5c66e",
   "metadata": {
    "ExecuteTime": {
     "end_time": "2024-03-02T03:17:34.952724Z",
     "start_time": "2024-03-02T03:17:34.948528Z"
    }
   },
   "outputs": [
    {
     "name": "stdout",
     "output_type": "stream",
     "text": [
      "2017\n",
      "2018\n",
      "2019\n"
     ]
    }
   ],
   "source": [
    "year = \"2020\"\n",
    "print(int(year)-3)\n",
    "print(int(year)-2)\n",
    "print(int(year)-1)"
   ]
  },
  {
   "cell_type": "code",
   "execution_count": 46,
   "id": "d62729e5",
   "metadata": {
    "ExecuteTime": {
     "end_time": "2024-03-02T03:59:11.391122Z",
     "start_time": "2024-03-02T03:59:11.387311Z"
    }
   },
   "outputs": [
    {
     "name": "stdout",
     "output_type": "stream",
     "text": [
      "1749024\n"
     ]
    }
   ],
   "source": [
    "월금액 = 48584\n",
    "할부개월 = 36\n",
    "총금액 = 월금액*할부개월\n",
    "print(총금액)"
   ]
  },
  {
   "cell_type": "code",
   "execution_count": 47,
   "id": "0f938933",
   "metadata": {
    "ExecuteTime": {
     "end_time": "2024-03-02T04:11:08.535802Z",
     "start_time": "2024-03-02T04:11:08.532274Z"
    }
   },
   "outputs": [
    {
     "name": "stdout",
     "output_type": "stream",
     "text": [
      "p t\n"
     ]
    }
   ],
   "source": [
    "letters = 'python'\n",
    "print(letters[0], letters[2])"
   ]
  },
  {
   "cell_type": "code",
   "execution_count": 48,
   "id": "b0030da1",
   "metadata": {
    "ExecuteTime": {
     "end_time": "2024-03-02T04:13:24.373004Z",
     "start_time": "2024-03-02T04:13:24.368848Z"
    }
   },
   "outputs": [
    {
     "name": "stdout",
     "output_type": "stream",
     "text": [
      "2210\n"
     ]
    }
   ],
   "source": [
    "license_plate = \"24가 2210\"\n",
    "print(license_plate[-4:])"
   ]
  },
  {
   "cell_type": "code",
   "execution_count": 49,
   "id": "ae1ce320",
   "metadata": {
    "ExecuteTime": {
     "end_time": "2024-03-02T04:13:55.435800Z",
     "start_time": "2024-03-02T04:13:55.431322Z"
    }
   },
   "outputs": [
    {
     "name": "stdout",
     "output_type": "stream",
     "text": [
      "홀홀홀\n"
     ]
    }
   ],
   "source": [
    "string = \"홀짝홀짝홀짝\"\n",
    "print(string[::2])"
   ]
  },
  {
   "cell_type": "code",
   "execution_count": 52,
   "id": "c852ee0f",
   "metadata": {
    "ExecuteTime": {
     "end_time": "2024-03-02T04:26:12.677984Z",
     "start_time": "2024-03-02T04:26:12.673564Z"
    }
   },
   "outputs": [
    {
     "name": "stdout",
     "output_type": "stream",
     "text": [
      "NOHTYP\n"
     ]
    }
   ],
   "source": [
    "string = \"PYTHON\"\n",
    "print(string[::-1])"
   ]
  },
  {
   "cell_type": "code",
   "execution_count": 53,
   "id": "307ca6fe",
   "metadata": {
    "ExecuteTime": {
     "end_time": "2024-03-02T04:44:42.325999Z",
     "start_time": "2024-03-02T04:44:42.322210Z"
    }
   },
   "outputs": [
    {
     "name": "stdout",
     "output_type": "stream",
     "text": [
      "010 1111 2222\n"
     ]
    }
   ],
   "source": [
    "phone_number = \"010-1111-2222\"\n",
    "phone_number1 = phone_number.replace(\"-\", \" \")\n",
    "print(phone_number1)"
   ]
  },
  {
   "cell_type": "code",
   "execution_count": 55,
   "id": "c7f9bc8e",
   "metadata": {
    "ExecuteTime": {
     "end_time": "2024-03-02T04:53:14.399744Z",
     "start_time": "2024-03-02T04:53:14.394060Z"
    }
   },
   "outputs": [
    {
     "data": {
      "text/plain": [
       "'011112222'"
      ]
     },
     "execution_count": 55,
     "metadata": {},
     "output_type": "execute_result"
    }
   ],
   "source": [
    "a = \"010-1111-2222\"\n",
    "b = a[:2] + a[4:7] + a[-4:]\n",
    "b"
   ]
  },
  {
   "cell_type": "code",
   "execution_count": 56,
   "id": "dc7c590f",
   "metadata": {
    "ExecuteTime": {
     "end_time": "2024-03-02T04:53:57.748056Z",
     "start_time": "2024-03-02T04:53:57.743626Z"
    }
   },
   "outputs": [
    {
     "name": "stdout",
     "output_type": "stream",
     "text": [
      "01011112222\n"
     ]
    }
   ],
   "source": [
    "phone_number = \"010-1111-2222\"\n",
    "phone_number1 = phone_number.replace(\"-\", \"\")\n",
    "print(phone_number1)"
   ]
  },
  {
   "cell_type": "code",
   "execution_count": 57,
   "id": "25a42c73",
   "metadata": {
    "ExecuteTime": {
     "end_time": "2024-03-02T05:00:55.251972Z",
     "start_time": "2024-03-02T05:00:55.246351Z"
    }
   },
   "outputs": [
    {
     "name": "stdout",
     "output_type": "stream",
     "text": [
      "kr\n"
     ]
    }
   ],
   "source": [
    "url = \"http://sharebook.kr\"\n",
    "url_split = url.split('.')\n",
    "print(url_split[-1])"
   ]
  },
  {
   "cell_type": "code",
   "execution_count": 58,
   "id": "983ddb4d",
   "metadata": {
    "ExecuteTime": {
     "end_time": "2024-03-02T05:03:35.713995Z",
     "start_time": "2024-03-02T05:03:35.361479Z"
    }
   },
   "outputs": [
    {
     "ename": "TypeError",
     "evalue": "'str' object does not support item assignment",
     "output_type": "error",
     "traceback": [
      "\u001b[1;31m---------------------------------------------------------------------------\u001b[0m",
      "\u001b[1;31mTypeError\u001b[0m                                 Traceback (most recent call last)",
      "Cell \u001b[1;32mIn[58], line 2\u001b[0m\n\u001b[0;32m      1\u001b[0m lang \u001b[38;5;241m=\u001b[39m \u001b[38;5;124m'\u001b[39m\u001b[38;5;124mpython\u001b[39m\u001b[38;5;124m'\u001b[39m\n\u001b[1;32m----> 2\u001b[0m lang[\u001b[38;5;241m0\u001b[39m] \u001b[38;5;241m=\u001b[39m \u001b[38;5;124m'\u001b[39m\u001b[38;5;124mP\u001b[39m\u001b[38;5;124m'\u001b[39m\n\u001b[0;32m      3\u001b[0m \u001b[38;5;28mprint\u001b[39m(lang)\n",
      "\u001b[1;31mTypeError\u001b[0m: 'str' object does not support item assignment"
     ]
    }
   ],
   "source": [
    "lang = 'python'\n",
    "lang[0] = 'P'\n",
    "print(lang)"
   ]
  },
  {
   "cell_type": "code",
   "execution_count": null,
   "id": "11ac782c",
   "metadata": {},
   "outputs": [],
   "source": [
    "lang = 'python'\n",
    "lang[0] = 'P'\n",
    "print(lang)"
   ]
  },
  {
   "cell_type": "code",
   "execution_count": 59,
   "id": "253fa9d2",
   "metadata": {
    "ExecuteTime": {
     "end_time": "2024-03-02T05:03:51.581966Z",
     "start_time": "2024-03-02T05:03:51.578412Z"
    }
   },
   "outputs": [
    {
     "name": "stdout",
     "output_type": "stream",
     "text": [
      "python\n"
     ]
    }
   ],
   "source": [
    "lang = 'python'\n",
    "print(lang)"
   ]
  },
  {
   "cell_type": "code",
   "execution_count": 60,
   "id": "02ec3d85",
   "metadata": {
    "ExecuteTime": {
     "end_time": "2024-03-02T05:05:26.434097Z",
     "start_time": "2024-03-02T05:05:26.429835Z"
    }
   },
   "outputs": [
    {
     "name": "stdout",
     "output_type": "stream",
     "text": [
      "Abcdfe2A354A32A\n"
     ]
    }
   ],
   "source": [
    "string = 'abcdfe2a354a32a'\n",
    "string = string.replace('a', 'A')\n",
    "print(string)"
   ]
  },
  {
   "cell_type": "code",
   "execution_count": 61,
   "id": "163ff9d3",
   "metadata": {
    "ExecuteTime": {
     "end_time": "2024-03-02T05:05:40.544550Z",
     "start_time": "2024-03-02T05:05:40.541156Z"
    }
   },
   "outputs": [
    {
     "name": "stdout",
     "output_type": "stream",
     "text": [
      "abcd\n"
     ]
    }
   ],
   "source": [
    "string = 'abcd'\n",
    "string.replace('b', 'B')\n",
    "print(string)"
   ]
  },
  {
   "cell_type": "code",
   "execution_count": 62,
   "id": "7017061a",
   "metadata": {
    "ExecuteTime": {
     "end_time": "2024-03-02T05:06:27.721930Z",
     "start_time": "2024-03-02T05:06:27.717538Z"
    }
   },
   "outputs": [
    {
     "name": "stdout",
     "output_type": "stream",
     "text": [
      "aBcd\n"
     ]
    }
   ],
   "source": [
    "string = 'abcd'\n",
    "string = string.replace('b', 'B')\n",
    "print(string)"
   ]
  },
  {
   "cell_type": "code",
   "execution_count": 63,
   "id": "b70f1c62",
   "metadata": {
    "ExecuteTime": {
     "end_time": "2024-03-02T05:13:48.511297Z",
     "start_time": "2024-03-02T05:13:48.505334Z"
    }
   },
   "outputs": [
    {
     "name": "stdout",
     "output_type": "stream",
     "text": [
      "34\n"
     ]
    }
   ],
   "source": [
    "a = \"3\"\n",
    "b = \"4\"\n",
    "print(a + b)"
   ]
  },
  {
   "cell_type": "code",
   "execution_count": 64,
   "id": "5012ace3",
   "metadata": {
    "ExecuteTime": {
     "end_time": "2024-03-02T05:18:26.869445Z",
     "start_time": "2024-03-02T05:18:26.865748Z"
    }
   },
   "outputs": [
    {
     "name": "stdout",
     "output_type": "stream",
     "text": [
      "HiHiHi\n"
     ]
    }
   ],
   "source": [
    "print(\"Hi\" * 3)"
   ]
  },
  {
   "cell_type": "code",
   "execution_count": 65,
   "id": "4298cc43",
   "metadata": {
    "ExecuteTime": {
     "end_time": "2024-03-02T05:18:39.954969Z",
     "start_time": "2024-03-02T05:18:39.950528Z"
    }
   },
   "outputs": [
    {
     "name": "stdout",
     "output_type": "stream",
     "text": [
      "--------------------------------------------------------------------------------\n"
     ]
    }
   ],
   "source": [
    "print('-' * 80)"
   ]
  },
  {
   "cell_type": "code",
   "execution_count": 68,
   "id": "c1b2654f",
   "metadata": {
    "ExecuteTime": {
     "end_time": "2024-03-02T05:20:45.817692Z",
     "start_time": "2024-03-02T05:20:45.813732Z"
    }
   },
   "outputs": [
    {
     "name": "stdout",
     "output_type": "stream",
     "text": [
      "python java python java python java python java \n"
     ]
    }
   ],
   "source": [
    "t1 = 'python'\n",
    "t2 = 'java'\n",
    "print((t1 + ' ' + t2 + ' ') * 4)"
   ]
  },
  {
   "cell_type": "code",
   "execution_count": 69,
   "id": "d9dcedbb",
   "metadata": {
    "ExecuteTime": {
     "end_time": "2024-03-02T05:28:08.816852Z",
     "start_time": "2024-03-02T05:28:08.812430Z"
    }
   },
   "outputs": [
    {
     "name": "stdout",
     "output_type": "stream",
     "text": [
      "이름: 김민수 나이: 10\n",
      "이름: 이철희 나이: 13\n"
     ]
    }
   ],
   "source": [
    "name1 = \"김민수\" \n",
    "age1 = 10\n",
    "name2 = \"이철희\"\n",
    "age2 = 13\n",
    "print(\"이름: %s 나이: %d\" % (name1, age1))\n",
    "print(\"이름: %s 나이: %d\" % (name2, age2))"
   ]
  },
  {
   "cell_type": "code",
   "execution_count": 74,
   "id": "579c29ef",
   "metadata": {
    "ExecuteTime": {
     "end_time": "2024-03-02T05:31:33.386113Z",
     "start_time": "2024-03-02T05:31:33.382088Z"
    }
   },
   "outputs": [
    {
     "name": "stdout",
     "output_type": "stream",
     "text": [
      "이름: 김민수 나이: 10\n",
      "이름: 이철희 나이: 13\n"
     ]
    }
   ],
   "source": [
    "name1 = \"김민수\" \n",
    "age1 = 10\n",
    "name2 = \"이철희\"\n",
    "age2 = 13\n",
    "print(\"이름: {} 나이: {}\" . format(name1, age1))\n",
    "print(\"이름: {} 나이: {}\" . format(name2, age2))"
   ]
  },
  {
   "cell_type": "code",
   "execution_count": 75,
   "id": "6322a0a6",
   "metadata": {
    "ExecuteTime": {
     "end_time": "2024-03-02T05:38:34.171116Z",
     "start_time": "2024-03-02T05:38:34.166525Z"
    }
   },
   "outputs": [
    {
     "name": "stdout",
     "output_type": "stream",
     "text": [
      "이름: 김민수 나이: 10\n",
      "이름: 이철희 나이: 13\n"
     ]
    }
   ],
   "source": [
    "name1 = \"김민수\" \n",
    "age1 = 10\n",
    "name2 = \"이철희\"\n",
    "age2 = 13\n",
    "print(f\"이름: {name1} 나이: {age1}\")\n",
    "print(f\"이름: {name2} 나이: {age2}\")"
   ]
  },
  {
   "cell_type": "code",
   "execution_count": 76,
   "id": "83cc44ef",
   "metadata": {
    "ExecuteTime": {
     "end_time": "2024-03-02T05:41:04.288339Z",
     "start_time": "2024-03-02T05:41:04.283611Z"
    }
   },
   "outputs": [
    {
     "name": "stdout",
     "output_type": "stream",
     "text": [
      "5969782550 <class 'int'>\n"
     ]
    }
   ],
   "source": [
    "상장주식수 = \"5,969,782,550\"\n",
    "컴마제거 = 상장주식수.replace(\",\", \"\")\n",
    "타입변환 = int(컴마제거)\n",
    "print(타입변환, type(타입변환))"
   ]
  },
  {
   "cell_type": "code",
   "execution_count": 78,
   "id": "b324d9f1",
   "metadata": {
    "ExecuteTime": {
     "end_time": "2024-03-02T05:53:34.233100Z",
     "start_time": "2024-03-02T05:53:34.228838Z"
    }
   },
   "outputs": [
    {
     "name": "stdout",
     "output_type": "stream",
     "text": [
      "2020/03\n"
     ]
    }
   ],
   "source": [
    "분기 = \"2020/03(E) (IFRS연결)\"\n",
    "print(분기[:7])"
   ]
  },
  {
   "cell_type": "code",
   "execution_count": 79,
   "id": "df58ab1f",
   "metadata": {
    "ExecuteTime": {
     "end_time": "2024-03-02T05:57:07.118893Z",
     "start_time": "2024-03-02T05:57:07.114795Z"
    }
   },
   "outputs": [
    {
     "name": "stdout",
     "output_type": "stream",
     "text": [
      "삼성전자\n"
     ]
    }
   ],
   "source": [
    "data = \"   삼성전자    \"\n",
    "data1 = data.strip()\n",
    "print(data1)"
   ]
  },
  {
   "cell_type": "code",
   "execution_count": 82,
   "id": "9eceeee5",
   "metadata": {
    "ExecuteTime": {
     "end_time": "2024-03-02T06:02:52.648942Z",
     "start_time": "2024-03-02T06:02:52.645632Z"
    }
   },
   "outputs": [
    {
     "name": "stdout",
     "output_type": "stream",
     "text": [
      "BTC_KRW\n"
     ]
    }
   ],
   "source": [
    "ticker = \"btc_krw\"\n",
    "ticker = ticker.upper()\n",
    "print(ticker)"
   ]
  },
  {
   "cell_type": "code",
   "execution_count": 83,
   "id": "8f5a6025",
   "metadata": {
    "ExecuteTime": {
     "end_time": "2024-03-02T06:02:55.936041Z",
     "start_time": "2024-03-02T06:02:55.932035Z"
    }
   },
   "outputs": [
    {
     "name": "stdout",
     "output_type": "stream",
     "text": [
      "btc_krw\n"
     ]
    }
   ],
   "source": [
    "ticker = \"BTC_KRW\"\n",
    "ticker = ticker.lower()\n",
    "print(ticker)"
   ]
  },
  {
   "cell_type": "code",
   "execution_count": 91,
   "id": "2f4451d5",
   "metadata": {
    "ExecuteTime": {
     "end_time": "2024-03-02T06:10:40.456662Z",
     "start_time": "2024-03-02T06:10:40.452249Z"
    }
   },
   "outputs": [
    {
     "name": "stdout",
     "output_type": "stream",
     "text": [
      "Hello\n"
     ]
    }
   ],
   "source": [
    "a = \"hello\"\n",
    "a = a.capitalize()\n",
    "print(a)"
   ]
  },
  {
   "cell_type": "code",
   "execution_count": 92,
   "id": "1a8082f1",
   "metadata": {
    "ExecuteTime": {
     "end_time": "2024-03-02T06:34:10.246890Z",
     "start_time": "2024-03-02T06:34:10.241183Z"
    }
   },
   "outputs": [
    {
     "data": {
      "text/plain": [
       "True"
      ]
     },
     "execution_count": 92,
     "metadata": {},
     "output_type": "execute_result"
    }
   ],
   "source": [
    "file_name = \"보고서.xlsx\"\n",
    "file_name.endswith(\"xlsx\")"
   ]
  },
  {
   "cell_type": "code",
   "execution_count": 95,
   "id": "ca25c101",
   "metadata": {
    "ExecuteTime": {
     "end_time": "2024-03-02T06:34:31.823699Z",
     "start_time": "2024-03-02T06:34:31.817260Z"
    }
   },
   "outputs": [
    {
     "data": {
      "text/plain": [
       "True"
      ]
     },
     "execution_count": 95,
     "metadata": {},
     "output_type": "execute_result"
    }
   ],
   "source": [
    "file_name = \"보고서.xlsx\"\n",
    "file_name.endswith((\"xlsx\", \"xls\"))"
   ]
  },
  {
   "cell_type": "code",
   "execution_count": 96,
   "id": "64e1765d",
   "metadata": {
    "ExecuteTime": {
     "end_time": "2024-03-02T06:35:44.362158Z",
     "start_time": "2024-03-02T06:35:44.357303Z"
    }
   },
   "outputs": [
    {
     "data": {
      "text/plain": [
       "True"
      ]
     },
     "execution_count": 96,
     "metadata": {},
     "output_type": "execute_result"
    }
   ],
   "source": [
    "file_name = \"2020_보고서.xlsx\"\n",
    "file_name.startswith(\"2020\")"
   ]
  },
  {
   "cell_type": "code",
   "execution_count": 97,
   "id": "aab856ce",
   "metadata": {
    "ExecuteTime": {
     "end_time": "2024-03-02T06:35:55.351747Z",
     "start_time": "2024-03-02T06:35:55.346451Z"
    }
   },
   "outputs": [
    {
     "data": {
      "text/plain": [
       "['hello', 'world']"
      ]
     },
     "execution_count": 97,
     "metadata": {},
     "output_type": "execute_result"
    }
   ],
   "source": [
    "a = \"hello world\"\n",
    "a.split()"
   ]
  },
  {
   "cell_type": "code",
   "execution_count": 98,
   "id": "6c9be76a",
   "metadata": {
    "ExecuteTime": {
     "end_time": "2024-03-02T06:36:09.174226Z",
     "start_time": "2024-03-02T06:36:09.169583Z"
    }
   },
   "outputs": [
    {
     "data": {
      "text/plain": [
       "['btc', 'krw']"
      ]
     },
     "execution_count": 98,
     "metadata": {},
     "output_type": "execute_result"
    }
   ],
   "source": [
    "ticker = \"btc_krw\"\n",
    "ticker.split(\"_\")"
   ]
  },
  {
   "cell_type": "code",
   "execution_count": 99,
   "id": "ccc76849",
   "metadata": {
    "ExecuteTime": {
     "end_time": "2024-03-02T06:36:18.774660Z",
     "start_time": "2024-03-02T06:36:18.769637Z"
    }
   },
   "outputs": [
    {
     "data": {
      "text/plain": [
       "['2020', '05', '01']"
      ]
     },
     "execution_count": 99,
     "metadata": {},
     "output_type": "execute_result"
    }
   ],
   "source": [
    "date = \"2020-05-01\"\n",
    "date.split(\"-\")"
   ]
  },
  {
   "cell_type": "code",
   "execution_count": 101,
   "id": "9fcd99c3",
   "metadata": {
    "ExecuteTime": {
     "end_time": "2024-03-02T06:36:36.961229Z",
     "start_time": "2024-03-02T06:36:36.957774Z"
    }
   },
   "outputs": [
    {
     "name": "stdout",
     "output_type": "stream",
     "text": [
      "039490\n"
     ]
    }
   ],
   "source": [
    "data = \"039490     \"\n",
    "data = data.rstrip()\n",
    "print(data)"
   ]
  },
  {
   "cell_type": "code",
   "execution_count": null,
   "id": "c11f6b6c",
   "metadata": {},
   "outputs": [],
   "source": []
  }
 ],
 "metadata": {
  "kernelspec": {
   "display_name": "Python 3 (ipykernel)",
   "language": "python",
   "name": "python3"
  },
  "language_info": {
   "codemirror_mode": {
    "name": "ipython",
    "version": 3
   },
   "file_extension": ".py",
   "mimetype": "text/x-python",
   "name": "python",
   "nbconvert_exporter": "python",
   "pygments_lexer": "ipython3",
   "version": "3.11.5"
  },
  "toc": {
   "base_numbering": 1,
   "nav_menu": {},
   "number_sections": true,
   "sideBar": true,
   "skip_h1_title": false,
   "title_cell": "Table of Contents",
   "title_sidebar": "Contents",
   "toc_cell": false,
   "toc_position": {},
   "toc_section_display": true,
   "toc_window_display": true
  }
 },
 "nbformat": 4,
 "nbformat_minor": 5
}
